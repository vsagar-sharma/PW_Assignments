{
  "cells": [
    {
      "cell_type": "markdown",
      "metadata": {
        "id": "header"
      },
      "source": [
        "# Statistics Advanced - 1 | Assignment\n",
        "\n",
        "This Jupyter Notebook provides a complete set of answers and Python code for the Statistics Advanced - 1 Assignment (DA-AG-006)."
      ]
    },
    {
      "cell_type": "markdown",
      "metadata": {
        "id": "q1"
      },
      "source": [
        "## Question 1\n",
        "\n",
        "**What is a random variable in probability theory?**\n",
        "\n",
        "**Answer:**\n",
        "\n",
        "A **random variable** is a variable whose value is determined by the outcome of a random event. It's a function that maps the outcomes of a random process (e.g., a coin toss, a dice roll) to a numerical value. Random variables are denoted by capital letters (e.g., $X$, $Y$), while the specific values they can take are denoted by lowercase letters (e.g., $x$, $y$). For example, if you toss a coin, you could define a random variable $X$ where $X=1$ if the outcome is heads and $X=0$ if the outcome is tails."
      ]
    },
    {
      "cell_type": "markdown",
      "metadata": {
        "id": "q2"
      },
      "source": [
        "## Question 2\n",
        "\n",
        "**What are the types of random variables?**\n",
        "\n",
        "**Answer:**\n",
        "\n",
        "There are two main types of random variables:\n",
        "\n",
        "1.  **Discrete Random Variable:** A variable that can only take on a finite or countably infinite number of values. These are typically outcomes from a counting process, such as the number of heads in 10 coin tosses, the number of cars passing a point in an hour, or the score on a die roll. The probability mass function (PMF) is used to describe the distribution of a discrete random variable.\n",
        "\n",
        "2.  **Continuous Random Variable:** A variable that can take on any value within a given interval. These are typically outcomes from a measurement process, such as height, weight, or temperature. The probability of a continuous random variable taking on any single exact value is zero. The probability density function (PDF) is used to describe the distribution of a continuous random variable."
      ]
    },
    {
      "cell_type": "markdown",
      "metadata": {
        "id": "q3"
      },
      "source": [
        "## Question 3\n",
        "\n",
        "**Explain the difference between discrete and continuous distributions.**\n",
        "\n",
        "**Answer:**\n",
        "\n",
        "**Discrete distributions** are probability distributions for discrete random variables. They assign probabilities to each possible outcome. The sum of all probabilities for all possible outcomes must equal 1. Examples include the Binomial, Poisson, and Hypergeometric distributions. These are often represented by a bar chart or a stem-and-leaf plot.\n",
        "\n",
        "**Continuous distributions** are probability distributions for continuous random variables. They describe the probabilities of a variable falling within a certain range, rather than at a single point. The total area under the probability density curve must equal 1. Examples include the Normal, Uniform, and Exponential distributions. These are often represented by a smooth curve."
      ]
    },
    {
      "cell_type": "markdown",
      "metadata": {
        "id": "q4"
      },
      "source": [
        "## Question 4\n",
        "\n",
        "**What is a binomial distribution, and how is it used in probability?**\n",
        "\n",
        "**Answer:**\n",
        "\n",
        "A **binomial distribution** is a discrete probability distribution that models the number of successes in a fixed number of independent trials. Each trial must have only two possible outcomes, conventionally called \"success\" and \"failure,\" with the probability of success remaining constant for each trial. The distribution is defined by two parameters: $n$ (the number of trials) and $p$ (the probability of success on a single trial).\n",
        "\n",
        "It is used to answer questions like: \"What is the probability of getting exactly 5 heads in 10 coin tosses?\" or \"What is the probability of 8 out of 15 customers making a purchase if the historical purchase rate is 20%?\" "
      ]
    },
    {
      "cell_type": "markdown",
      "metadata": {
        "id": "q5"
      },
      "source": [
        "## Question 5\n",
        "\n",
        "**What is the standard normal distribution, and why is it important?**\n",
        "\n",
        "**Answer:**\n",
        "\n",
        "The **standard normal distribution** is a special type of normal distribution with a mean of 0 and a standard deviation of 1. It is also known as the Z-distribution. Any normal distribution can be transformed into the standard normal distribution by standardizing its values (z-scores). A z-score measures how many standard deviations a data point is from the mean.\n",
        "\n",
        "It is important because it allows us to compare and analyze data from different normal distributions. By converting any normal distribution to the standard normal distribution, we can use a single table or formula to find probabilities and percentiles. It simplifies complex probability calculations and is fundamental to hypothesis testing and confidence intervals."
      ]
    },
    {
      "cell_type": "markdown",
      "metadata": {
        "id": "q6"
      },
      "source": [
        "## Question 6\n",
        "\n",
        "**What is the Central Limit Theorem (CLT), and why is it critical in statistics?**\n",
        "\n",
        "**Answer:**\n",
        "\n",
        "The **Central Limit Theorem (CLT)** states that if you take sufficiently large random samples from any population (regardless of its original distribution), the distribution of the sample means will be approximately a normal distribution. This holds true even if the population itself is not normally distributed.\n",
        "\n",
        "The CLT is critical because it underpins many statistical methods, especially in inferential statistics. It allows us to apply techniques that rely on the normal distribution, such as confidence intervals and hypothesis testing, to a wide range of real-world problems. It's the reason why the normal distribution is so prevalent in statistics, even when we don't know the original population's distribution."
      ]
    },
    {
      "cell_type": "markdown",
      "metadata": {
        "id": "q7"
      },
      "source": [
        "## Question 7\n",
        "\n",
        "**What is the significance of confidence intervals in statistical analysis?**\n",
        "\n",
        "**Answer:**\n",
        "\n",
        "A **confidence interval** is a range of values that is likely to contain the true value of a population parameter with a certain degree of confidence. For example, a 95% confidence interval for the mean height of a population suggests that if we were to take many samples and compute a confidence interval for each, approximately 95% of those intervals would contain the true population mean. It is a more informative estimate than a single point estimate because it provides a measure of uncertainty or precision.\n",
        "\n",
        "The significance of confidence intervals is that they provide a reliable way to quantify the uncertainty associated with a sample estimate. They help us understand how reliable our sample findings are and make more robust conclusions about a population based on sample data."
      ]
    },
    {
      "cell_type": "markdown",
      "metadata": {
        "id": "q8"
      },
      "source": [
        "## Question 8\n",
        "\n",
        "**What is the concept of expected value in a probability distribution?**\n",
        "\n",
        "**Answer:**\n",
        "\n",
        "The **expected value** (or expectation) of a random variable is the long-term average value of the variable. It represents the value you would expect to get if you were to repeat the random process an infinite number of times. It's a weighted average where each possible outcome is weighted by its probability. For a discrete random variable $X$, the expected value $E(X)$ is calculated as the sum of each possible value multiplied by its probability: $E(X) = \\sum x \\cdot P(x)$.\n",
        "\n",
        "In a gambling context, the expected value of a game tells you the average amount you would win or lose per game if you played many times. An expected value of zero means the game is fair."
      ]
    },
    {
      "cell_type": "markdown",
      "metadata": {
        "id": "q9"
      },
      "source": [
        "## Question 9\n",
        "\n",
        "**Write a Python program to generate 1000 random numbers from a normal distribution with mean $=50$ and standard deviation $=5$. Compute its mean and standard deviation using NumPy, and draw a histogram to visualize the distribution.**"
      ]
    },
    {
      "cell_type": "code",
      "execution_count": 1,
      "metadata": {
        "id": "q9_code"
      },
      "outputs": [
        {
          "name": "stdout",
          "output_type": "stream",
          "text": [
            "Generated data mean: 50.0967\n",
            "Generated data standard deviation: 4.8936\n"
          ]
        },
        {
          "data": {
            "image/png": "[encoded data removed]",
            "text/plain": [
              "<Figure size 1000x600 with 1 Axes>"
            ]
          },
          "metadata": {},
          "output_type": "display_data"
        }
      ],
      "source": [
        "import numpy as np\n",
        "import matplotlib.pyplot as plt\n",
        "import seaborn as sns\n",
        "\n",
        "# Set a seed for reproducibility\n",
        "np.random.seed(42)\n",
        "\n",
        "# Generate 1000 random numbers from a normal distribution\n",
        "mu = 50\n",
        "sigma = 5\n",
        "data = np.random.normal(mu, sigma, 1000)\n",
        "\n",
        "# Compute the mean and standard deviation of the generated data\n",
        "computed_mean = np.mean(data)\n",
        "computed_std_dev = np.std(data)\n",
        "\n",
        "print(f\"Generated data mean: {computed_mean:.4f}\")\n",
        "print(f\"Generated data standard deviation: {computed_std_dev:.4f}\")\n",
        "\n",
        "# Draw a histogram to visualize the distribution\n",
        "plt.figure(figsize=(10, 6))\n",
        "sns.histplot(data, bins=30, kde=True, color='lightgreen')\n",
        "plt.title('Histogram of a Normal Distribution', fontsize=16)\n",
        "plt.xlabel('Value', fontsize=12)\n",
        "plt.ylabel('Frequency', fontsize=12)\n",
        "plt.grid(axis='y', alpha=0.75)\n",
        "plt.show()"
      ]
    },
    {
      "cell_type": "markdown",
      "metadata": {
        "id": "q10"
      },
      "source": [
        "## Question 10\n",
        "\n",
        "**You are working as a data analyst for a retail company. The company has collected daily sales data for 2 years and wants you to identify the overall sales trend. Explain how you would apply the Central Limit Theorem to estimate the average sales with a 95% confidence interval.**\n",
        "\n",
        "**daily_sales = [220, 245, 210, 265, 230, 250, 260, 275, 240, 255, 235, 260, 245, 250, 225, 270, 265, 255, 250, 260]**\n",
        "\n",
        "**Answer:**\n",
        "\n",
        "To estimate the average sales, I would use the provided `daily_sales` list as a sample of the total sales data. According to the **Central Limit Theorem (CLT)**, since our sample size is reasonably large (n=20), the distribution of the sample mean will be approximately normal, even if the underlying population of daily sales is not. This allows us to use the standard normal distribution to construct a confidence interval.\n",
        "\n",
        "Here's the process:\n",
        "1.  **Compute the sample mean** ($ \\bar{x} $), which is the average of the given sales data.\n",
        "2.  **Compute the sample standard deviation** ($ s $), which measures the dispersion of the data in our sample.\n",
        "3.  **Find the standard error of the mean** ($ SE = s/\\sqrt{n} $), which is the standard deviation of the sample mean's distribution.\n",
        "4.  **Determine the z-score** for a 95% confidence level, which is $1.96$.\n",
        "5.  **Calculate the margin of error** ($ ME = Z \\cdot SE $).\n",
        "6.  **Construct the confidence interval:** The 95% confidence interval is $[\\bar{x} - ME, \\bar{x} + ME]$.\n",
        "\n",
        "This interval gives us a range within which we are 95% confident that the true average daily sales for the company lie. It's a much more robust estimate than simply stating the sample mean."
      ]
    },
    {
      "cell_type": "code",
      "execution_count": 4,
      "metadata": {
        "id": "q10_code"
      },
      "outputs": [
        {
          "name": "stdout",
          "output_type": "stream",
          "text": [
            "Sample Mean: 248.25\n",
            "Sample Standard Deviation: 17.27\n",
            "Critical Value (t-score): 2.093\n",
            "Standard Error: 3.86\n",
            "Margin of Error: 8.08\n",
            "\n",
            "95% Confidence Interval for Mean Sales: (240.17, 256.33)\n"
          ]
        }
      ],
      "source": [
        "import numpy as np\n",
        "from scipy import stats\n",
        "\n",
        "# Given daily sales data\n",
        "daily_sales = [220, 245, 210, 265, 230, 250, 260, 275, 240, 255, 235, 260, 245, 250, 225, 270, 265, 255, 250, 260]\n",
        "\n",
        "# Convert to numpy array for easier calculation\n",
        "data = np.array(daily_sales)\n",
        "\n",
        "# Calculate the sample mean and standard deviation\n",
        "sample_mean = np.mean(data)\n",
        "sample_std_dev = np.std(data, ddof=1) # Use ddof=1 for sample standard deviation\n",
        "sample_size = len(data)\n",
        "\n",
        "# Find the critical value for a 95% confidence interval\n",
        "# For a 95% confidence interval, alpha = 0.05, and alpha/2 = 0.025\n",
        "# We use the t-distribution because the population standard deviation is unknown\n",
        "# Degrees of freedom (df) = n - 1\n",
        "degrees_of_freedom = sample_size - 1\n",
        "critical_value = stats.t.ppf(q=0.975, df=degrees_of_freedom)\n",
        "\n",
        "# Calculate the standard error of the mean\n",
        "standard_error = sample_std_dev / np.sqrt(sample_size)\n",
        "\n",
        "# Calculate the margin of error\n",
        "margin_of_error = critical_value * standard_error\n",
        "\n",
        "# Calculate the confidence interval\n",
        "confidence_interval_lower = sample_mean - margin_of_error\n",
        "confidence_interval_upper = sample_mean + margin_of_error\n",
        "\n",
        "print(f\"Sample Mean: {sample_mean:.2f}\")\n",
        "print(f\"Sample Standard Deviation: {sample_std_dev:.2f}\")\n",
        "print(f\"Critical Value (t-score): {critical_value:.3f}\")\n",
        "print(f\"Standard Error: {standard_error:.2f}\")\n",
        "print(f\"Margin of Error: {margin_of_error:.2f}\")\n",
        "print(f\"\\n95% Confidence Interval for Mean Sales: ({confidence_interval_lower:.2f}, {confidence_interval_upper:.2f})\")"
      ]
    }
  ],
  "metadata": {
    "colab": {
      "name": "Statistics Advanced Assignment",
      "provenance": []
    },
    "kernelspec": {
      "display_name": ".venv",
      "language": "python",
      "name": "python3"
    },
    "language_info": {
      "codemirror_mode": {
        "name": "ipython",
        "version": 3
      },
      "file_extension": ".py",
      "mimetype": "text/x-python",
      "name": "python",
      "nbconvert_exporter": "python",
      "pygments_lexer": "ipython3",
      "version": "3.11.9"
    }
  },
  "nbformat": 4,
  "nbformat_minor": 5
}
