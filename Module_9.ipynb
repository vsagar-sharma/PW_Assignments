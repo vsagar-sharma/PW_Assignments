{
    "cells": [
        {
            "cell_type": "markdown",
            "metadata": {},
            "source": [
                "# RESTful API & Flask Assignment Answers"
            ]
        },
        {
            "cell_type": "markdown",
            "metadata": {},
            "source": [
                "This notebook contains the answers to the RESTful API & Flask Assignment questions."
            ]
        },
        {
            "cell_type": "markdown",
            "metadata": {},
            "source": [
                "## Installation"
            ]
        },
        {
            "cell_type": "markdown",
            "metadata": {},
            "source": [
                "Run the following cell to install Flask, the primary library used in these questions. This is crucial for running the Flask application code. 🛠️"
            ]
        },
        {
            "cell_type": "code",
            "execution_count": 22,
            "metadata": {},
            "outputs": [
                {
                    "name": "stdout",
                    "output_type": "stream",
                    "text": [
                        "Requirement already satisfied: Flask in d:\\github\\python\\.venv\\lib\\site-packages (3.1.2)\n",
                        "Requirement already satisfied: blinker>=1.9.0 in d:\\github\\python\\.venv\\lib\\site-packages (from Flask) (1.9.0)\n",
                        "Requirement already satisfied: click>=8.1.3 in d:\\github\\python\\.venv\\lib\\site-packages (from Flask) (8.2.1)\n",
                        "Requirement already satisfied: itsdangerous>=2.2.0 in d:\\github\\python\\.venv\\lib\\site-packages (from Flask) (2.2.0)\n",
                        "Requirement already satisfied: jinja2>=3.1.2 in d:\\github\\python\\.venv\\lib\\site-packages (from Flask) (3.1.6)\n",
                        "Requirement already satisfied: markupsafe>=2.1.1 in d:\\github\\python\\.venv\\lib\\site-packages (from Flask) (3.0.2)\n",
                        "Requirement already satisfied: werkzeug>=3.1.0 in d:\\github\\python\\.venv\\lib\\site-packages (from Flask) (3.1.3)\n",
                        "Requirement already satisfied: colorama in d:\\github\\python\\.venv\\lib\\site-packages (from click>=8.1.3->Flask) (0.4.6)\n",
                        "Note: you may need to restart the kernel to use updated packages.\n"
                    ]
                },
                {
                    "name": "stderr",
                    "output_type": "stream",
                    "text": [
                        "\n",
                        "[notice] A new release of pip is available: 25.1.1 -> 25.2\n",
                        "[notice] To update, run: python.exe -m pip install --upgrade pip\n"
                    ]
                }
            ],
            "source": [
                "# Install Flask library\n",
                "%pip install Flask"
            ]
        },
        {
            "cell_type": "markdown",
            "metadata": {},
            "source": [
                "---"
            ]
        },
        {
            "cell_type": "markdown",
            "metadata": {},
            "source": [
                "## Theoretical Questions"
            ]
        },
        {
            "cell_type": "markdown",
            "metadata": {},
            "source": [
                "### 1. What is a RESTful API?\n",
                "\n",
                "**Answer:** A **RESTful API** (Representational State Transfer Application Programming Interface) is an architectural style for designing networked applications. It defines a set of constraints for how web services should operate, primarily focusing on resources and their representation. Key principles include:\n",
                "-   **Statelessness:** Each request from client to server must contain all information needed to understand the request.\n",
                "-   **Client-Server Architecture:** Separation of concerns between client and server.\n",
                "-   **Cacheability:** Responses can be cached to improve performance.\n",
                "-   **Layered System:** Components can be layered to provide scalability, security, etc.\n",
                "-   **Uniform Interface:** Resources are identified by URIs, and standard HTTP methods (GET, POST, PUT, DELETE) are used for operations.\n",
                "\n",
                "RESTful APIs typically communicate over HTTP and return data in formats like JSON or XML."
            ]
        },
        {
            "cell_type": "markdown",
            "metadata": {},
            "source": [
                "### 2. Explain the concept of API specification.\n",
                "\n",
                "**Answer:** An **API specification** (or API documentation) is a comprehensive contract that describes how an API works and how developers can interact with it. It details the endpoints available, the HTTP methods supported for each endpoint, the request and response formats (e.g., JSON schema), authentication requirements, error codes, and any other relevant information. Popular formats for API specifications include OpenAPI (formerly Swagger) and RAML. It helps in: \n",
                "-   **Clear Communication:** Provides a clear understanding for developers consuming the API.\n",
                "-   **Consistency:** Ensures consistent design and behavior across different parts of the API.\n",
                "-   **Automated Tooling:** Can be used to generate client SDKs, server stubs, and interactive documentation (like Swagger UI)."
            ]
        },
        {
            "cell_type": "markdown",
            "metadata": {},
            "source": [
                "### 3. What is Flask, and why is it popular for building APIs?\n",
                "\n",
                "**Answer:** **Flask** is a micro web framework for Python. It is called a \"micro\" framework because it provides the bare essentials for web development without imposing a specific structure or requiring many dependencies. It's popular for building APIs due to its:\n",
                "-   **Simplicity and Lightweightness:** Easy to learn and quick to set up for small to medium-sized projects.\n",
                "-   **Flexibility:** It doesn't force developers to use any particular ORM, templating engine, or other libraries,     allowing them to choose the best tools for their specific needs.\n",
                "-   **Extensibility:** A rich ecosystem of Flask extensions exists for various functionalities like database integration,     authentication, and REST API building (`Flask-RESTful`, `Flask-RESTX`).\n",
                "-   **Pythonic:** Follows Python's principles, making the code readable and idiomatic."
            ]
        },
        {
            "cell_type": "markdown",
            "metadata": {},
            "source": [
                "### 4. What is routing in Flask?\n",
                "\n",
                "**Answer:** **Routing** in Flask refers to the mechanism that maps incoming URL requests to specific Python functions that handle those requests. When a user accesses a particular URL, Flask's routing system determines which function should be executed to generate the appropriate response. This is primarily done using the `@app.route()` decorator, which associates a URL path with a view function."
            ]
        },
        {
            "cell_type": "markdown",
            "metadata": {},
            "source": [
                "### 5. How do you create a simple Flask application?\n",
                "\n",
                "**Answer:** A simple Flask application involves importing `Flask`, creating an app instance, defining a route using `@app.route()`, and running the application. See Practical Question 1 for a code example."
            ]
        },
        {
            "cell_type": "markdown",
            "metadata": {},
            "source": [
                "### 6. What are HTTP methods used in RESTful APIs?\n",
                "\n",
                "**Answer:** HTTP methods (also known as HTTP verbs) define the type of action to be performed on a resource in a RESTful API. The most common ones are:\n",
                "-   **`GET`:** Retrieves (reads) data from a resource. Should be idempotent and safe.\n",
                "-   **`POST`:** Creates a new resource or submits data to be processed. Not idempotent.\n",
                "-   **`PUT`:** Updates an existing resource or creates a new one if it doesn't exist (replaces the entire resource). Idempotent.\n",
                "-   **`PATCH`:** Partially updates an existing resource. Not necessarily idempotent.\n",
                "-   **`DELETE`:** Deletes a resource. Idempotent.\n",
                "\n",
                "Other methods include `HEAD` (like GET but without the response body) and `OPTIONS` (describes communication options)."
            ]
        },
        {
            "cell_type": "markdown",
            "metadata": {},
            "source": [
                "### 7. What is the purpose of the `@app.route()` decorator in Flask?\n",
                "\n",
                "**Answer:** The `@app.route()` decorator in Flask is used to associate a URL path with a Python function. It tells Flask which function should be triggered when a client accesses a specific URL. It is the core mechanism for defining routes and their corresponding view functions in a Flask application.```python\n",
                "from flask import Flask\n",
                "app = Flask(__name__)\n",
                "\n",
                "@app.route('/') # This decorator maps the root URL to the home() function\n",
                "def home():\n",
                "    return 'Hello, World!'\n",
                "```"
            ]
        },
        {
            "cell_type": "markdown",
            "metadata": {},
            "source": [
                "### 8. What is the difference between GET and POST HTTP methods?\n",
                "\n",
                "**Answer:**\n",
                "-   **`GET` Method:**\n",
                "    -   **Purpose:** To retrieve data from the server. It's used for fetching resources.\n",
                "    -   **Data Transmission:** Data is sent in the URL's query parameters (e.g., `?param=value`).\n",
                "    -   **Safety & Idempotence:** Considered \"safe\" (no side effects on the server) and \"idempotent\" (multiple identical requests have the same effect as a single one).\n",
                "    -   **Cacheable:** Responses can be cached.\n",
                "-   **`POST` Method:**\n",
                "    -   **Purpose:** To send data to the server to create or update a resource. It's often used for submitting forms or uploading files.\n",
                "    -   **Data Transmission:** Data is sent in the request body (not visible in the URL).\n",
                "    -   **Safety & Idempotence:** Not considered safe (can have side effects) or idempotent.\n",
                "    -   **Cacheable:** Responses are not typically cached."
            ]
        },
        {
            "cell_type": "markdown",
            "metadata": {},
            "source": [
                "### 9. How do you handle errors in Flask APIs?\n",
                "\n",
                "**Answer:** Flask provides mechanisms to handle errors gracefully, preventing the application from crashing and returning informative responses (often JSON) to API clients:\n",
                "-   **`@app.errorhandler()` decorator:** Used to register a function that handles specific HTTP error codes (e.g., 404 Not Found, 500 Internal Server Error) or Python exceptions.\n",
                "-   **`abort()` function:** Used within a view function to immediately raise an HTTP error with a specific status code.\n",
                "-   **Custom Exception Classes:** Define your own exceptions and handle them with `@app.errorhandler()`.\n",
                "-   **`try-except` blocks:** For handling specific Python exceptions within view functions.\n",
                "See Practical Question 10 for an example of handling a 404 error."
            ]
        },
        {
            "cell_type": "markdown",
            "metadata": {},
            "source": [
                "### 10. How do you connect Flask to a SQL database?\n",
                "\n",
                "**Answer:** Flask itself does not come with built-in database ORM (Object-Relational Mapper) or direct database connectors. You connect Flask to a SQL database by using Python libraries designed for database interaction, typically via Flask extensions:\n",
                "-   **`SQLAlchemy`:** A powerful and flexible Python SQL toolkit and ORM. You can use it directly or via `Flask-SQLAlchemy`.\n",
                "-   **`Flask-SQLAlchemy`:** A Flask extension that provides SQLAlchemy integration for Flask applications,     making database setup and interaction much simpler and more Flask-friendly.\n",
                "-   **`psycopg2` (for PostgreSQL), `mysql-connector-python` (for MySQL), `sqlite3` (built-in for SQLite):**     Raw database drivers can also be used, though ORMs are generally preferred for larger applications due to abstraction and maintainability."
            ]
        },
        {
            "cell_type": "markdown",
            "metadata": {},
            "source": [
                "### 11. What is the role of Flask-SQLAlchemy?\n",
                "\n",
                "**Answer:** **Flask-SQLAlchemy** is a Flask extension that simplifies the integration of SQLAlchemy into Flask applications. Its main role is to provide convenient helpers and configurations for using SQLAlchemy within a Flask context. It manages the database connection, session handling, and query execution, allowing developers to focus more on their application's logic rather than boilerplate database code. It makes defining models, performing queries, and managing transactions more seamless within Flask."
            ]
        },
        {
            "cell_type": "markdown",
            "metadata": {},
            "source": [
                "### 12. What are Flask blueprints, and how are they useful?\n",
                "\n",
                "**Answer:** **Flask Blueprints** are a way to organize your Flask application into smaller, reusable components. Instead of defining all routes and views directly on the main `app` object, you can define them within a Blueprint. This is particularly useful for:\n",
                "-   **Modularity:** Breaking down large applications into logical, manageable modules.\n",
                "-   **Reusability:** Blueprints can be registered with multiple Flask applications.\n",
                "-   **URL Prefixes:** Allows you to define a URL prefix for all routes within a blueprint (e.g., `/admin` for an admin blueprint).\n",
                "-   **Static and Template Folders:** Each blueprint can have its own static files and templates folders, preventing conflicts.\n",
                "See Practical Question 11 for a code example."
            ]
        },
        {
            "cell_type": "markdown",
            "metadata": {},
            "source": [
                "### 13. What is the purpose of Flask's request object?\n",
                "\n",
                "**Answer:** Flask's **`request` object** is a global object (thread-local proxy) that provides access to incoming request data for the current request. Its purpose is to encapsulate all the information sent by the client in an HTTP request. It allows your view functions to easily access data such as:\n",
                "-   **Form data:** `request.form` (for `POST` requests).\n",
                "-   **Query parameters:** `request.args` (for `GET` requests).\n",
                "-   **JSON data:** `request.json` or `request.get_json()`.\n",
                "-   **HTTP method:** `request.method`.\n",
                "-   **Headers:** `request.headers`.\n",
                "-   **Files:** `request.files` (for file uploads)."
            ]
        },
        {
            "cell_type": "markdown",
            "metadata": {},
            "source": [
                "### 14. How do you create a RESTful API endpoint using Flask?\n",
                "\n",
                "**Answer:** Creating a RESTful API endpoint in Flask typically involves defining a route that responds to specific HTTP methods (GET, POST, PUT, DELETE) and returns data, often in JSON format, using `jsonify()`.\n",
                "```python\n",
                "from flask import Flask, jsonify, request\n",
                "\n",
                "app = Flask(__name__)\n",
                "\n",
                "tasks = [\n",
                "    {'id': 1, 'title': 'Buy groceries', 'done': False},\n",
                "    {'id': 2, 'title': 'Learn Flask', 'done': True}\n",
                "]\n",
                "\n",
                "@app.route('/tasks', methods=['GET'])\n",
                "def get_tasks():\n",
                "    return jsonify({'tasks': tasks})\n",
                "\n",
                "@app.route('/tasks', methods=['POST'])\n",
                "def create_task():\n",
                "    if not request.json or not 'title' in request.json:\n",
                "        # In a real API, you'd return a 400 Bad Request here\n",
                "        return jsonify({'error': 'Bad Request: Missing title'}), 400\n",
                "    new_task = {\n",
                "        'id': tasks[-1]['id'] + 1 if tasks else 1,\n",
                "        'title': request.json['title'],\n",
                "        'done': False\n",
                "    }\n",
                "    tasks.append(new_task)\n",
                "    return jsonify({'task': new_task}), 201 # 201 Created status code\n",
                "\n",
                "# To run this app, save it as a .py file (e.g., api_app.py) and run: flask run\n",
                "if __name__ == '__main__':\n",
                "    app.run(debug=True)\n",
                "```"
            ]
        },
        {
            "cell_type": "markdown",
            "metadata": {},
            "source": [
                "### 15. What is the purpose of Flask's `jsonify()` function?\n",
                "\n",
                "**Answer:** Flask's `jsonify()` function is a utility function used to serialize data into JSON format and return it as a Flask response with the appropriate `Content-Type: application/json` header. It automatically converts Python dictionaries or lists into JSON strings, making it convenient for building RESTful APIs where JSON is the standard data exchange format. It also ensures proper encoding and header setting."
            ]
        },
        {
            "cell_type": "markdown",
            "metadata": {},
            "source": [
                "### 16. Explain Flask's `url_for()` function.\n",
                "\n",
                "**Answer:** Flask's `url_for()` function is used for **URL building** or **reverse URL lookups**. Instead of hardcoding URLs in your templates or Python code, you pass the name of the view function to `url_for()`, and it generates the correct URL dynamically. This is highly recommended because:\n",
                "-   **Flexibility:** If you change the URL pattern of a route, you only need to update the `@app.route()` decorator; `url_for()` will automatically generate the correct new URL.\n",
                "-   **Maintainability:** Reduces hardcoding and makes your code more robust.\n",
                "-   **Handling Variables:** Can correctly generate URLs for routes that accept variable parts.\n",
                "See Practical Question 5 for a code example."
            ]
        },
        {
            "cell_type": "markdown",
            "metadata": {},
            "source": [
                "### 17. How does Flask handle static files (CSS, JavaScript, etc.)?\n",
                "\n",
                "**Answer:** Flask automatically serves static files (CSS, JavaScript, images, etc.) from a folder named `static` located in the same directory as your main Flask application file. You can then reference these files in your templates using the `url_for()` function with the special endpoint name `'static'`. For example: `url_for('static', filename='css/style.css')`.See Practical Question 2 for a code example."
            ]
        },
        {
            "cell_type": "markdown",
            "metadata": {},
            "source": [
                "### 18. What is an API specification, and how does it help in building a Flask API?\n",
                "\n",
                "**Answer:** This question is a duplicate of Q2. An **API specification** (or API documentation) is a comprehensive contract that describes how an API works and how developers can interact with it. It details the endpoints available, the HTTP methods supported for each endpoint, the request and response formats (e.g., JSON schema), authentication requirements, error codes, and any other relevant information. In building a Flask API, an API specification helps maintain consistency, clarify communication between backend and frontend developers, and can even be used to auto-generate code or interactive documentation using tools like `Flask-RESTX` (which integrates Swagger/OpenAPI)."
            ]
        },
        {
            "cell_type": "markdown",
            "metadata": {},
            "source": [
                "### 19. What are HTTP status codes, and why are they important in a Flask API?\n",
                "\n",
                "**Answer:** **HTTP status codes** are three-digit numbers returned by a server in response to a client's HTTP request. They indicate the outcome of the request (e.g., success, client error, server error). They are crucial in a Flask API because:\n",
                "-   **Communication:** They provide standardized, machine-readable feedback to the client about the request's result.\n",
                "-   **Client Behavior:** Clients (web browsers, mobile apps) rely on these codes to determine how to proceed (e.g., retry, show an error message).\n",
                "-   **Debugging:** Helps in troubleshooting API issues.\n",
                "-   **Standardization:** Ensures consistent API responses across different services.\n",
                "\n",
                "**Common codes:**\n",
                "-   `2xx` (Success): `200 OK`, `201 Created`, `204 No Content`.\n",
                "-   `4xx` (Client Error): `400 Bad Request`, `401 Unauthorized`, `403 Forbidden`, `404 Not Found`, `405 Method Not Allowed`.\n",
                "-   `5xx` (Server Error): `500 Internal Server Error`, `503 Service Unavailable`.\n",
                "In Flask, you can return a status code by adding it as a second return value: `return jsonify({'message': 'Created'}), 201`."
            ]
        },
        {
            "cell_type": "markdown",
            "metadata": {},
            "source": [
                "### 20. How do you handle POST requests in Flask?\n",
                "\n",
                "**Answer:** You handle `POST` requests in Flask by specifying `methods=['POST']` in the `@app.route()` decorator for a particular view function. Inside the function, you typically access the data sent in the request body using the `request` object, often `request.form` for form data or `request.json` (or `request.get_json()`) for JSON data.\n",
                "See Practical Question 3 and 6 for examples."
            ]
        },
        {
            "cell_type": "markdown",
            "metadata": {},
            "source": [
                "### 21. How would you secure a Flask API?\n",
                "\n",
                "**Answer:** Securing a Flask API involves several measures:\n",
                "-   **Authentication:** Verify the identity of the client (e.g., JWT, OAuth, API Keys).\n",
                "-   **Authorization:** Control what authenticated clients can access or modify.\n",
                "-   **HTTPS:** Always use HTTPS to encrypt communication and prevent eavesdropping.\n",
                "-   **Input Validation:** Sanitize and validate all user inputs to prevent injection attacks (SQL injection, XSS).\n",
                "-   **Rate Limiting:** Prevent abuse by limiting the number of requests a client can make (e.g., `Flask-Limiter`).\n",
                "-   **CORS (Cross-Origin Resource Sharing):** Properly configure CORS headers to restrict which domains can access your API (e.g., `Flask-CORS`).\n",
                "-   **Error Handling:** Provide generic error messages and avoid leaking sensitive information in error responses.\n",
                "-   **Secret Key:** Use a strong `app.secret_key` for session management and other security-sensitive operations."
            ]
        },
        {
            "cell_type": "markdown",
            "metadata": {},
            "source": [
                "### 22. What is the significance of the Flask-RESTful extension?\n",
                "\n",
                "**Answer:** **Flask-RESTful** (or its successor `Flask-RESTX`) is a Flask extension that provides tools and conventions for quickly building REST APIs. Its significance lies in simplifying API development by:\n",
                "-   **Resource Abstraction:** Allows you to define API resources as classes, making the code more organized and object-oriented.\n",
                "-   **Request Parsing:** Helps in parsing and validating incoming request data.\n",
                "-   **Error Handling:** Provides standardized error responses.\n",
                "-   **Swagger/OpenAPI Integration:** (Especially `Flask-RESTX`) Offers automatic generation of API documentation (Swagger UI).\n",
                "-   **Marshalling:** Simplifies the process of serializing Python objects into JSON responses."
            ]
        },
        {
            "cell_type": "markdown",
            "metadata": {},
            "source": [
                "### 23. What is the role of Flask's session object?\n",
                "\n",
                "**Answer:** Flask's **`session` object** provides a way to store data that is specific to a user from one request to the next. It acts like a dictionary that stores data on the server-side, but it's managed by sending a signed cookie to the client's browser. The role of the session object is to:\n",
                "-   **Maintain User State:** Store user-specific information (e.g., logged-in status, user ID, preferences) across multiple requests.\n",
                "-   **Security:** The session data is cryptographically signed to prevent tampering, requiring a `secret_key` for the Flask application.\n",
                "-   **Convenience:** Abstracts away the complexities of cookie management and state persistence for user sessions."
            ]
        },
        {
            "cell_type": "markdown",
            "metadata": {},
            "source": [
                "## Practical Questions"
            ]
        },
        {
            "cell_type": "markdown",
            "metadata": {},
            "source": [
                "### General Note for Practical Flask Questions:\n",
                "\n",
                "To run the Flask applications or test the Flask-specific features shown below, you will typically need to:\n",
                "1.  **Copy the code into a Python file** (e.g., `app.py`).\n",
                "2.  **Save the file** in a directory.\n",
                "3.  **Open your terminal or command prompt**, navigate to that directory.\n",
                "4.  **Set the Flask environment variable:** `export FLASK_APP=app.py` (Linux/macOS) or `set FLASK_APP=app.py` (Windows).\n",
                "5.  **Run the Flask development server:** `flask run` (or `python -m flask run` if `flask` command is not in PATH).\n",
                "6.  **Access the URLs** from your web browser or a tool like Postman/curl.\n",
                "\n",
                "Directly running `app.run()` inside a Jupyter cell can sometimes block the kernel or behave unexpectedly for interactive web servers. The provided code focuses on demonstrating the Flask constructs."
            ]
        },
        {
            "cell_type": "markdown",
            "metadata": {},
            "source": [
                "### 1. How do you create a basic Flask application?"
            ]
        },
        {
            "cell_type": "code",
            "execution_count": 23,
            "metadata": {},
            "outputs": [
                {
                    "name": "stdout",
                    "output_type": "stream",
                    "text": [
                        "To run this app: Save this code as a .py file (e.g., app.py), then in terminal:\n",
                        "export FLASK_APP=app.py\n",
                        "flask run\n"
                    ]
                }
            ],
            "source": [
                "from flask import Flask\n",
                "\n",
                "# Create a Flask application instance\n",
                "app = Flask(__name__)\n",
                "\n",
                "# Define a route for the home page\n",
                "@app.route('/')\n",
                "def hello_world():\n",
                "    return 'Hello, World! This is a basic Flask app.'\n",
                "\n",
                "# This block allows you to run the app directly from this file.\n",
                "# In a production environment, you'd use a WSGI server like Gunicorn or uWSGI.\n",
                "if __name__ == '__main__':\n",
                "    print(\"To run this app: Save this code as a .py file (e.g., app.py), then in terminal:\")\n",
                "    print(\"export FLASK_APP=app.py\")\n",
                "    print(\"flask run\")\n",
                "    # app.run(debug=True) # Uncomment to run directly in a script, but not ideal for Jupyter cells\n"
            ]
        },
        {
            "cell_type": "markdown",
            "metadata": {},
            "source": [
                "### 2. How do you serve static files like images or CSS in Flask?"
            ]
        },
        {
            "cell_type": "code",
            "execution_count": 24,
            "metadata": {},
            "outputs": [
                {
                    "name": "stdout",
                    "output_type": "stream",
                    "text": [
                        "Created dummy static/css/style.css for demonstration.\n",
                        "Created dummy templates/static_example.html for demonstration.\n",
                        "\n",
                        "To test this: Save this code, the static/css/style.css, and templates/static_example.html files.\n",
                        "Then run the Flask app as described in the general note.\n",
                        "Access: http://127.0.0.1:5000/static_test\n"
                    ]
                }
            ],
            "source": [
                "# Create dummy static directory and file for demonstration\n",
                "import os\n",
                "\n",
                "\n",
                "static_dir = 'static'\n",
                "css_dir = os.path.join(static_dir, 'css')\n",
                "if not os.path.exists(css_dir):\n",
                "    os.makedirs(css_dir)\n",
                "with open(os.path.join(css_dir, 'style.css'), 'w') as f:\n",
                "    f.write('body { font-family: Arial, sans-serif; background-color: #f0f0f0; }\\n')\n",
                "    f.write('h1 { color: navy; }\\n')\n",
                "print(\"Created dummy static/css/style.css for demonstration.\")\n",
                "\n",
                "# Create a dummy templates directory and file for demonstration\n",
                "templates_dir = 'templates'\n",
                "if not os.path.exists(templates_dir):\n",
                "    os.makedirs(templates_dir)\n",
                "with open(os.path.join(templates_dir, 'static_example.html'), 'w') as f:\n",
                "    f.write('<!DOCTYPE html>\\n')\n",
                "    f.write('<html lang=\"en\">\\n')\n",
                "    f.write('<head>\\n')\n",
                "    f.write('    <meta charset=\"UTF-8\">\\n')\n",
                "    f.write('    <meta name=\"viewport\" content=\"width=device-width, initial-scale=1.0\">\\n')\n",
                "    f.write('    <title>Static Files Example</title>\\n')\n",
                "    f.write(\"    <link rel=\\\"stylesheet\\\" href=\\\"{{ url_for('static', filename='css/style.css') }}\\\">\\n\")\n",
                "    f.write('</head>\\n')\n",
                "    f.write('<body>\\n')\n",
                "    f.write('    <h1>Hello from Static Files!</h1>\\n')\n",
                "    f.write('    <p>This page uses a CSS file served by Flask.</p>\\n')\n",
                "    f.write('</body>\\n')\n",
                "    f.write('</html>')\n",
                "print(\"Created dummy templates/static_example.html for demonstration.\")\n",
                "\n",
                "from flask import Flask, render_template, url_for\n",
                "\n",
                "app = Flask(__name__)\n",
                "\n",
                "@app.route('/static_test')\n",
                "def static_test():\n",
                "    # Flask automatically looks for 'static' folder for static files\n",
                "    # and 'templates' folder for templates.\n",
                "    return render_template('static_example.html')\n",
                "\n",
                "if __name__ == '__main__':\n",
                "    print(\"\\nTo test this: Save this code, the static/css/style.css, and templates/static_example.html files.\")\n",
                "    print(\"Then run the Flask app as described in the general note.\")\n",
                "    print(\"Access: http://127.0.0.1:5000/static_test\")\n",
                "    # app.run(debug=True)"
            ]
        },
        {
            "cell_type": "markdown",
            "metadata": {},
            "source": [
                "### 3. How do you define different routes with different HTTP methods in Flask?"
            ]
        },
        {
            "cell_type": "code",
            "execution_count": 25,
            "metadata": {},
            "outputs": [
                {
                    "name": "stdout",
                    "output_type": "stream",
                    "text": [
                        "To test this: Save this code as a .py file and run the Flask app.\n",
                        "Use tools like Postman or curl to send GET, POST, PUT requests to http://127.0.0.1:5000/data\n"
                    ]
                }
            ],
            "source": [
                "from flask import Flask, request, jsonify\n",
                "\n",
                "app = Flask(__name__)\n",
                "\n",
                "@app.route('/data', methods=['GET'])\n",
                "def get_data():\n",
                "    return jsonify({\"message\": \"This is GET data!\"})\n",
                "\n",
                "@app.route('/data', methods=['POST'])\n",
                "def post_data():\n",
                "    # Check if request has JSON data\n",
                "    if request.is_json:\n",
                "        received_data = request.json\n",
                "        return jsonify({\"message\": \"Data received via POST (JSON)\", \"data\": received_data}), 200\n",
                "    else:\n",
                "        received_data = request.form # For form-encoded data\n",
                "        return jsonify({\"message\": \"Data received via POST (Form)\", \"data\": dict(received_data)}), 200\n",
                "\n",
                "@app.route('/data', methods=['PUT'])\n",
                "def put_data():\n",
                "    return jsonify({\"message\": \"This is PUT data!\"})\n",
                "\n",
                "if __name__ == '__main__':\n",
                "    print(\"To test this: Save this code as a .py file and run the Flask app.\")\n",
                "    print(\"Use tools like Postman or curl to send GET, POST, PUT requests to http://127.0.0.1:5000/data\")\n",
                "    # Example curl commands:\n",
                "    # GET: curl http://127.0.0.1:5000/data\n",
                "    # POST (JSON): curl -X POST -H \"Content-Type: application/json\" -d '{\"item\": \"new_item\"}' http://127.0.0.1:5000/data\n",
                "    # PUT: curl -X PUT http://127.0.0.1:5000/data\n",
                "    # app.run(debug=True)"
            ]
        },
        {
            "cell_type": "markdown",
            "metadata": {},
            "source": [
                "### 4. How do you render HTML templates in Flask?"
            ]
        },
        {
            "cell_type": "code",
            "execution_count": 26,
            "metadata": {},
            "outputs": [
                {
                    "name": "stdout",
                    "output_type": "stream",
                    "text": [
                        "Created dummy templates/index.html for demonstration.\n",
                        "\n",
                        "To test this: Save this code, and the templates/index.html file.\n",
                        "Then run the Flask app as described in the general note.\n",
                        "Access: http://127.0.0.1:5000/hello\n"
                    ]
                }
            ],
            "source": [
                "# Ensure the 'templates' directory exists from PQ2, or create it.\n",
                "templates_dir = 'templates'\n",
                "if not os.path.exists(templates_dir):\n",
                "    os.makedirs(templates_dir)\n",
                "\n",
                "# Create a dummy HTML template file\n",
                "with open(os.path.join(templates_dir, 'index.html'), 'w') as f:\n",
                "    f.write('<!DOCTYPE html>\\n')\n",
                "    f.write('<html lang=\"en\">\\n')\n",
                "    f.write('<head>\\n')\n",
                "    f.write('    <meta charset=\"UTF-8\">\\n')\n",
                "    f.write('    <meta name=\"viewport\" content=\"width=device-width, initial-scale=1.0\">\\n')\n",
                "    f.write('    <title>{{ title }}</title>\\n')\n",
                "    f.write('</head>\\n')\n",
                "    f.write('<body>\\n')\n",
                "    f.write('    <h1>Welcome, {{ user }}!</h1>\\n')\n",
                "    f.write('    <p>This is a demonstration of rendering HTML templates in Flask.</p>\\n')\n",
                "    f.write('    <ul>')\n",
                "    f.write('        {% for item in items %}\\n')\n",
                "    f.write('        <li>{{ item }}</li>\\n')\n",
                "    f.write('        {% endfor %}\\n')\n",
                "    f.write('    </ul>')\n",
                "    f.write('</body>\\n')\n",
                "    f.write('</html>')\n",
                "print(\"Created dummy templates/index.html for demonstration.\")\n",
                "\n",
                "from flask import Flask, render_template\n",
                "\n",
                "app = Flask(__name__)\n",
                "\n",
                "@app.route('/hello')\n",
                "def hello_template():\n",
                "    # Flask will look for 'index.html' inside the 'templates' folder.\n",
                "    # You can pass variables to the template as keyword arguments.\n",
                "    return render_template('index.html', title='Flask Template Example', user='DevUser', items=['Item 1', 'Item 2', 'Item 3'])\n",
                "\n",
                "if __name__ == '__main__':\n",
                "    print(\"\\nTo test this: Save this code, and the templates/index.html file.\")\n",
                "    print(\"Then run the Flask app as described in the general note.\")\n",
                "    print(\"Access: http://127.0.0.1:5000/hello\")\n",
                "    # app.run(debug=True)"
            ]
        },
        {
            "cell_type": "markdown",
            "metadata": {},
            "source": [
                "### 5. How can you generate URLs for routes in Flask using `url_for`?"
            ]
        },
        {
            "cell_type": "code",
            "execution_count": 27,
            "metadata": {},
            "outputs": [
                {
                    "name": "stdout",
                    "output_type": "stream",
                    "text": [
                        "To test this: Save this code as a .py file and run the Flask app.\n",
                        "Access: http://127.0.0.1:5000/generate_urls\n"
                    ]
                }
            ],
            "source": [
                "from flask import Flask, url_for\n",
                "\n",
                "app = Flask(__name__)\n",
                "\n",
                "@app.route('/dashboard')\n",
                "def dashboard():\n",
                "    return \"Welcome to the dashboard!\"\n",
                "\n",
                "@app.route('/user/<username>')\n",
                "def show_user_profile(username):\n",
                "    return f\"User: {username}\"\n",
                "\n",
                "@app.route('/generate_urls')\n",
                "def generate_urls():\n",
                "    # Use app.test_request_context() to generate URLs outside of an actual request\n",
                "    # This is for demonstration purposes in a script/notebook\n",
                "    with app.test_request_context():\n",
                "        home_url = url_for('dashboard')\n",
                "        alice_profile_url = url_for('show_user_profile', username='Alice')\n",
                "        bob_profile_url = url_for('show_user_profile', username='Bob', _external=True) # _external=True to get full URL\n",
                "        \n",
                "        output = f\"Dashboard URL: {home_url}\\n\"\n",
                "        output += f\"Alice Profile URL: {alice_profile_url}\\n\"\n",
                "        output += f\"Bob Profile (external) URL: {bob_profile_url}\\n\"\n",
                "        return output\n",
                "\n",
                "if __name__ == '__main__':\n",
                "    print(\"To test this: Save this code as a .py file and run the Flask app.\")\n",
                "    print(\"Access: http://127.0.0.1:5000/generate_urls\")\n",
                "    # app.run(debug=True)"
            ]
        },
        {
            "cell_type": "markdown",
            "metadata": {},
            "source": [
                "### 6. How do you handle forms in Flask?"
            ]
        },
        {
            "cell_type": "code",
            "execution_count": 28,
            "metadata": {},
            "outputs": [
                {
                    "name": "stdout",
                    "output_type": "stream",
                    "text": [
                        "Created dummy templates/form_example.html for demonstration.\n",
                        "\n",
                        "To test this: Save this code and templates/form_example.html.\n",
                        "Then run the Flask app as described in the general note.\n",
                        "Access: http://127.0.0.1:5000/form\n"
                    ]
                }
            ],
            "source": [
                "# Create a dummy templates directory if it doesn't exist.\n",
                "templates_dir = 'templates'\n",
                "if not os.path.exists(templates_dir):\n",
                "    os.makedirs(templates_dir)\n",
                "\n",
                "# Create a dummy HTML form file\n",
                "with open(os.path.join(templates_dir, 'form_example.html'), 'w') as f:\n",
                "    f.write('<!DOCTYPE html>\\n')\n",
                "    f.write('<html lang=\"en\">\\n')\n",
                "    f.write('<head>\\n')\n",
                "    f.write('    <meta charset=\"UTF-8\">\\n')\n",
                "    f.write('    <meta name=\"viewport\" content=\"width=device-width, initial-scale=1.0\">\\n')\n",
                "    f.write('    <title>Flask Form Example</title>\\n')\n",
                "    f.write('</head>\\n')\n",
                "    f.write('<body>\\n')\n",
                "    f.write('    <h1>Simple Form</h1>\\n')\n",
                "    f.write('    <form method=\"POST\" action=\"{{ url_for(\\'handle_form\\') }}\">\\n')\n",
                "    f.write('        <label for=\"name\">Name:</label><br>\\n')\n",
                "    f.write('        <input type=\"text\" id=\"name\" name=\"name\"><br><br>\\n')\n",
                "    f.write('        <label for=\"email\">Email:</label><br>\\n')\n",
                "    f.write('        <input type=\"email\" id=\"email\" name=\"email\"><br><br>\\n')\n",
                "    f.write('        <input type=\"submit\" value=\"Submit\" aria-label=\"Submit the form\">\\n')\n",
                "    f.write('    </form>\\n')\n",
                "    f.write('    {% if name %}\\n')\n",
                "    f.write('        <h2>Submitted Data:</h2>\\n')\n",
                "    f.write('        <p>Name: {{ name }}</p>\\n')\n",
                "    f.write('        <p>Email: {{ email }}</p>\\n')\n",
                "    f.write('    {% endif %}\\n')\n",
                "    f.write('</body>\\n')\n",
                "    f.write('</html>')\n",
                "print(\"Created dummy templates/form_example.html for demonstration.\")\n",
                "\n",
                "from flask import Flask, request, render_template\n",
                "\n",
                "app = Flask(__name__)\n",
                "\n",
                "@app.route('/form', methods=['GET', 'POST'])\n",
                "def handle_form():\n",
                "    if request.method == 'POST':\n",
                "        # Access form data using request.form (a dictionary-like object)\n",
                "        name = request.form['name']\n",
                "        email = request.form['email']\n",
                "        return render_template('form_example.html', name=name, email=email)\n",
                "    # For GET request, just render the empty form\n",
                "    return render_template('form_example.html')\n",
                "\n",
                "if __name__ == '__main__':\n",
                "    print(\"\\nTo test this: Save this code and templates/form_example.html.\")\n",
                "    print(\"Then run the Flask app as described in the general note.\")\n",
                "    print(\"Access: http://127.0.0.1:5000/form\")\n",
                "    # app.run(debug=True)"
            ]
        },
        {
            "cell_type": "markdown",
            "metadata": {},
            "source": [
                "### 7. How can you validate form data in Flask?"
            ]
        },
        {
            "cell_type": "code",
            "execution_count": 29,
            "metadata": {},
            "outputs": [
                {
                    "name": "stdout",
                    "output_type": "stream",
                    "text": [
                        "\n",
                        "To test this: Save this code and templates/form_example.html.\n",
                        "Ensure you have a line like <ul class=flashes>{% for message in get_flashed_messages(with_categories=true) %}<li class=\"{{ message[0] }}\">{{ message[1] }}</li>{% endfor %}</ul>\n",
                        "in your form_example.html to display flash messages.\n",
                        "Then run the Flask app as described in the general note.\n",
                        "Access: http://127.0.0.1:5000/validate_form\n"
                    ]
                }
            ],
            "source": [
                "# Reuse form_example.html from PQ6\n",
                "\n",
                "from flask import Flask, request, render_template, flash, redirect, url_for\n",
                "\n",
                "app = Flask(__name__)\n",
                "app.secret_key = 'a_very_secret_key_for_flash_messages' # Needed for flash messages\n",
                "\n",
                "@app.route('/validate_form', methods=['GET', 'POST'])\n",
                "def validate_form():\n",
                "    if request.method == 'POST':\n",
                "        name = request.form['name']\n",
                "        email = request.form['email']\n",
                "        \n",
                "        errors = []\n",
                "        if not name: # Check if name is empty\n",
                "            errors.append(\"Name is required.\")\n",
                "        if not email: # Check if email is empty\n",
                "            errors.append(\"Email is required.\")\n",
                "        elif \"@\" not in email or \".\" not in email: # Basic email format validation\n",
                "            errors.append(\"Invalid email format.\")\n",
                "            \n",
                "        if errors:\n",
                "            # Flash messages are good for displaying temporary messages to the user\n",
                "            for error in errors:\n",
                "                flash(error, 'error') # 'error' is a category for styling\n",
                "            return render_template('form_example.html', name=name, email=email) # Re-render form with errors\n",
                "        else:\n",
                "            flash(f\"Form submitted successfully! Name: {name}, Email: {email}\", 'success')\n",
                "            return redirect(url_for('validate_form')) # Redirect to GET to prevent resubmission\n",
                "            \n",
                "    return render_template('form_example.html')\n",
                "\n",
                "if __name__ == '__main__':\n",
                "    print(\"\\nTo test this: Save this code and templates/form_example.html.\")\n",
                "    print(\"Ensure you have a line like <ul class=flashes>{% for message in get_flashed_messages(with_categories=true) %}<li class=\\\"{{ message[0] }}\\\">{{ message[1] }}</li>{% endfor %}</ul>\")\n",
                "    print(\"in your form_example.html to display flash messages.\")\n",
                "    print(\"Then run the Flask app as described in the general note.\")\n",
                "    print(\"Access: http://127.0.0.1:5000/validate_form\")\n",
                "    # app.run(debug=True)"
            ]
        },
        {
            "cell_type": "markdown",
            "metadata": {},
            "source": [
                "### 8. How do you manage sessions in Flask?"
            ]
        },
        {
            "cell_type": "code",
            "execution_count": 32,
            "metadata": {},
            "outputs": [
                {
                    "name": "stdout",
                    "output_type": "stream",
                    "text": [
                        "\n",
                        "To test this: Save this code as a .py file and run the Flask app.\n",
                        "Access: http://127.0.0.1:5000/profile (initially not logged in)\n",
                        "Then go to http://127.0.0.1:5000/login to log in with username 'admin' and password 'password'.\n"
                    ]
                }
            ],
            "source": [
                "from flask import Flask, session, redirect, url_for, request\n",
                "from markupsafe import escape\n",
                "\n",
                "app = Flask(__name__)\n",
                "# A secret key is required for session management. It should be a strong, random value.\n",
                "app.secret_key = 'your_super_secret_key_here_please_change_this'\n",
                "\n",
                "@app.route('/login', methods=['GET', 'POST'])\n",
                "def login():\n",
                "    if request.method == 'POST':\n",
                "        if request.form['username'] == 'admin' and request.form['password'] == 'password':\n",
                "            session['username'] = request.form['username'] # Store username in session\n",
                "            return redirect(url_for('profile'))\n",
                "        else:\n",
                "            return 'Invalid credentials'\n",
                "    return '''\n",
                "        <form method=\"post\">\n",
                "            <p><input type=text name=username>\n",
                "            <p><input type=password name=password>\n",
                "            <p><input type=submit value=Login>\n",
                "        </form>\n",
                "    '''\n",
                "\n",
                "@app.route('/profile')\n",
                "def profile():\n",
                "    if 'username' in session:\n",
                "        return f'Logged in as {escape(session[\"username\"])} <br><a href=\"/logout\">Logout</a>'\n",
                "    return 'You are not logged in <br><a href=\"/login\">Login</a>'\n",
                "\n",
                "@app.route('/logout')\n",
                "def logout():\n",
                "    session.pop('username', None) # Remove username from session\n",
                "    return redirect(url_for('profile'))\n",
                "\n",
                "if __name__ == '__main__':\n",
                "    print(\"\\nTo test this: Save this code as a .py file and run the Flask app.\")\n",
                "    print(\"Access: http://127.0.0.1:5000/profile (initially not logged in)\")\n",
                "    print(\"Then go to http://127.0.0.1:5000/login to log in with username 'admin' and password 'password'.\")\n",
                "    # app.run(debug=True)"
            ]
        },
        {
            "cell_type": "markdown",
            "metadata": {},
            "source": [
                "### 9. How do you redirect to a different route in Flask?"
            ]
        },
        {
            "cell_type": "code",
            "execution_count": 33,
            "metadata": {},
            "outputs": [
                {
                    "name": "stdout",
                    "output_type": "stream",
                    "text": [
                        "\n",
                        "To test this: Save this code as a .py file and run the Flask app.\n",
                        "Access: http://127.0.0.1:5000/old_route\n"
                    ]
                }
            ],
            "source": [
                "from flask import Flask, redirect, url_for\n",
                "\n",
                "app = Flask(__name__)\n",
                "\n",
                "@app.route('/')\n",
                "def index():\n",
                "    return 'This is the index page. Go to /old_route to see a redirect.'\n",
                "\n",
                "@app.route('/old_route')\n",
                "def old_route():\n",
                "    # Redirect to the 'new_route' view function\n",
                "    return redirect(url_for('new_route'))\n",
                "\n",
                "@app.route('/new_route')\n",
                "def new_route():\n",
                "    return 'You have been redirected to the new route!'\n",
                "\n",
                "if __name__ == '__main__':\n",
                "    print(\"\\nTo test this: Save this code as a .py file and run the Flask app.\")\n",
                "    print(\"Access: http://127.0.0.1:5000/old_route\")\n",
                "    # You will be automatically redirected to http://127.0.0.1:5000/new_route\n",
                "    # app.run(debug=True)"
            ]
        },
        {
            "cell_type": "markdown",
            "metadata": {},
            "source": [
                "### 10. How do you handle errors in Flask (e.g., 404)?"
            ]
        },
        {
            "cell_type": "code",
            "execution_count": 34,
            "metadata": {},
            "outputs": [
                {
                    "name": "stdout",
                    "output_type": "stream",
                    "text": [
                        "Created dummy templates/404.html for demonstration.\n",
                        "\n",
                        "To test this: Save this code and templates/404.html.\n",
                        "Then run the Flask app as described in the general note.\n",
                        "Access: http://127.0.0.1:5000/ (home page)\n",
                        "Then try: http://127.0.0.1:5000/nonexistent_page (should show 404 HTML)\n",
                        "Or, for JSON error: curl -H \"Accept: application/json\" http://127.0.0.1:5000/nonexistent_page\n"
                    ]
                }
            ],
            "source": [
                "from flask import Flask, render_template, jsonify, request\n",
                "import os\n",
                "\n",
                "app = Flask(__name__)\n",
                "\n",
                "# Ensure templates directory exists for error pages\n",
                "templates_dir = 'templates'\n",
                "if not os.path.exists(templates_dir):\n",
                "    os.makedirs(templates_dir)\n",
                "\n",
                "# Create a simple 404.html template\n",
                "with open(os.path.join(templates_dir, '404.html'), 'w') as f:\n",
                "    f.write('<!DOCTYPE html>\\n')\n",
                "    f.write('<html lang=\"en\">\\n')\n",
                "    f.write('<head>\\n')\n",
                "    f.write('    <meta charset=\"UTF-8\">\\n')\n",
                "    f.write('    <title>Page Not Found</title>\\n')\n",
                "    f.write('</head>\\n')\n",
                "    f.write('<body>\\n')\n",
                "    f.write('    <h1>404 - Page Not Found</h1>\\n')\n",
                "    f.write('    <p>Sorry, the page you are looking for does not exist.</p>\\n')\n",
                "    f.write('    <a href=\"/\">Go to Home</a>\\n')\n",
                "    f.write('</body>\\n')\n",
                "    f.write('</html>')\n",
                "print(\"Created dummy templates/404.html for demonstration.\")\n",
                "\n",
                "# Define a custom error handler for 404 Not Found errors\n",
                "@app.errorhandler(404)\n",
                "def page_not_found(e):\n",
                "    # Check if the client expects JSON (e.g., an API client)\n",
                "    if request.accept_mimetypes.accept_json and \\\n",
                "       not request.accept_mimetypes.accept_html:\n",
                "        return jsonify({\"error\": \"Resource not found\"}), 404\n",
                "    \n",
                "    # Otherwise, render a custom HTML error page\n",
                "    return render_template('404.html'), 404\n",
                "\n",
                "@app.route('/')\n",
                "def home():\n",
                "    return \"Welcome to the home page! Try going to a non-existent URL like /blah.\"\n",
                "\n",
                "if __name__ == '__main__':\n",
                "    print(\"\\nTo test this: Save this code and templates/404.html.\")\n",
                "    print(\"Then run the Flask app as described in the general note.\")\n",
                "    print(\"Access: http://127.0.0.1:5000/ (home page)\")\n",
                "    print(\"Then try: http://127.0.0.1:5000/nonexistent_page (should show 404 HTML)\")\n",
                "    print(\"Or, for JSON error: curl -H \\\"Accept: application/json\\\" http://127.0.0.1:5000/nonexistent_page\")\n",
                "    # app.run(debug=True)"
            ]
        },
        {
            "cell_type": "markdown",
            "metadata": {},
            "source": [
                "### 11. How do you structure a Flask app using Blueprints?"
            ]
        },
        {
            "cell_type": "code",
            "execution_count": 35,
            "metadata": {},
            "outputs": [
                {
                    "name": "stdout",
                    "output_type": "stream",
                    "text": [
                        "To test this: Save the code above into separate .py files if structuring a real app (e.g., users_bp in users.py).\n",
                        "For this example, you can save the whole block in one file and run Flask.\n",
                        "Access: http://127.0.0.1:5000/ (main index)\n",
                        "Access: http://127.0.0.1:5000/users (users blueprint)\n",
                        "Access: http://127.0.0.1:5000/users/123 (users blueprint with ID)\n",
                        "Access: http://127.0.0.1:5000/products (products blueprint)\n"
                    ]
                }
            ],
            "source": [
                "from flask import Flask, Blueprint\n",
                "\n",
                "# --- user_routes.py (Conceptual File) ---\n",
                "# This would typically be in a separate file (e.g., app/users/routes.py)\n",
                "\n",
                "# Create a Blueprint instance\n",
                "users_bp = Blueprint('users', __name__, url_prefix='/users')\n",
                "\n",
                "@users_bp.route('/')\n",
                "def list_users():\n",
                "    return 'Listing all users (from users blueprint)'\n",
                "\n",
                "@users_bp.route('/<int:user_id>')\n",
                "def get_user(user_id):\n",
                "    return f'Getting user with ID: {user_id} (from users blueprint)'\n",
                "\n",
                "# --- product_routes.py (Conceptual File) ---\n",
                "# This would typically be in another separate file (e.g., app/products/routes.py)\n",
                "\n",
                "products_bp = Blueprint('products', __name__, url_prefix='/products')\n",
                "\n",
                "@products_bp.route('/')\n",
                "def list_products():\n",
                "    return 'Listing all products (from products blueprint)'\n",
                "\n",
                "# --- main_app.py (Conceptual File) ---\n",
                "# This is your main application file\n",
                "\n",
                "app = Flask(__name__)\n",
                "\n",
                "# Register the blueprints with the main application\n",
                "app.register_blueprint(users_bp)\n",
                "app.register_blueprint(products_bp)\n",
                "\n",
                "@app.route('/')\n",
                "def index():\n",
                "    return 'Welcome to the main application! Try /users or /products.'\n",
                "\n",
                "if __name__ == '__main__':\n",
                "    print(\"To test this: Save the code above into separate .py files if structuring a real app (e.g., users_bp in users.py).\")\n",
                "    print(\"For this example, you can save the whole block in one file and run Flask.\")\n",
                "    print(\"Access: http://127.0.0.1:5000/ (main index)\")\n",
                "    print(\"Access: http://127.0.0.1:5000/users (users blueprint)\")\n",
                "    print(\"Access: http://127.0.0.1:5000/users/123 (users blueprint with ID)\")\n",
                "    print(\"Access: http://127.0.0.1:5000/products (products blueprint)\")\n",
                "    # app.run(debug=True)"
            ]
        },
        {
            "cell_type": "markdown",
            "metadata": {},
            "source": [
                "### 12. How do you define a custom Jinja filter in Flask?"
            ]
        },
        {
            "cell_type": "code",
            "execution_count": 36,
            "metadata": {},
            "outputs": [
                {
                    "name": "stdout",
                    "output_type": "stream",
                    "text": [
                        "Created dummy templates/filter_example.html for demonstration.\n",
                        "\n",
                        "To test this: Save this code and templates/filter_example.html.\n",
                        "Then run the Flask app as described in the general note.\n",
                        "Access: http://127.0.0.1:5000/filters\n"
                    ]
                }
            ],
            "source": [
                "# Ensure the 'templates' directory exists.\n",
                "templates_dir = 'templates'\n",
                "if not os.path.exists(templates_dir):\n",
                "    os.makedirs(templates_dir)\n",
                "\n",
                "# Create a dummy HTML template file with a custom filter\n",
                "with open(os.path.join(templates_dir, 'filter_example.html'), 'w') as f:\n",
                "    f.write('<!DOCTYPE html>\\n')\n",
                "    f.write('<html lang=\"en\">\\n')\n",
                "    f.write('<head>\\n')\n",
                "    f.write('    <meta charset=\"UTF-8\">\\n')\n",
                "    f.write('    <title>Custom Filter Example</title>\\n')\n",
                "    f.write('</head>\\n')\n",
                "    f.write('<body>\\n')\n",
                "    f.write('    <h1>Custom Jinja Filter Demo</h1>\\n')\n",
                "    f.write('    <p>Original Text: {{ original_text }}</p>\\n')\n",
                "    f.write('    <p>Title Case: {{ original_text | titlecase }}</p>\\n')\n",
                "    f.write('    <p>Reversed List: {{ my_list | reverse_list_filter }}</p>\\n')\n",
                "    f.write('</body>\\n')\n",
                "    f.write('</html>')\n",
                "print(\"Created dummy templates/filter_example.html for demonstration.\")\n",
                "\n",
                "from flask import Flask, render_template\n",
                "\n",
                "app = Flask(__name__)\n",
                "\n",
                "# Define the custom filter function\n",
                "def reverse_list_filter(a_list):\n",
                "    return a_list[::-1]\n",
                "\n",
                "# Add the custom filter to the Jinja2 environment\n",
                "app.jinja_env.filters['reverse_list_filter'] = reverse_list_filter\n",
                "\n",
                "# Another example: a simple titlecase filter\n",
                "def to_title_case(s):\n",
                "    return s.title()\n",
                "\n",
                "app.add_template_filter(to_title_case, 'titlecase')\n",
                "\n",
                "\n",
                "@app.route('/filters')\n",
                "def show_filters():\n",
                "    return render_template('filter_example.html',\n",
                "                           original_text=\"hello world from flask\",\n",
                "                           my_list=[1, 2, 3, 4, 5])\n",
                "\n",
                "if __name__ == '__main__':\n",
                "    print(\"\\nTo test this: Save this code and templates/filter_example.html.\")\n",
                "    print(\"Then run the Flask app as described in the general note.\")\n",
                "    print(\"Access: http://127.0.0.1:5000/filters\")\n",
                "    # app.run(debug=True)"
            ]
        },
        {
            "cell_type": "markdown",
            "metadata": {},
            "source": [
                "### 13. How can you redirect with query parameters in Flask?"
            ]
        },
        {
            "cell_type": "code",
            "execution_count": 37,
            "metadata": {},
            "outputs": [
                {
                    "name": "stdout",
                    "output_type": "stream",
                    "text": [
                        "\n",
                        "To test this: Save this code as a .py file and run the Flask app.\n",
                        "Access: http://127.0.0.1:5000/redirect_to_search\n"
                    ]
                }
            ],
            "source": [
                "from flask import Flask, redirect, url_for, request\n",
                "\n",
                "app = Flask(__name__)\n",
                "\n",
                "@app.route('/search')\n",
                "def search_results():\n",
                "    query = request.args.get('q', 'No query provided')\n",
                "    category = request.args.get('cat', 'All')\n",
                "    return f\"Search results for query: '{query}' in category: '{category}'\"\n",
                "\n",
                "@app.route('/redirect_to_search')\n",
                "def redirect_with_params():\n",
                "    # Redirect to the 'search_results' function, passing query parameters\n",
                "    return redirect(url_for('search_results', q='python programming', cat='books'))\n",
                "\n",
                "if __name__ == '__main__':\n",
                "    print(\"\\nTo test this: Save this code as a .py file and run the Flask app.\")\n",
                "    print(\"Access: http://127.0.0.1:5000/redirect_to_search\")\n",
                "    # You will be redirected to: http://127.0.0.1:5000/search?q=python+programming&cat=books\n",
                "    # app.run(debug=True)"
            ]
        },
        {
            "cell_type": "markdown",
            "metadata": {},
            "source": [
                "### 14. How do you return JSON responses in Flask?"
            ]
        },
        {
            "cell_type": "code",
            "execution_count": 38,
            "metadata": {},
            "outputs": [
                {
                    "name": "stdout",
                    "output_type": "stream",
                    "text": [
                        "\n",
                        "To test this: Save this code as a .py file and run the Flask app.\n",
                        "Access: http://127.0.0.1:5000/json_data\n",
                        "Access: http://127.0.0.1:5000/api/users/1\n",
                        "Access: http://127.0.0.1:5000/api/users/99 (should be 404)\n"
                    ]
                }
            ],
            "source": [
                "from flask import Flask, jsonify\n",
                "\n",
                "app = Flask(__name__)\n",
                "\n",
                "@app.route('/json_data')\n",
                "def get_json_data():\n",
                "    data = {\n",
                "        \"name\": \"Flask App\",\n",
                "        \"version\": \"1.0\",\n",
                "        \"status\": \"running\",\n",
                "        \"items\": [\"item1\", \"item2\", \"item3\"]\n",
                "    }\n",
                "    # jsonify converts the Python dictionary to a JSON response\n",
                "    return jsonify(data)\n",
                "\n",
                "@app.route('/api/users/<int:user_id>')\n",
                "def get_user_json(user_id):\n",
                "    users = {\n",
                "        1: {\"id\": 1, \"name\": \"Alice\", \"email\": \"alice@example.com\"},\n",
                "        2: {\"id\": 2, \"name\": \"Bob\", \"email\": \"bob@example.com\"}\n",
                "    }\n",
                "    user = users.get(user_id)\n",
                "    if user:\n",
                "        return jsonify(user), 200 # Return data with 200 OK status\n",
                "    return jsonify({\"error\": \"User not found\"}), 404 # Return error with 404 Not Found status\n",
                "\n",
                "if __name__ == '__main__':\n",
                "    print(\"\\nTo test this: Save this code as a .py file and run the Flask app.\")\n",
                "    print(\"Access: http://127.0.0.1:5000/json_data\")\n",
                "    print(\"Access: http://127.0.0.1:5000/api/users/1\")\n",
                "    print(\"Access: http://127.0.0.1:5000/api/users/99 (should be 404)\")\n",
                "    # app.run(debug=True)"
            ]
        },
        {
            "cell_type": "markdown",
            "metadata": {},
            "source": [
                "### 15. How do you capture URL parameters in Flask?"
            ]
        },
        {
            "cell_type": "code",
            "execution_count": 39,
            "metadata": {},
            "outputs": [
                {
                    "name": "stdout",
                    "output_type": "stream",
                    "text": [
                        "\n",
                        "To test this: Save this code as a .py file and run the Flask app.\n",
                        "Path Parameters:\n",
                        "  Access: http://127.0.0.1:5000/post/123\n",
                        "  Access: http://127.0.0.1:5000/article/my-first-blog-post\n",
                        "\n",
                        "Query Parameters:\n",
                        "  Access: http://127.0.0.1:5000/search_items?q=flask&page=2\n",
                        "  Access: http://127.0.0.1:5000/search_items?q=python\n",
                        "  Access: http://127.0.0.1:5000/search_items\n"
                    ]
                }
            ],
            "source": [
                "from flask import Flask, request\n",
                "\n",
                "app = Flask(__name__)\n",
                "\n",
                "# 1. Capturing variable parts in the URL path (Path Parameters)\n",
                "@app.route('/post/<int:post_id>')\n",
                "def show_post(post_id):\n",
                "    # post_id will be automatically converted to an integer\n",
                "    return f'Post ID: {post_id}'\n",
                "\n",
                "@app.route('/article/<string:article_name>')\n",
                "def show_article(article_name):\n",
                "    # article_name will be a string\n",
                "    return f'Article Name: {article_name.replace(\"-\", \" \").title()}'\n",
                "\n",
                "# 2. Capturing parameters from the URL query string (Query Parameters)\n",
                "@app.route('/search_items')\n",
                "def search_items():\n",
                "    # request.args is a dictionary-like object for query parameters\n",
                "    # .get() is safer as it returns None if the parameter is not present, avoiding KeyError\n",
                "    query = request.args.get('q', 'No query provided')\n",
                "    page = request.args.get('page', 1, type=int) # Specify type conversion\n",
                "    return f\"Searching for: '{query}', Page: {page}\"\n",
                "\n",
                "if __name__ == '__main__':\n",
                "    print(\"\\nTo test this: Save this code as a .py file and run the Flask app.\")\n",
                "    print(\"Path Parameters:\")\n",
                "    print(\"  Access: http://127.0.0.1:5000/post/123\")\n",
                "    print(\"  Access: http://127.0.0.1:5000/article/my-first-blog-post\")\n",
                "    print(\"\\nQuery Parameters:\")\n",
                "    print(\"  Access: http://127.0.0.1:5000/search_items?q=flask&page=2\")\n",
                "    print(\"  Access: http://127.0.0.1:5000/search_items?q=python\")\n",
                "    print(\"  Access: http://127.0.0.1:5000/search_items\")\n",
                "    # app.run(debug=True)"
            ]
        }
    ],
    "metadata": {
        "colab": {
            "collapsed_sections": [],
            "name": "Restful_API_Flask_Assignment_Answers.ipynb",
            "provenance": []
        },
        "kernelspec": {
            "display_name": ".venv",
            "language": "python",
            "name": "python3"
        },
        "language_info": {
            "codemirror_mode": {
                "name": "ipython",
                "version": 3
            },
            "file_extension": ".py",
            "mimetype": "text/x-python",
            "name": "python",
            "nbconvert_exporter": "python",
            "pygments_lexer": "ipython3",
            "version": "3.11.9"
        }
    },
    "nbformat": 4,
    "nbformat_minor": 5
}
