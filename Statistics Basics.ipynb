{
  "cells": [
    {
      "cell_type": "markdown",
      "metadata": {
        "id": "header"
      },
      "source": [
        "# Statistics Basics Assignment\n",
        "\n",
        "This Jupyter Notebook provides a complete set of answers and Python code for the Statistics Basics Assignment (DS-AG-005)."
      ]
    },
    {
      "cell_type": "markdown",
      "metadata": {
        "id": "q1"
      },
      "source": [
        "## Question 1\n",
        "\n",
        "**What is the difference between descriptive statistics and inferential statistics? Explain with examples.**\n",
        "\n",
        "**Answer:**\n",
        "\n",
        "**Descriptive statistics** involves methods used to summarize and organize data to describe its features. These methods provide simple summaries about the sample and the measures. They don't make any conclusions or predictions beyond the data being analyzed. Examples include calculating the mean age of students in a class, finding the median salary of employees in a company, or creating a histogram to show the distribution of test scores.\n",
        "\n",
        "**Inferential statistics** uses sample data to make inferences or predictions about a larger population. These methods use probability to make conclusions and generalize findings. For example, a political pollster might survey a small sample of voters to predict the outcome of a nationwide election, or a company might test a new product on a small group to infer its likely success with a larger consumer base."
      ]
    },
    {
      "cell_type": "markdown",
      "metadata": {
        "id": "q2"
      },
      "source": [
        "## Question 2\n",
        "\n",
        "**What is sampling in statistics? Explain the differences between random and stratified sampling.**\n",
        "\n",
        "**Answer:**\n",
        "\n",
        "**Sampling** is the process of selecting a subset of individuals from a larger population to make statistical inferences about that population. It is used when it's impractical or impossible to study the entire population.\n",
        "\n",
        "**Random sampling** is a method where every individual in the population has an equal chance of being selected for the sample. This approach minimizes bias and helps ensure the sample is representative of the overall population. An example is drawing names from a hat or using a random number generator to select participants.\n",
        "\n",
        "**Stratified sampling** is a method that involves dividing the population into smaller, non-overlapping groups (called strata) based on shared characteristics (e.g., age, gender, income). A random sample is then taken from each stratum. This method is used to ensure that the sample accurately represents the different subgroups within the population, which is crucial when a subgroup is significantly smaller than the rest."
      ]
    },
    {
      "cell_type": "markdown",
      "metadata": {
        "id": "q3"
      },
      "source": [
        "## Question 3\n",
        "\n",
        "**Define mean, median, and mode. Explain why these measures of central tendency are important.**\n",
        "\n",
        "**Answer:**\n",
        "\n",
        "The **mean** (or average) is calculated by summing all the data points and dividing by the total number of data points. It is useful for representing a typical value in a dataset, but it is sensitive to outliers.\n",
        "\n",
        "The **median** is the middle value in a sorted dataset. It is a robust measure of central tendency because it is not affected by extremely large or small values (outliers). It's particularly useful for skewed data.\n",
        "\n",
        "The **mode** is the value that appears most frequently in a dataset. A dataset can have one mode, multiple modes, or no mode at all. It is the only measure of central tendency that can be used for nominal data (data that cannot be ordered).\n",
        "\n",
        "These measures are important because they provide a single value that represents the center or typical value of a dataset. They help us understand the distribution of data at a glance and compare different datasets."
      ]
    },
    {
      "cell_type": "markdown",
      "metadata": {
        "id": "q4"
      },
      "source": [
        "## Question 4\n",
        "\n",
        "**Explain skewness and kurtosis. What does a positive skew imply about the data?**\n",
        "\n",
        "**Answer:**\n",
        "\n",
        "**Skewness** is a measure of the asymmetry of the probability distribution of a real-valued random variable about its mean. It indicates the direction and magnitude of a distribution's deviation from the horizontal symmetry of a bell curve.\n",
        "\n",
        "**Kurtosis** is a measure of the \"tailedness\" of the probability distribution. It describes the shape of the distribution's tails in relation to the center and a normal distribution. A high kurtosis indicates that the distribution has heavy tails (or outliers), while a low kurtosis indicates light tails.\n",
        "\n",
        "A **positive skew** (or right skew) implies that the tail on the right side of the distribution is longer or fatter than the left side. This means that the majority of the data points have lower values, and there are some extremely high values (outliers) that are pulling the mean to the right of the median. For a positively skewed distribution, the relationship between the measures of central tendency is typically: mean > median > mode."
      ]
    },
    {
      "cell_type": "markdown",
      "metadata": {
        "id": "q5"
      },
      "source": [
        "## Question 5\n",
        "\n",
        "**Implement a Python program to compute the mean, median, and mode of a given list of numbers.**\n",
        "\n",
        "**numbers = [12, 15, 12, 18, 19, 12, 20, 22, 19, 19, 24, 24, 24, 26, 28]**"
      ]
    },
    {
      "cell_type": "code",
      "execution_count": 1,
      "metadata": {
        "id": "q5_code"
      },
      "outputs": [
        {
          "name": "stdout",
          "output_type": "stream",
          "text": [
            "The given list of numbers is: [12, 15, 12, 18, 19, 12, 20, 22, 19, 19, 24, 24, 24, 26, 28]\n",
            "The mean of the numbers is: 19.6\n",
            "The median of the numbers is: 19\n",
            "The mode of the numbers is: 12\n",
            "The multimode of the numbers is: [12, 19, 24]\n"
          ]
        }
      ],
      "source": [
        "import statistics\n",
        "from collections import Counter\n",
        "\n",
        "# Given list of numbers\n",
        "numbers = [12, 15, 12, 18, 19, 12, 20, 22, 19, 19, 24, 24, 24, 26, 28]\n",
        "\n",
        "# Calculate the mean\n",
        "mean = statistics.mean(numbers)\n",
        "\n",
        "# Calculate the median\n",
        "median = statistics.median(numbers)\n",
        "\n",
        "# Calculate the mode\n",
        "try:\n",
        "    mode_result = statistics.mode(numbers)\n",
        "except statistics.StatisticsError:\n",
        "    mode_result = \"No single mode found.\"\n",
        "    \n",
        "multimode_result = statistics.multimode(numbers)\n",
        "\n",
        "print(f\"The given list of numbers is: {numbers}\")\n",
        "print(f\"The mean of the numbers is: {mean}\")\n",
        "print(f\"The median of the numbers is: {median}\")\n",
        "print(f\"The mode of the numbers is: {mode_result}\")\n",
        "print(f\"The multimode of the numbers is: {multimode_result}\")"
      ]
    },
    {
      "cell_type": "markdown",
      "metadata": {
        "id": "q6"
      },
      "source": [
        "## Question 6\n",
        "\n",
        "**Compute the covariance and correlation coefficient between the following two datasets provided as lists in Python:**\n",
        "\n",
        "**$list\\_x=[10,20,30,40,50]$**\n",
        "\n",
        "**$list\\_y=[15,25,35,45,60]$**"
      ]
    },
    {
      "cell_type": "code",
      "execution_count": 2,
      "metadata": {
        "id": "q6_code"
      },
      "outputs": [
        {
          "name": "stdout",
          "output_type": "stream",
          "text": [
            "List x: [10, 20, 30, 40, 50]\n",
            "List y: [15, 25, 35, 45, 60]\n",
            "\n",
            "Covariance matrix:\n",
            "[[250. 275.]\n",
            " [275. 305.]]\n",
            "\n",
            "Covariance: 275.0\n",
            "Correlation coefficient: 0.995893206467704\n"
          ]
        }
      ],
      "source": [
        "import numpy as np\n",
        "\n",
        "# Given lists\n",
        "list_x = [10, 20, 30, 40, 50]\n",
        "list_y = [15, 25, 35, 45, 60]\n",
        "\n",
        "# Convert lists to NumPy arrays\n",
        "x = np.array(list_x)\n",
        "y = np.array(list_y)\n",
        "\n",
        "# Compute covariance\n",
        "covariance_matrix = np.cov(x, y)\n",
        "covariance = covariance_matrix[0, 1]\n",
        "\n",
        "# Compute correlation coefficient\n",
        "correlation_matrix = np.corrcoef(x, y)\n",
        "correlation_coefficient = correlation_matrix[0, 1]\n",
        "\n",
        "print(f\"List x: {list_x}\")\n",
        "print(f\"List y: {list_y}\")\n",
        "print(f\"\\nCovariance matrix:\\n{covariance_matrix}\")\n",
        "print(f\"\\nCovariance: {covariance}\")\n",
        "print(f\"Correlation coefficient: {correlation_coefficient}\")"
      ]
    },
    {
      "cell_type": "markdown",
      "metadata": {
        "id": "q7"
      },
      "source": [
        "## Question 7\n",
        "\n",
        "**Write a Python script to draw a boxplot for the following numeric list and identify its outliers. Explain the result:**\n",
        "\n",
        "**data = [12, 14, 14, 15, 18, 19, 19, 21, 22, 22, 23, 23, 24, 26, 29, 35]**\n",
        "\n",
        "**Answer:**\n",
        "\n",
        "A **boxplot** is a standardized way of displaying the distribution of data based on a five-number summary: minimum, first quartile (Q1), median, third quartile (Q3), and maximum. Outliers are typically defined as values that fall outside the whiskers of the boxplot, which are usually $1.5 \\times IQR$ (Interquartile Range) below Q1 or above Q3. The IQR is the range between Q1 and Q3 ($IQR = Q3 - Q1$).\n",
        "\n",
        "In the boxplot below, the dots or circles beyond the whiskers represent the outliers. In this case, there are no extreme outliers, but the point at 35 is identified as a potential outlier because it lies well above the main cluster of data."
      ]
    },
    {
      "cell_type": "code",
      "execution_count": 3,
      "metadata": {
        "id": "q7_code"
      },
      "outputs": [
        {
          "data": {
            "image/png": "[encoded data removed]",
            "text/plain": [
              "<Figure size 800x600 with 1 Axes>"
            ]
          },
          "metadata": {},
          "output_type": "display_data"
        },
        {
          "name": "stdout",
          "output_type": "stream",
          "text": [
            "Data: [12, 14, 14, 15, 18, 19, 19, 21, 22, 22, 23, 23, 24, 26, 29, 35]\n",
            "Q1 (25th percentile): 17.25\n",
            "Q3 (75th percentile): 23.25\n",
            "IQR (Q3 - Q1): 6.0\n",
            "Lower bound for outliers: 8.25\n",
            "Upper bound for outliers: 32.25\n",
            "Identified outliers: [35]\n"
          ]
        }
      ],
      "source": [
        "import matplotlib.pyplot as plt\n",
        "import numpy as np\n",
        "import seaborn as sns\n",
        "\n",
        "# Given data\n",
        "data = [12, 14, 14, 15, 18, 19, 19, 21, 22, 22, 23, 23, 24, 26, 29, 35]\n",
        "\n",
        "# Calculate quartiles and IQR\n",
        "Q1, Q3 = np.percentile(data, [25, 75])\n",
        "IQR = Q3 - Q1\n",
        "lower_bound = Q1 - (1.5 * IQR)\n",
        "upper_bound = Q3 + (1.5 * IQR)\n",
        "\n",
        "# Identify outliers\n",
        "outliers = [x for x in data if x < lower_bound or x > upper_bound]\n",
        "\n",
        "# Create the boxplot\n",
        "plt.figure(figsize=(8, 6))\n",
        "sns.boxplot(x=data, color='lightblue')\n",
        "plt.title('Boxplot of Data with Outliers', fontsize=16)\n",
        "plt.xlabel('Values', fontsize=12)\n",
        "plt.show()\n",
        "\n",
        "print(f\"Data: {data}\")\n",
        "print(f\"Q1 (25th percentile): {Q1}\")\n",
        "print(f\"Q3 (75th percentile): {Q3}\")\n",
        "print(f\"IQR (Q3 - Q1): {IQR}\")\n",
        "print(f\"Lower bound for outliers: {lower_bound}\")\n",
        "print(f\"Upper bound for outliers: {upper_bound}\")\n",
        "print(f\"Identified outliers: {outliers}\")"
      ]
    },
    {
      "cell_type": "markdown",
      "metadata": {
        "id": "q8"
      },
      "source": [
        "## Question 8\n",
        "\n",
        "**You are working as a data analyst in an e-commerce company. The marketing team wants to know if there is a relationship between advertising spend and daily sales. Explain how you would use covariance and correlation to explore this relationship. Write Python code to compute the correlation between the two lists:**\n",
        "\n",
        "**advertising_spend = [200, 250, 300, 400, 500]**\n",
        "\n",
        "**daily_sales = [2200, 2450, 2750, 3200, 4000]**\n",
        "\n",
        "**Answer:**\n",
        "\n",
        "**Covariance** measures the directional relationship between two variables. A positive covariance indicates that as one variable increases, the other tends to increase as well. A negative covariance indicates that as one variable increases, the other tends to decrease. However, the magnitude of the covariance value is not easily interpretable, as it is not standardized.\n",
        "\n",
        "**Correlation** is a standardized measure of the strength and direction of a linear relationship between two variables. The correlation coefficient, typically denoted as $r$, ranges from $-1$ to $+1$. A value of $+1$ indicates a perfect positive linear relationship, a value of $-1$ indicates a perfect negative linear relationship, and a value of $0$ indicates no linear relationship.\n",
        "\n",
        "To explore the relationship between advertising spend and daily sales, I would use **correlation**. The correlation coefficient would provide a clear, standardized value indicating both the strength and direction of the relationship. This is more useful for comparison and interpretation than covariance."
      ]
    },
    {
      "cell_type": "code",
      "execution_count": 4,
      "metadata": {
        "id": "q8_code"
      },
      "outputs": [
        {
          "name": "stdout",
          "output_type": "stream",
          "text": [
            "Advertising Spend: [200, 250, 300, 400, 500]\n",
            "Daily Sales: [2200, 2450, 2750, 3200, 4000]\n",
            "\n",
            "Correlation coefficient: 0.9935824101653329\n"
          ]
        }
      ],
      "source": [
        "import numpy as np\n",
        "\n",
        "# Given data\n",
        "advertising_spend = [200, 250, 300, 400, 500]\n",
        "daily_sales = [2200, 2450, 2750, 3200, 4000]\n",
        "\n",
        "# Compute the correlation coefficient\n",
        "correlation_coefficient = np.corrcoef(advertising_spend, daily_sales)[0, 1]\n",
        "\n",
        "print(f\"Advertising Spend: {advertising_spend}\")\n",
        "print(f\"Daily Sales: {daily_sales}\")\n",
        "print(f\"\\nCorrelation coefficient: {correlation_coefficient}\")"
      ]
    },
    {
      "cell_type": "markdown",
      "metadata": {
        "id": "q9"
      },
      "source": [
        "## Question 9\n",
        "\n",
        "**Your team has collected customer satisfaction survey data on a scale of 1-10 and wants to understand its distribution before launching a new product.**\n",
        "\n",
        "**Answer:**\n",
        "\n",
        "The question cuts off, but based on the context, a suitable next step for a data analyst would be to visualize the distribution of the survey data. A **histogram** is an excellent tool for this purpose. It would show the frequency of each satisfaction score from 1 to 10, revealing if the data is skewed, bimodal, or normally distributed. This provides quick insights into customer sentiment. For example, if the histogram shows a high frequency of scores between 8-10, it suggests high customer satisfaction. If it's more spread out or has multiple peaks, it might indicate different customer segments with varying satisfaction levels.\n",
        "\n",
        "Here is some sample Python code using `matplotlib` and `seaborn` to create a histogram for hypothetical survey data. "
      ]
    },
    {
      "cell_type": "code",
      "execution_count": 5,
      "metadata": {
        "id": "q9_code"
      },
      "outputs": [
        {
          "data": {
            "image/png": "[encoded data removed]",
            "text/plain": [
              "<Figure size 1000x600 with 1 Axes>"
            ]
          },
          "metadata": {},
          "output_type": "display_data"
        },
        {
          "name": "stdout",
          "output_type": "stream",
          "text": [
            "The histogram visually represents the distribution of the satisfaction scores.\n",
            "The `kde=True` argument adds a kernel density estimate curve, which smooths the distribution.\n",
            "The plot would show the frequency of each score, providing a clear picture of customer sentiment.\n"
          ]
        }
      ],
      "source": [
        "import numpy as np\n",
        "import matplotlib.pyplot as plt\n",
        "import seaborn as sns\n",
        "\n",
        "# Hypothetical customer satisfaction survey data (on a scale of 1-10)\n",
        "# This data is generated for demonstration purposes\n",
        "np.random.seed(42)\n",
        "satisfaction_scores = np.random.randint(5, 11, size=100) # Simulating scores from 5 to 10\n",
        "\n",
        "# Create a histogram using Seaborn\n",
        "plt.figure(figsize=(10, 6))\n",
        "sns.histplot(satisfaction_scores, bins=6, kde=True, discrete=True, color='skyblue')\n",
        "\n",
        "# Add titles and labels for clarity\n",
        "plt.title('Distribution of Customer Satisfaction Scores', fontsize=16)\n",
        "plt.xlabel('Satisfaction Score (1-10)', fontsize=12)\n",
        "plt.ylabel('Frequency', fontsize=12)\n",
        "plt.xticks(range(5, 11))\n",
        "plt.grid(axis='y', alpha=0.75)\n",
        "plt.show()\n",
        "\n",
        "print(\"The histogram visually represents the distribution of the satisfaction scores.\")\n",
        "print(\"The `kde=True` argument adds a kernel density estimate curve, which smooths the distribution.\")\n",
        "print(\"The plot would show the frequency of each score, providing a clear picture of customer sentiment.\")"
      ]
    }
  ],
  "metadata": {
    "colab": {
      "name": "Statistics Basics Assignment",
      "provenance": []
    },
    "kernelspec": {
      "display_name": ".venv",
      "language": "python",
      "name": "python3"
    },
    "language_info": {
      "codemirror_mode": {
        "name": "ipython",
        "version": 3
      },
      "file_extension": ".py",
      "mimetype": "text/x-python",
      "name": "python",
      "nbconvert_exporter": "python",
      "pygments_lexer": "ipython3",
      "version": "3.11.9"
    }
  },
  "nbformat": 4,
  "nbformat_minor": 5
}
