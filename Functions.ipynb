{
    "cells": [
        {
            "cell_type": "markdown",
            "metadata": {},
            "source": [
                "# Functions Assignment Answers"
            ]
        },
        {
            "cell_type": "markdown",
            "metadata": {},
            "source": [
                "This notebook contains the answers to the Python Functions Assignment questions."
            ]
        },
        {
            "cell_type": "markdown",
            "metadata": {},
            "source": [
                "## Theoretical Questions"
            ]
        },
        {
            "cell_type": "markdown",
            "metadata": {},
            "source": [
                "### 1. What is the difference between a function and a method in Python?\n",
                "\n",
                "**Answer:**\n",
                "- **Function:** A function is a block of organized, reusable code that is used to perform a single, related action. Functions are defined independently and can be called by their name.\n",
                "  **Example:**\n",
                "  ```python\n",
                "  def greet(name):\n",
                "      return f\"Hello, {name}!\"\n",
                "  print(greet(\"Prathamesh\"))\n",
                "  ```\n",
                "- **Method:** A method is a function that belongs to an object or a class. It is defined within a class and is called on an instance (object) of that class. Methods implicitly receive the instance they are called on as their first argument (conventionally named `self`).\n",
                "  **Example:**\n",
                "  ```python\n",
                "  class Dog:\n",
                "      def __init__(self, name):\n",
                "          self.name = name\n",
                "      def bark(self):\n",
                "          return f\"{self.name} says Woof!\"\n",
                "  my_dog = Dog(\"Buddy\")\n",
                "  print(my_dog.bark())\n",
                "  ```\n",
                "**Key Difference:** Methods are associated with objects/classes, while functions are standalone."
            ]
        },
        {
            "cell_type": "markdown",
            "metadata": {},
            "source": [
                "### 2. Explain the concept of function arguments and parameters in Python.\n",
                "\n",
                "**Answer:**\n",
                "- **Parameters:** These are the names listed in the function definition. They act as placeholders for the values that will be passed into the function when it is called.\n",
                "  **Example (in definition):** `name` and `age` are parameters.\n",
                "  ```python\n",
                "  def display_info(name, age): # name and age are parameters\n",
                "      print(f\"Name: {name}, Age: {age}\")\n",
                "  ```\n",
                "- **Arguments:** These are the actual values that are passed into the function when it is called. They correspond to the parameters defined in the function signature.\n",
                "  **Example (in call):** `\"Bob\"` and `25` are arguments.\n",
                "  ```python\n",
                "  display_info(\"Bob\", 25) # \"Bob\" and 25 are arguments\n",
                "  ```\n",
                "**Analogy:** Parameters are like empty boxes in a recipe, and arguments are the ingredients you put into those boxes when you make the dish."
            ]
        },
        {
            "cell_type": "markdown",
            "metadata": {},
            "source": [
                "### 3. What are the different ways to define and call a function in Python?\n",
                "\n",
                "**Answer:**\n",
                "**Defining a Function:**\n",
                "Functions are defined using the `def` keyword, followed by the function name, parentheses `()`, and a colon `:`. The function body is indented.\n",
                "```python\n",
                "def my_function(param1, param2):\n",
                "    \"\"\"This is a docstring explaining the function.\"\"\"\n",
                "    # Function body\n",
                "    result = param1 + param2\n",
                "    return result\n",
                "```\n",
                "**Calling a Function (Ways to Pass Arguments):**\n",
                "1.  **Positional Arguments:** Arguments are passed in the order they are defined in the function signature.\n",
                "    ```python\n",
                "    def subtract(a, b):\n",
                "        return a - b\n",
                "    print(subtract(10, 5)) # a=10, b=5 -> Output: 5\n",
                "    ```\n",
                "2.  **Keyword Arguments:** Arguments are passed by explicitly naming the parameter. Order does not matter.\n",
                "    ```python\n",
                "    def introduce(name, city):\n",
                "        print(f\"Hello, I'm {name} from {city}.\")\n",
                "    introduce(city=\"Paris\", name=\"Eve\") # Order doesn't matter\n",
                "    ```\n",
                "3.  **Default Arguments:** Parameters can have default values. If an argument is not provided, the default is used.\n",
                "    ```python\n",
                "    def power(base, exp=2):\n",
                "        return base ** exp\n",
                "    print(power(3))    # exp defaults to 2 -> Output: 9\n",
                "    print(power(3, 3)) # exp is overridden to 3 -> Output: 27\n",
                "    ```\n",
                "4.  **Arbitrary Positional Arguments (`*args`):** Allows a function to accept a variable number of positional arguments, which are collected into a tuple.\n",
                "    ```python\n",
                "    def sum_all(*numbers):\n",
                "        return sum(numbers)\n",
                "    print(sum_all(1, 2, 3, 4)) # Output: 10\n",
                "    ```\n",
                "5.  **Arbitrary Keyword Arguments (`**kwargs`):** Allows a function to accept a variable number of keyword arguments, which are collected into a dictionary.\n",
                "    ```python\n",
                "    def print_details(**details):\n",
                "        for key, value in details.items():\n",
                "            print(f\"{key}: {value}\")\n",
                "    print_details(name=\"Frank\", age=40, occupation=\"Engineer\")\n",
                "    ```\n",
                "6.  **Mixed Arguments:** You can combine these, but positional arguments must come before keyword arguments, and `*args` before `**kwargs`.\n",
                "    ```python\n",
                "    def complex_func(a, b=1, *args, **kwargs):\n",
                "        print(f\"a={a}, b={b}, args={args}, kwargs={kwargs}\")\n",
                "    complex_func(10, 20, 30, 40, city=\"London\", temp=25)\n",
                "    ```"
            ]
        },
        {
            "cell_type": "markdown",
            "metadata": {},
            "source": [
                "### 4. What is the purpose of the `return` statement in a Python function?\n",
                "\n",
                "**Answer:** The `return` statement in a Python function serves two main purposes:\n",
                "1.  **Exiting the Function:** When `return` is encountered, the function immediately stops its execution,     and control is passed back to the caller.\n",
                "2.  **Returning a Value:** It allows a function to send a value (or multiple values as a tuple) back to the caller.     If no `return` statement is present, or if `return` is used without an expression, the function implicitly returns `None`.\n",
                "**Example:**\n",
                "```python\n",
                "def add(x, y):\n",
                "    sum_result = x + y\n",
                "    return sum_result # Returns the calculated sum\n",
                "\n",
                "def greet(name):\n",
                "    print(f\"Hello, {name}!\")\n",
                "    # No return statement, implicitly returns None\n",
                "\n",
                "result1 = add(5, 3)\n",
                "print(f\"Result of add: {result1}\") # Output: Result of add: 8\n",
                "\n",
                "result2 = greet(\"David\")\n",
                "print(f\"Result of greet: {result2}\") # Output: Hello, David!\\nResult of greet: None\n",
                "```"
            ]
        },
        {
            "cell_type": "markdown",
            "metadata": {},
            "source": [
                "### 5. What are iterators in Python and how do they differ from iterables?\n",
                "\n",
                "**Answer:**\n",
                "- **Iterable:** An iterable is any Python object that can be 'iterated over', meaning it can return its elements one by one. Objects that have an `__iter__()` method (which returns an iterator) or a `__getitem__()` method (that can take integer indices starting from 0) are iterables. Examples include lists, tuples, strings, dictionaries, and sets.\n",
                "  **Example:**\n",
                "  ```python\n",
                "  my_list = [1, 2, 3] # my_list is an iterable\n",
                "  for item in my_list:\n",
                "      print(item)\n",
                "  ```\n",
                "- **Iterator:** An iterator is an object that represents a stream of data. It is an object that implements the iterator protocol, which means it must have two methods: `__iter__()` (which returns itself) and `__next__()`. The `__next__()` method returns the next item from the iteration. If there are no more items, it raises a `StopIteration` exception.\n",
                "  **Example:**\n",
                "  ```python\n",
                "  my_list = [1, 2, 3]\n",
                "  my_iterator = iter(my_list) # Get an iterator from the iterable\n",
                "  print(next(my_iterator)) # Output: 1\n",
                "  print(next(my_iterator)) # Output: 2\n",
                "  print(next(my_iterator)) # Output: 3\n",
                "  try:\n",
                "      print(next(my_iterator))\n",
                "  except StopIteration:\n",
                "      print(\"End of iteration.\")\n",
                "  ```\n",
                "**Key Difference:** An **iterable** is something you can loop over (like a list); an **iterator** is the object that keeps track of the current position during iteration and provides the next element. You can get an iterator from an iterable using `iter()`."
            ]
        },
        {
            "cell_type": "markdown",
            "metadata": {},
            "source": [
                "### 6. Explain the concept of generators in Python and how they are defined.\n",
                "\n",
                "**Answer:**\n",
                "- **Generators:** Generators are a simple and powerful tool for creating iterators. They are functions that, instead of returning a single value and terminating, `yield` a sequence of values one at a time, pausing execution after each `yield` and resuming from where they left off on the next call. This makes them 'lazy' iterators, producing values on demand.\n",
                "- **How they are defined:** Generators are defined like regular functions, but instead of using the `return` statement, they use the `yield` statement to produce a value. When a generator function is called, it returns a generator object (an iterator) without executing any of the code inside the function immediately.\n",
                "  **Example:**\n",
                "  ```python\n",
                "  def count_up_to(n):\n",
                "      i = 1\n",
                "      while i <= n:\n",
                "          yield i # Pauses here and yields i\n",
                "          i += 1\n",
                "\n",
                "  my_generator = count_up_to(3) # Calling the function returns a generator object\n",
                "  print(type(my_generator)) # Output: <class 'generator'>\n",
                "\n",
                "  print(next(my_generator)) # Resumes, runs until yield, Output: 1\n",
                "  print(next(my_generator)) # Resumes, runs until yield, Output: 2\n",
                "  print(next(my_generator)) # Resumes, runs until yield, Output: 3\n",
                "  try:\n",
                "      print(next(my_generator))\n",
                "  except StopIteration:\n",
                "      print(\"Generator exhausted.\")\n",
                "\n",
                "  # Generators are commonly used in for loops\n",
                "  print(\"\\nUsing generator in a for loop:\")\n",
                "  for num in count_up_to(5):\n",
                "      print(num)\n",
                "  ```"
            ]
        },
        {
            "cell_type": "markdown",
            "metadata": {},
            "source": [
                "### 7. What are the advantages of using generators over regular functions?\n",
                "\n",
                "**Answer:** Generators offer several advantages, especially when dealing with large datasets or infinite sequences:\n",
                "1.  **Memory Efficiency (Lazy Evaluation):** Generators produce items one at a time and on demand.     They don't store the entire sequence in memory, which is crucial for large datasets that wouldn't fit into RAM.     Regular functions that return lists build the entire list in memory before returning.\n",
                "2.  **Performance:** Because they produce values lazily, they can be faster when you only need to process a few items from a very long sequence.\n",
                "3.  **Infinite Sequences:** Generators can represent infinite sequences (e.g., all prime numbers) because they don't need to compute and store them all at once.\n",
                "4.  **Readability and Simplicity:** Writing generators often leads to cleaner and more concise code compared to implementing a custom iterator class with `__iter__` and `__next__` methods.\n",
                "5.  **Pipelining:** Generators can be chained together to form efficient data processing pipelines, where each generator processes data from the previous one without materializing intermediate lists."
            ]
        },
        {
            "cell_type": "markdown",
            "metadata": {},
            "source": [
                "### 8. What is a lambda function in Python and when is it typically used?\n",
                "\n",
                "**Answer:**\n",
                "- **Lambda Function (Anonymous Function):** A lambda function is a small, anonymous (nameless) inline function defined with the `lambda` keyword. It can take any number of arguments but can only have one expression. The result of this expression is implicitly returned.\n",
                "  **Syntax:** `lambda arguments: expression`\n",
                "  **Example:**\n",
                "  ```python\n",
                "  add_one = lambda x: x + 1\n",
                "  print(add_one(5)) # Output: 6\n",
                "  ```\n",
                "- **When is it typically used?** Lambda functions are typically used for:\n",
                "    - **Short, simple, one-time operations:** When a small function is needed for a brief period and defining a full `def` function would be overkill.\n",
                "    - **As arguments to higher-order functions:** They are commonly used with functions that take other functions as arguments, such as `map()`, `filter()`, `sorted()`, `min()`, `max()`, and `key` arguments in sorting/comparison operations.\n",
                "  **Example with `sorted()`:**\n",
                "  ```python\n",
                "  students = [('Alice', 20), ('Bob', 18), ('Charlie', 22)]\n",
                "  # Sort by age (second element of the tuple)\n",
                "  sorted_students = sorted(students, key=lambda student: student[1])\n",
                "  print(sorted_students) # Output: [('Bob', 18), ('Alice', 20), ('Charlie', 22)]\n",
                "  ```"
            ]
        },
        {
            "cell_type": "markdown",
            "metadata": {},
            "source": [
                "### 9. Explain the purpose and usage of the `map()` function in Python.\n",
                "\n",
                "**Answer:**\n",
                "- **Purpose:** The `map()` function applies a given function to each item of an iterable (like a list or tuple) and returns an iterator that yields the results. It's a concise way to perform the same operation on every element of a sequence without explicit loops.\n",
                "- **Usage:** `map(function, iterable, ...)`\n",
                "    - `function`: The function to apply to each item.\n",
                "    - `iterable`: One or more iterables whose elements will be passed to the function.\n",
                "  **Example:** Squaring each number in a list.\n",
                "  ```python\n",
                "  numbers = [1, 2, 3, 4]\n",
                "  def square(x):\n",
                "      return x * x\n",
                "  \n",
                "  squared_numbers_map_object = map(square, numbers)\n",
                "  print(f\"Map object: {squared_numbers_map_object}\")\n",
                "  squared_numbers_list = list(squared_numbers_map_object)\n",
                "  print(f\"Squared numbers: {squared_numbers_list}\") # Output: [1, 4, 9, 16]\n",
                "  \n",
                "  # Using lambda with map\n",
                "  doubled_numbers = list(map(lambda x: x * 2, numbers))\n",
                "  print(f\"Doubled numbers: {doubled_numbers}\") # Output: [2, 4, 6, 8]\n",
                "  ```"
            ]
        },
        {
            "cell_type": "markdown",
            "metadata": {},
            "source": [
                "### 10. What is the difference between `map()`, `reduce()`, and `filter()` functions in Python?\n",
                "\n",
                "**Answer:** These are three common higher-order functions in Python, often used with functional programming paradigms.\n",
                "- **`map()`:**\n",
                "    - **Purpose:** Applies a function to each item in an iterable and returns an iterator of the results.\n",
                "    - **Output:** Transforms each element individually. The output iterable has the same number of elements as the input iterable.\n",
                "    - **Example:** `map(lambda x: x*2, [1, 2, 3])` -> `[2, 4, 6]` (doubles each number)\n",
                "- **`filter()`:**\n",
                "    - **Purpose:** Constructs an iterator from elements of an iterable for which a function returns true.\n",
                "    - **Output:** Selects a subset of elements. The output iterable may have fewer elements than the input.\n",
                "    - **Example:** `filter(lambda x: x % 2 == 0, [1, 2, 3, 4])` -> `[2, 4]` (keeps only even numbers)\n",
                "- **`reduce()` (from `functools` module):**\n",
                "    - **Purpose:** Applies a function of two arguments cumulatively to the items of an iterable, from left to right,       so as to reduce the iterable to a single value.\n",
                "    - **Output:** Aggregates all elements into a single result.\n",
                "    - **Example:** `from functools import reduce; reduce(lambda x, y: x + y, [1, 2, 3, 4])` -> `10` (sums all numbers)\n",
                "\n",
                "**Summary Table:**\n",
                "| Function | Purpose        | Input Function Signature | Output Type | Output Size Relation to Input |\n",
                "|----------|----------------|--------------------------|-------------|-------------------------------|\n",
                "| `map()`  | Transformation | `func(item)`             | Iterator    | Same                          |\n",
                "| `filter()` | Selection      | `func(item)` (returns bool)| Iterator    | Less than or equal            |\n",
                "| `reduce()` | Aggregation    | `func(accumulator, item)`| Single Value| Single value                  |"
            ]
        },
        {
            "cell_type": "markdown",
            "metadata": {},
            "source": [
                "### 11. Using pen & Paper write the internal mechanism for sum operation using reduce function on this given list: `[47, 11, 42, 13]`\n",
                "\n",
                "**Answer:**\n",
                "*(Note: As per the instruction, this would ideally be an image of a handwritten explanation. Here's a text-based explanation of the internal mechanism.)*\n",
                "\n",
                "The `reduce()` function, when used with a sum operation (e.g., `lambda x, y: x + y`) on the list `[47, 11, 42, 13]`, works as follows:\n",
                "\n",
                "1.  **Initialization:** The `reduce` function takes the first two elements of the list and applies the function to them.\n",
                "    - `accumulator = 47`\n",
                "    - `current_item = 11`\n",
                "    - **Step 1:** `result = accumulator + current_item` $\\Rightarrow$ `47 + 11 = 58`\n",
                "    The `result` (58) now becomes the new `accumulator`.\n",
                "\n",
                "2.  **Second Iteration:** The new `accumulator` (58) is combined with the next element in the list (42).\n",
                "    - `accumulator = 58`\n",
                "    - `current_item = 42`\n",
                "    - **Step 2:** `result = accumulator + current_item` $\\Rightarrow$ `58 + 42 = 100`\n",
                "    The `result` (100) now becomes the new `accumulator`.\n",
                "\n",
                "3.  **Third Iteration:** The new `accumulator` (100) is combined with the next element in the list (13).\n",
                "    - `accumulator = 100`\n",
                "    - `current_item = 13`\n",
                "    - **Step 3:** `result = accumulator + current_item` $\\Rightarrow$ `100 + 13 = 113`\n",
                "    The `result` (113) now becomes the new `accumulator`.\n",
                "\n",
                "4.  **Final Result:** Since there are no more elements in the list, the final `accumulator` value (113) is returned as the result of the `reduce` operation.\n",
                "\n",
                "**Visual Trace:**\n",
                "```\n",
                "List: [47, 11, 42, 13]\n",
                "Function: lambda x, y: x + y\n",
                "\n",
                "1. reduce( (47, 11), [42, 13] )\n",
                "   -> 47 + 11 = 58\n",
                "\n",
                "2. reduce( (58, 42), [13] )\n",
                "   -> 58 + 42 = 100\n",
                "\n",
                "3. reduce( (100, 13), [] )\n",
                "   -> 100 + 13 = 113\n",
                "\n",
                "Final Result: 113\n",
                "```"
            ]
        },
        {
            "cell_type": "markdown",
            "metadata": {},
            "source": [
                "## Practical Questions"
            ]
        },
        {
            "cell_type": "markdown",
            "metadata": {},
            "source": [
                "### 1. Write a Python function that takes a list of numbers as input and returns the sum of all even numbers in the list."
            ]
        },
        {
            "cell_type": "code",
            "execution_count": 12,
            "metadata": {},
            "outputs": [
                {
                    "name": "stdout",
                    "output_type": "stream",
                    "text": [
                        "Sum of even numbers in [1, 2, 3, 4, 5, 6]: 12\n",
                        "Sum of even numbers in [10, 25, 30, 45, 50]: 90\n",
                        "Sum of even numbers in [1, 3, 5, 7]: 0\n",
                        "Sum of even numbers in []: 0\n"
                    ]
                }
            ],
            "source": [
                "def sum_even_numbers(numbers):\n",
                "    \"\"\"\n",
                "    Calculates the sum of all even numbers in a list.\n",
                "    Args:\n",
                "        numbers (list): A list of numerical values.\n",
                "    Returns:\n",
                "        int or float: The sum of even numbers.\n",
                "    \"\"\"\n",
                "    total_sum = 0\n",
                "    for num in numbers:\n",
                "        if num % 2 == 0:\n",
                "            total_sum += num\n",
                "    return total_sum\n",
                "\n",
                "# Test cases\n",
                "list1 = [1, 2, 3, 4, 5, 6]\n",
                "print(f\"Sum of even numbers in {list1}: {sum_even_numbers(list1)}\") # Expected: 12\n",
                "\n",
                "list2 = [10, 25, 30, 45, 50]\n",
                "print(f\"Sum of even numbers in {list2}: {sum_even_numbers(list2)}\") # Expected: 90\n",
                "\n",
                "list3 = [1, 3, 5, 7]\n",
                "print(f\"Sum of even numbers in {list3}: {sum_even_numbers(list3)}\") # Expected: 0\n",
                "\n",
                "list4 = []\n",
                "print(f\"Sum of even numbers in {list4}: {sum_even_numbers(list4)}\") # Expected: 0"
            ]
        },
        {
            "cell_type": "markdown",
            "metadata": {},
            "source": [
                "### 2. Create a Python function that accepts a string and returns the reverse of that string."
            ]
        },
        {
            "cell_type": "code",
            "execution_count": 13,
            "metadata": {},
            "outputs": [
                {
                    "name": "stdout",
                    "output_type": "stream",
                    "text": [
                        "Reverse of 'hello': olleh\n",
                        "Reverse of 'Python': nohtyP\n",
                        "Reverse of '': \n"
                    ]
                }
            ],
            "source": [
                "def reverse_string(s):\n",
                "    \"\"\"\n",
                "    Reverses a given string.\n",
                "    Args:\n",
                "        s (str): The input string.\n",
                "    Returns:\n",
                "        str: The reversed string.\n",
                "    \"\"\"\n",
                "    return s[::-1] # Pythonic way to reverse a string using slicing\n",
                "\n",
                "# Alternative using a loop\n",
                "def reverse_string_loop(s):\n",
                "    reversed_s = \"\"\n",
                "    index = len(s) - 1\n",
                "    while index >= 0:\n",
                "        reversed_s += s[index]\n",
                "        index -= 1\n",
                "    return reversed_s\n",
                "\n",
                "# Test cases\n",
                "print(f\"Reverse of 'hello': {reverse_string('hello')}\") # Expected: olleh\n",
                "print(f\"Reverse of 'Python': {reverse_string('Python')}\") # Expected: nohtyP\n",
                "print(f\"Reverse of '': {reverse_string('')}\")       # Expected: ''"
            ]
        },
        {
            "cell_type": "markdown",
            "metadata": {},
            "source": [
                "### 3. Implement a Python function that takes a list of integers and returns a new list containing the squares of each number."
            ]
        },
        {
            "cell_type": "code",
            "execution_count": 14,
            "metadata": {},
            "outputs": [
                {
                    "name": "stdout",
                    "output_type": "stream",
                    "text": [
                        "Squares of [1, 2, 3, 4, 5]: [1, 4, 9, 16, 25]\n",
                        "Squares of [-2, 0, 3]: [4, 0, 9]\n",
                        "Squares of []: []\n"
                    ]
                }
            ],
            "source": [
                "def square_numbers(numbers):\n",
                "    \"\"\"\n",
                "    Calculates the square of each number in a list and returns a new list.\n",
                "    Args:\n",
                "        numbers (list): A list of integers.\n",
                "    Returns:\n",
                "        list: A new list containing the squares of the input numbers.\n",
                "    \"\"\"\n",
                "    squared_list = []\n",
                "    for num in numbers:\n",
                "        squared_list.append(num ** 2)\n",
                "    return squared_list\n",
                "\n",
                "# Alternative using list comprehension\n",
                "def square_numbers_comprehension(numbers):\n",
                "    return [num ** 2 for num in numbers]\n",
                "\n",
                "# Alternative using map()\n",
                "def square_numbers_map(numbers):\n",
                "    return list(map(lambda x: x ** 2, numbers))\n",
                "\n",
                "# Test cases\n",
                "list1 = [1, 2, 3, 4, 5]\n",
                "print(f\"Squares of {list1}: {square_numbers(list1)}\") # Expected: [1, 4, 9, 16, 25]\n",
                "\n",
                "list2 = [-2, 0, 3]\n",
                "print(f\"Squares of {list2}: {square_numbers_comprehension(list2)}\") # Expected: [4, 0, 9]\n",
                "\n",
                "list3 = []\n",
                "print(f\"Squares of {list3}: {square_numbers_map(list3)}\") # Expected: []"
            ]
        },
        {
            "cell_type": "markdown",
            "metadata": {},
            "source": [
                "### 4. Write a Python function that checks if a given number is prime or not from 1 to 200."
            ]
        },
        {
            "cell_type": "code",
            "execution_count": 15,
            "metadata": {},
            "outputs": [
                {
                    "name": "stdout",
                    "output_type": "stream",
                    "text": [
                        "Prime numbers between 1 and 200:\n",
                        "[2, 3, 5, 7, 11, 13, 17, 19, 23, 29, 31, 37, 41, 43, 47, 53, 59, 61, 67, 71, 73, 79, 83, 89, 97, 101, 103, 107, 109, 113, 127, 131, 137, 139, 149, 151, 157, 163, 167, 173, 179, 181, 191, 193, 197, 199]\n",
                        "Is 7 prime? True\n",
                        "Is 10 prime? False\n",
                        "Is 1 prime? False\n",
                        "Is 2 prime? True\n",
                        "Is 17 prime? True\n",
                        "Is 199 prime? True\n"
                    ]
                }
            ],
            "source": [
                "import math\n",
                "\n",
                "\n",
                "def is_prime(number):\n",
                "    \"\"\"\n",
                "    Checks if a given number is prime.\n",
                "    A prime number is a natural number greater than 1 that has no positive divisors other than 1 and itself.\n",
                "    Args:\n",
                "        number (int): The number to check.\n",
                "    Returns:\n",
                "        bool: True if the number is prime, False otherwise.\n",
                "    \"\"\"\n",
                "    if number <= 1:\n",
                "        return False\n",
                "    # Check for divisibility from 2 up to the square root of the number\n",
                "    # We only need to check up to sqrt(number) because if n has a divisor d > sqrt(n),\n",
                "    # then it must have a divisor d' < sqrt(n).\n",
                "    for i in range(2, int(math.sqrt(number)) + 1):\n",
                "        if number % i == 0:\n",
                "            return False\n",
                "    return True\n",
                "\n",
                "print(\"Prime numbers between 1 and 200:\")\n",
                "primes_found = []\n",
                "for num in range(1, 201):\n",
                "    if is_prime(num):\n",
                "        primes_found.append(num)\n",
                "print(primes_found)\n",
                "\n",
                "# Test individual numbers\n",
                "print(f\"Is 7 prime? {is_prime(7)}\")     # Expected: True\n",
                "print(f\"Is 10 prime? {is_prime(10)}\")   # Expected: False\n",
                "print(f\"Is 1 prime? {is_prime(1)}\")     # Expected: False\n",
                "print(f\"Is 2 prime? {is_prime(2)}\")     # Expected: True\n",
                "print(f\"Is 17 prime? {is_prime(17)}\")   # Expected: True\n",
                "print(f\"Is 199 prime? {is_prime(199)}\") # Expected: True"
            ]
        },
        {
            "cell_type": "markdown",
            "metadata": {},
            "source": [
                "### 5. Create an iterator class in Python that generates the Fibonacci sequence up to a specified number of terms."
            ]
        },
        {
            "cell_type": "code",
            "execution_count": 16,
            "metadata": {},
            "outputs": [
                {
                    "name": "stdout",
                    "output_type": "stream",
                    "text": [
                        "Fibonacci sequence for 0 terms:\n",
                        "[]\n",
                        "\n",
                        "Fibonacci sequence for 1 term:\n",
                        "[0]\n",
                        "\n",
                        "Fibonacci sequence for 2 terms:\n",
                        "[0, 1]\n",
                        "\n",
                        "Fibonacci sequence for 10 terms:\n",
                        "0 1 1 2 3 5 8 13 21 34 \n",
                        "\n",
                        "Fibonacci sequence for 5 terms (using list conversion):\n",
                        "[0, 1, 1, 2, 3]\n",
                        "\n",
                        "Error: Number of terms cannot be negative.\n"
                    ]
                }
            ],
            "source": [
                "class FibonacciIterator:\n",
                "    \"\"\"\n",
                "    An iterator class to generate the Fibonacci sequence up to a specified number of terms.\n",
                "    The Fibonacci sequence starts with 0 and 1, and each subsequent number is the sum of the two preceding ones.\n",
                "    \"\"\"\n",
                "    def __init__(self, num_terms):\n",
                "        if num_terms < 0:\n",
                "            raise ValueError(\"Number of terms cannot be negative.\")\n",
                "        self.num_terms = num_terms\n",
                "        self.current_term = 0 # Counter for terms generated\n",
                "        self.a = 0            # First Fibonacci number\n",
                "        self.b = 1            # Second Fibonacci number\n",
                "\n",
                "    def __iter__(self):\n",
                "        # An iterator's __iter__ method returns itself.\n",
                "        return self\n",
                "\n",
                "    def __next__(self):\n",
                "        # This method returns the next item in the sequence.\n",
                "        if self.current_term < self.num_terms:\n",
                "            if self.current_term == 0:\n",
                "                self.current_term += 1\n",
                "                return self.a # Return 0 for the first term\n",
                "            elif self.current_term == 1:\n",
                "                self.current_term += 1\n",
                "                return self.b # Return 1 for the second term\n",
                "            else:\n",
                "                # Calculate the next Fibonacci number\n",
                "                next_fib = self.a + self.b\n",
                "                # Update a and b for the next iteration\n",
                "                self.a = self.b\n",
                "                self.b = next_fib\n",
                "                self.current_term += 1\n",
                "                return next_fib\n",
                "        else:\n",
                "            # Stop iteration when all terms are generated\n",
                "            raise StopIteration\n",
                "\n",
                "# Test cases\n",
                "print(\"Fibonacci sequence for 0 terms:\")\n",
                "fib_iter0 = FibonacciIterator(0)\n",
                "print(list(fib_iter0)) # Expected: []\n",
                "\n",
                "print(\"\\nFibonacci sequence for 1 term:\")\n",
                "fib_iter1 = FibonacciIterator(1)\n",
                "print(list(fib_iter1)) # Expected: [0]\n",
                "\n",
                "print(\"\\nFibonacci sequence for 2 terms:\")\n",
                "fib_iter2 = FibonacciIterator(2)\n",
                "print(list(fib_iter2)) # Expected: [0, 1]\n",
                "\n",
                "print(\"\\nFibonacci sequence for 10 terms:\")\n",
                "fib_iter10 = FibonacciIterator(10)\n",
                "for num in fib_iter10:\n",
                "    print(num, end=\" \")\n",
                "# Expected: 0 1 1 2 3 5 8 13 21 34\n",
                "\n",
                "print(\"\\n\\nFibonacci sequence for 5 terms (using list conversion):\")\n",
                "fib_iter5 = FibonacciIterator(5)\n",
                "print(list(fib_iter5)) # Expected: [0, 1, 1, 2, 3]\n",
                "\n",
                "try:\n",
                "    fib_iter_neg = FibonacciIterator(-1)\n",
                "except ValueError as e:\n",
                "    print(f\"\\nError: {e}\")"
            ]
        },
        {
            "cell_type": "markdown",
            "metadata": {},
            "source": [
                "### 6. Write a generator function in Python that yields the powers of 2 up to a given exponent."
            ]
        },
        {
            "cell_type": "code",
            "execution_count": 17,
            "metadata": {},
            "outputs": [
                {
                    "name": "stdout",
                    "output_type": "stream",
                    "text": [
                        "Powers of 2 up to exponent 0:\n",
                        "[1]\n",
                        "\n",
                        "Powers of 2 up to exponent 3:\n",
                        "1 2 4 8 \n",
                        "\n",
                        "Powers of 2 up to exponent 5 (using list conversion):\n",
                        "[1, 2, 4, 8, 16, 32]\n",
                        "\n",
                        "Powers of 2 with negative exponent (should be empty):\n",
                        "[]\n"
                    ]
                }
            ],
            "source": [
                "def powers_of_two(max_exponent):\n",
                "    \"\"\"\n",
                "    A generator function that yields powers of 2 up to a given maximum exponent.\n",
                "    Args:\n",
                "        max_exponent (int): The maximum exponent to calculate powers of 2 for.\n",
                "    Yields:\n",
                "        int: The next power of 2.\n",
                "    \"\"\"\n",
                "    if max_exponent < 0:\n",
                "        return # Yield nothing for negative exponents\n",
                "\n",
                "    for i in range(max_exponent + 1):\n",
                "        yield 2 ** i\n",
                "\n",
                "# Test cases\n",
                "print(\"Powers of 2 up to exponent 0:\")\n",
                "print(list(powers_of_two(0))) # Expected: [1]\n",
                "\n",
                "print(\"\\nPowers of 2 up to exponent 3:\")\n",
                "for p in powers_of_two(3):\n",
                "    print(p, end=\" \")\n",
                "# Expected: 1 2 4 8\n",
                "\n",
                "print(\"\\n\\nPowers of 2 up to exponent 5 (using list conversion):\")\n",
                "print(list(powers_of_two(5))) # Expected: [1, 2, 4, 8, 16, 32]\n",
                "\n",
                "print(\"\\nPowers of 2 with negative exponent (should be empty):\")\n",
                "print(list(powers_of_two(-2))) # Expected: []"
            ]
        },
        {
            "cell_type": "markdown",
            "metadata": {},
            "source": [
                "### 7. Implement a generator function that reads a file line by line and yields each line as a string."
            ]
        },
        {
            "cell_type": "code",
            "execution_count": 18,
            "metadata": {},
            "outputs": [
                {
                    "name": "stdout",
                    "output_type": "stream",
                    "text": [
                        "Created sample_lines.txt for demonstration.\n",
                        "\n",
                        "Reading lines from sample_lines.txt using the generator:\n",
                        "READ: This is line 1.\n",
                        "READ: This is line 2.\n",
                        "READ: Line 3 here.\n",
                        "READ: And finally, line 4.\n",
                        "\n",
                        "Attempting to read from a non-existent file:\n",
                        "Error: File not found at non_existent_file.txt\n"
                    ]
                }
            ],
            "source": [
                "# First, let's create a dummy file for demonstration\n",
                "file_content = \"\"\"\n",
                "This is line 1.\n",
                "This is line 2.\n",
                "Line 3 here.\n",
                "And finally, line 4.\n",
                "\"\"\"\n",
                "with open(\"sample_lines.txt\", \"w\") as f:\n",
                "    f.write(file_content.strip())\n",
                "print(\"Created sample_lines.txt for demonstration.\")\n",
                "\n",
                "def read_lines_generator(filepath):\n",
                "    \"\"\"\n",
                "    A generator function that reads a file line by line and yields each line.\n",
                "    This is memory-efficient for large files as it doesn't load the entire file into memory.\n",
                "    Args:\n",
                "        filepath (str): The path to the file to read.\n",
                "    Yields:\n",
                "        str: Each line from the file, including the newline character if present.\n",
                "    \"\"\"\n",
                "    try:\n",
                "        with open(filepath, 'r') as file:\n",
                "            for line in file:\n",
                "                yield line\n",
                "    except FileNotFoundError:\n",
                "        print(f\"Error: File not found at {filepath}\")\n",
                "    except Exception as e:\n",
                "        print(f\"An error occurred while reading the file: {e}\")\n",
                "\n",
                "# Test case\n",
                "print(\"\\nReading lines from sample_lines.txt using the generator:\")\n",
                "for line in read_lines_generator(\"sample_lines.txt\"):\n",
                "    print(f\"READ: {line.strip()}\") # .strip() to remove trailing newline for cleaner output\n",
                "\n",
                "print(\"\\nAttempting to read from a non-existent file:\")\n",
                "for line in read_lines_generator(\"non_existent_file.txt\"):\n",
                "    print(f\"READ: {line.strip()}\")"
            ]
        },
        {
            "cell_type": "markdown",
            "metadata": {},
            "source": [
                "### 8. Use a lambda function in Python to sort a list of tuples based on the second element of each tuple."
            ]
        },
        {
            "cell_type": "code",
            "execution_count": 19,
            "metadata": {},
            "outputs": [
                {
                    "name": "stdout",
                    "output_type": "stream",
                    "text": [
                        "Original list of tuples: [('apple', 5), ('banana', 2), ('cherry', 8), ('date', 1)]\n",
                        "Sorted list by second element: [('date', 1), ('banana', 2), ('apple', 5), ('cherry', 8)]\n",
                        "Sorted list by second element (descending): [('cherry', 8), ('apple', 5), ('banana', 2), ('date', 1)]\n"
                    ]
                }
            ],
            "source": [
                "list_of_tuples = [(\"apple\", 5), (\"banana\", 2), (\"cherry\", 8), (\"date\", 1)]\n",
                "print(f\"Original list of tuples: {list_of_tuples}\")\n",
                "\n",
                "# Sort the list based on the second element (index 1) of each tuple\n",
                "# The lambda function `item: item[1]` extracts the second element for comparison.\n",
                "sorted_list = sorted(list_of_tuples, key=lambda item: item[1])\n",
                "\n",
                "print(f\"Sorted list by second element: {sorted_list}\")\n",
                "# Expected: [('date', 1), ('banana', 2), ('apple', 5), ('cherry', 8)]\n",
                "\n",
                "# Example: Sorting in descending order\n",
                "sorted_desc = sorted(list_of_tuples, key=lambda item: item[1], reverse=True)\n",
                "print(f\"Sorted list by second element (descending): {sorted_desc}\")"
            ]
        },
        {
            "cell_type": "markdown",
            "metadata": {},
            "source": [
                "### 9. Write a Python program that uses `map()` to convert a list of temperatures from Celsius to Fahrenheit."
            ]
        },
        {
            "cell_type": "code",
            "execution_count": 20,
            "metadata": {},
            "outputs": [
                {
                    "name": "stdout",
                    "output_type": "stream",
                    "text": [
                        "Original Celsius temperatures: [0, 10, 20, 30, 37, 100]\n",
                        "Converted Fahrenheit temperatures: [32.0, 50.0, 68.0, 86.0, 98.6, 212.0]\n"
                    ]
                }
            ],
            "source": [
                "# Formula: F = (C * 9/5) + 32\n",
                "\n",
                "celsius_temperatures = [0, 10, 20, 30, 37, 100]\n",
                "print(f\"Original Celsius temperatures: {celsius_temperatures}\")\n",
                "\n",
                "# Define a lambda function for Celsius to Fahrenheit conversion\n",
                "c_to_f = lambda celsius: (celsius * 9/5) + 32\n",
                "\n",
                "# Use map() to apply the conversion to each temperature\n",
                "fahrenheit_temperatures_map_object = map(c_to_f, celsius_temperatures)\n",
                "\n",
                "# Convert the map object to a list for printing\n",
                "fahrenheit_temperatures = list(fahrenheit_temperatures_map_object)\n",
                "\n",
                "print(f\"Converted Fahrenheit temperatures: {fahrenheit_temperatures}\")\n",
                "# Expected: [32.0, 50.0, 68.0, 86.0, 98.6, 212.0]"
            ]
        },
        {
            "cell_type": "markdown",
            "metadata": {},
            "source": [
                "### 10. Create a Python program that uses `filter()` to remove all the vowels from a given string."
            ]
        },
        {
            "cell_type": "code",
            "execution_count": 21,
            "metadata": {},
            "outputs": [
                {
                    "name": "stdout",
                    "output_type": "stream",
                    "text": [
                        "Original string: 'Hello World! This is Python Programming.'\n",
                        "String without vowels: 'Hll Wrld! Ths s Pythn Prgrmmng.'\n"
                    ]
                }
            ],
            "source": [
                "input_string = \"Hello World! This is Python Programming.\"\n",
                "vowels = \"aeiouAEIOU\"\n",
                "print(f\"Original string: '{input_string}'\")\n",
                "\n",
                "# Define a lambda function to check if a character is NOT a vowel\n",
                "# It returns True if the character is not in the vowels string.\n",
                "is_not_vowel = lambda char: char not in vowels\n",
                "\n",
                "# Use filter() to keep only non-vowel characters\n",
                "filtered_chars_object = filter(is_not_vowel, input_string)\n",
                "\n",
                "# Join the filtered characters back into a string\n",
                "string_without_vowels = \"\".join(filtered_chars_object)\n",
                "\n",
                "print(f\"String without vowels: '{string_without_vowels}'\")\n",
                "# Expected: Hll Wrld! Ths s Pythn Prgrmmng."
            ]
        },
        {
            "cell_type": "markdown",
            "metadata": {},
            "source": [
                "### 11. Imagine an accounting routine used in a book shop. It works on a list with sublists, which look like this:\n",
                "```\n",
                "\"Order Number\",\"Book Title and Author\",\"Quantity\",\"Price per Item\"\n",
                "\"34587\",\"Learning Python, Mark Lutz\",\"4\",\"40.95\"\n",
                "\"98762\",\"Programming Python, Mark Lutz\",\"5\",\"56.80\"\n",
                "\"77226\",\"Head First Python, Paul Barry\",\"3\",\"32.95\"\n",
                "\"88112\",\"Einführung in Python3, Bernd Klein\",\"3\",\"24.99\"\n",
                "```\n",
                "Write a Python program, which returns a list with 2-tuples. Each tuple consists of the order number and the product of the price per item and the quantity. The product should be increased by 10,- € if the value of the order is smaller than 100,00 €.\n",
                "Write a Python program using lambda and map."
            ]
        },
        {
            "cell_type": "code",
            "execution_count": 22,
            "metadata": {},
            "outputs": [
                {
                    "name": "stdout",
                    "output_type": "stream",
                    "text": [
                        "Original Order Data:\n",
                        "['34587', 'Learning Python, Mark Lutz', '4', '40.95']\n",
                        "['98762', 'Programming Python, Mark Lutz', '5', '56.80']\n",
                        "['77226', 'Head First Python, Paul Barry', '3', '32.95']\n",
                        "['88112', 'Einführung in Python3, Bernd Klein', '3', '24.99']\n",
                        "\n",
                        "Processed Orders (Order Number, Final Product Value):\n",
                        "[('34587', 163.8), ('98762', 284.0), ('77226', 108.85000000000001), ('88112', 84.97)]\n"
                    ]
                }
            ],
            "source": [
                "# The provided data format is a bit tricky with newlines within fields.\n",
                "# Let's represent it as a list of lists for easier processing.\n",
                "# Each inner list represents a row, with elements as strings.\n",
                "orders_data = [\n",
                "    [\"34587\", \"Learning Python, Mark Lutz\", \"4\", \"40.95\"],\n",
                "    [\"98762\", \"Programming Python, Mark Lutz\", \"5\", \"56.80\"],\n",
                "    [\"77226\", \"Head First Python, Paul Barry\", \"3\", \"32.95\"],\n",
                "    [\"88112\", \"Einführung in Python3, Bernd Klein\", \"3\", \"24.99\"]\n",
                "]\n",
                "\n",
                "print(\"Original Order Data:\")\n",
                "for row in orders_data:\n",
                "    print(row)\n",
                "\n",
                "# Define a lambda function to process each order row\n",
                "# It takes a row (list) as input.\n",
                "# It extracts order number, quantity, and price.\n",
                "# Calculates the total product (quantity * price).\n",
                "# Applies the 10 EUR surcharge if total is < 100.\n",
                "# Returns a (order_number, final_product_value) tuple.\n",
                "process_order = lambda order_row: (\n",
                "    order_row[0], # Order Number\n",
                "    (float(order_row[2]) * float(order_row[3])) + (10 if (float(order_row[2]) * float(order_row[3])) < 100 else 0)\n",
                ")\n",
                "\n",
                "# Use map() to apply the process_order lambda function to each row in orders_data\n",
                "processed_orders_map_object = map(process_order, orders_data)\n",
                "\n",
                "# Convert the map object to a list of tuples\n",
                "final_result = list(processed_orders_map_object)\n",
                "\n",
                "print(\"\\nProcessed Orders (Order Number, Final Product Value):\")\n",
                "print(final_result)\n",
                "\n",
                "# Expected Output Calculation:\n",
                "# Order 34587: 4 * 40.95 = 163.80 (>= 100, no surcharge) -> (34587, 163.80)\n",
                "# Order 98762: 5 * 56.80 = 284.00 (>= 100, no surcharge) -> (98762, 284.00)\n",
                "# Order 77226: 3 * 32.95 = 98.85 (< 100, add 10) -> (77226, 108.85)\n",
                "# Order 88112: 3 * 24.99 = 74.97 (< 100, add 10) -> (88112, 84.97)\n",
                "\n",
                "# Final Expected Result:\n",
                "# [('34587', 163.80), ('98762', 284.0), ('77226', 108.85), ('88112', 84.97)]"
            ]
        }
    ],
    "metadata": {
        "colab": {
            "collapsed_sections": [],
            "name": "Functions_Assignment_Answers.ipynb",
            "provenance": []
        },
        "kernelspec": {
            "display_name": ".venv",
            "language": "python",
            "name": "python3"
        },
        "language_info": {
            "codemirror_mode": {
                "name": "ipython",
                "version": 3
            },
            "file_extension": ".py",
            "mimetype": "text/x-python",
            "name": "python",
            "nbconvert_exporter": "python",
            "pygments_lexer": "ipython3",
            "version": "3.11.9"
        }
    },
    "nbformat": 4,
    "nbformat_minor": 5
}
