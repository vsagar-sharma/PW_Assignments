{
  "cells": [
    {
      "cell_type": "markdown",
      "source": [
        "1. What are data structures, and why are they important?\n",
        "\n",
        "Data structures are ways of organizing and storing data efficiently. They are important because they help manage data for optimal access and modification, making algorithms more efficient and improving program performance.\n",
        "\n",
        "2. Explain the difference between mutable and immutable data types with examples.\n",
        "\n",
        "Mutable types can be changed after creation (e.g., lists: my_list[0] = 5). Immutable types cannot be changed once created (e.g., strings: \"hello\"[0] = 'H' causes an error).\n",
        "\n",
        "3. What are the main differences between lists and tuples in Python?\n",
        "Lists are mutable and can be modified; tuples are immutable. Lists use square brackets [], while tuples use parentheses (). Tuples are slightly faster and are used when data shouldn’t change.\n",
        "4. Describe how dictionaries store data.\n",
        "Dictionaries store data as key-value pairs using a hash table under the hood. Each key is hashed to determine where its value is stored in memory.\n",
        "5. Why might you use a set instead of a list in Python?\n",
        "Sets automatically remove duplicates and offer faster membership checks (in) compared to lists, making them ideal for unique items and fast lookups.\n",
        "6. What is a string in Python, and how is it different from a list?\n",
        "A string is a sequence of characters and is immutable. A list is a sequence of elements (any type) and is mutable.\n",
        "7. How do tuples ensure data integrity in Python?\n",
        "Since tuples are immutable, their contents cannot be changed, ensuring that the data remains constant and unaltered, which is useful in secure or fixed datasets.\n",
        "8. What is a hash table, and how does it relate to dictionaries in Python?\n",
        "A hash table is a data structure that maps keys to values using a hash function. Python dictionaries use hash tables internally to allow fast access, insertion, and deletion.\n",
        "9. Can lists contain different data types in Python?\n",
        "Yes, Python lists can hold elements of different types (e.g., [\"apple\", 10, True]), thanks to Python’s dynamic typing.\n",
        "10. Explain why strings are immutable in Python?\n",
        "Strings are immutable to improve performance and security. Since they can’t be changed, they are hashable and can be used as keys in dictionaries.\n",
        "11. What advantages do dictionaries offer over lists for certain tasks?\n",
        "Dictionaries allow fast lookups using keys, unlike lists which require searching by index or iterating. This makes dictionaries better for data with meaningful labels.\n",
        "12. Describe a scenario where using a tuple would be preferable over a list.\n",
        "When storing fixed configuration data (like (latitude, longitude)) that shouldn’t change, tuples are preferred to prevent accidental modifications.\n",
        "13. How do sets handle duplicate values in Python?\n",
        "Sets automatically discard duplicates. Adding a duplicate element has no effect.\n",
        "14. How does the “in” keyword work differently for lists and dictionaries?\n",
        "In lists, 'in' checks if an element exists. In dictionaries, 'in' checks for the presence of a key, not a value.\n",
        "15. Can you modify the elements of a tuple? Explain why or why not.\n",
        "No, tuples are immutable, meaning once created, their elements cannot be modified. This ensures consistency.\n",
        "16. What is a nested dictionary, and give an example of its use case?\n",
        "A nested dictionary is a dictionary within a dictionary. Example use case: storing student records by ID: {\"101\": {\"name\": \"Alice\", \"marks\": 90}}\n",
        "17. Describe the time complexity of accessing elements in a dictionary.\n",
        "Accessing an element by key in a dictionary has average time complexity of O(1) due to hash table implementation.\n",
        "18. In what situations are lists preferred over dictionaries?\n",
        "Lists are preferred when order matters or when storing sequences of items without specific labels, like a queue of tasks.\n",
        "19. Why are dictionaries considered unordered, and how does that affect data retrieval?\n",
        "Before Python 3.7, dictionaries didn’t maintain insertion order. Now they do, but conceptually, data is accessed by key, not position, affecting how you retrieve values.\n",
        "\n",
        "20. Explain the difference between a list and a dictionary in terms of data retrieval.\n",
        "Lists retrieve data by index (position), while dictionaries retrieve data by key (label). This makes dictionaries better for labeled data access.\n",
        "\n"
      ],
      "metadata": {
        "id": "tgjqti3mld7d"
      }
    }
  ],
  "metadata": {
    "colab": {
      "name": "Welcome To Colab",
      "provenance": []
    },
    "kernelspec": {
      "display_name": "Python 3",
      "name": "python3"
    }
  },
  "nbformat": 4,
  "nbformat_minor": 0
}