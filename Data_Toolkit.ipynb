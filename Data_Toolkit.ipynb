{
    "cells": [
        {
            "cell_type": "markdown",
            "id": "f5fb22d9",
            "metadata": {},
            "source": [
                "# Python Data Toolkit Assignment Answers"
            ]
        },
        {
            "cell_type": "markdown",
            "id": "db8aa388",
            "metadata": {},
            "source": [
                "This notebook contains the answers to the Python Data Toolkit Assignment questions."
            ]
        },
        {
            "cell_type": "markdown",
            "id": "0f1b7b23",
            "metadata": {},
            "source": [
                "## Installation"
            ]
        },
        {
            "cell_type": "markdown",
            "id": "fbaad2ff",
            "metadata": {},
            "source": [
                "Run the following cell to install and upgrade all necessary libraries, including core Jupyter components. This is important for ensuring all code runs without issues and interactive plots render correctly. **After running this, please restart your Jupyter kernel.** 🛠️"
            ]
        },
        {
            "cell_type": "code",
            "execution_count": null,
            "id": "525bb806",
            "metadata": {},
            "outputs": [],
            "source": [
                "# Install/upgrade necessary libraries, including Jupyter core components for rendering\n",
                "%pip install --upgrade numpy pandas matplotlib seaborn plotly jupyter jupyter_client nbformat"
            ]
        },
        {
            "cell_type": "markdown",
            "id": "300a52dd",
            "metadata": {},
            "source": [
                "---"
            ]
        },
        {
            "cell_type": "markdown",
            "id": "657f7a4c",
            "metadata": {},
            "source": [
                "## Theoretical Questions"
            ]
        },
        {
            "cell_type": "markdown",
            "id": "74aea12e",
            "metadata": {},
            "source": [
                "### 1. What is NumPy, and why is it widely used in Python?\n",
                "\n",
                "**Answer:** **NumPy** (Numerical Python) is a fundamental library for scientific computing in Python. It provides a high-performance multidimensional array object (`ndarray`) and tools for working with these arrays. It's widely used because:\n",
                "- **Efficiency:** NumPy operations are implemented in C, making them much faster than pure Python loops for numerical tasks.\n",
                "- **Vectorization:** It enables **vectorized operations**, allowing mathematical operations on entire arrays without explicit looping.\n",
                "- **Foundation:** Many other scientific and data analysis libraries (like Pandas, SciPy, Scikit-learn) are built on top of NumPy."
            ]
        },
        {
            "cell_type": "markdown",
            "id": "7c8b3ab1",
            "metadata": {},
            "source": [
                "### 2. How does broadcasting work in NumPy?\n",
                "\n",
                "**Answer:** **Broadcasting** is a powerful feature in NumPy that allows arithmetic operations between arrays with different shapes. When arrays have incompatible shapes for element-wise operations, NumPy attempts to 'broadcast' (stretch) the smaller array across the larger array so they have compatible shapes. This is done without actually making copies of data, which saves memory and is efficient.\n",
                "\n",
                "**Rules for Broadcasting:**\n",
                "1.  If the arrays differ in their number of dimensions, the shape of the one with fewer dimensions is padded with ones on its left side.\n",
                "2.  If the shape of the two arrays does not match in any dimension, the array with shape equal to 1 in that dimension is stretched to match the other shape.\n",
                "3.  If in any dimension the sizes disagree and neither is 1, an error is raised.\n",
                "\n",
                "**Example:** Adding a scalar to an array or adding a 1D array to a 2D array.\n",
                "```python\n",
                "import numpy as np\n",
                "arr = np.array([[1, 2, 3], [4, 5, 6]])\n",
                "scalar = 10\n",
                "result = arr + scalar # Scalar is broadcast across all elements\n",
                "print(result)\n",
                "# Output:\n",
                "# [[11 12 13]\n",
                "#  [14 15 16]]\n",
                "\n",
                "arr2 = np.array([[10, 20, 30]]) # Shape (1, 3)\n",
                "result2 = arr + arr2 # arr2 is broadcast across rows of arr\n",
                "print(result2)\n",
                "# Output:\n",
                "# [[11 22 33]\n",
                "#  [14 25 36]]\n",
                "```"
            ]
        },
        {
            "cell_type": "markdown",
            "id": "d5e4a06c",
            "metadata": {},
            "source": [
                "### 3. What is a Pandas DataFrame?\n",
                "\n",
                "**Answer:** A **Pandas DataFrame** is a two-dimensional, size-mutable, and potentially heterogeneous tabular data structure with labeled axes (rows and columns). It is the most commonly used Pandas object and is similar to a spreadsheet, a SQL table, or a dictionary of Series objects. DataFrames are highly efficient for storing and manipulating structured data, providing powerful tools for data cleaning, transformation, analysis, and visualization. Each column in a DataFrame is a Pandas Series."
            ]
        },
        {
            "cell_type": "markdown",
            "id": "ff7dcbc3",
            "metadata": {},
            "source": [
                "### 4. Explain the use of the `groupby()` method in Pandas.\n",
                "\n",
                "**Answer:** The `groupby()` method in Pandas is used for performing **\"split-apply-combine\"** operations on DataFrames. It groups rows based on one or more column values, applies a function (like `sum()`, `mean()`, `count()`, `min()`, `max()`) to each group independently, and then combines the results into a single DataFrame or Series.\n",
                "\n",
                "**Steps of `groupby()`:**\n",
                "1.  **Splitting:** Divides the DataFrame into groups based on specified criteria.\n",
                "2.  **Applying:** Applies a function to each individual group.\n",
                "3.  **Combining:** Combines the results of the applied function into a single data structure.\n",
                "\n",
                "**Example:** Calculating the average sales for different product categories.\n",
                "```python\n",
                "import pandas as pd\n",
                "data = {'Category': ['A', 'B', 'A', 'B', 'A'],\n",
                "        'Sales': [100, 150, 120, 80, 200]}\n",
                "df = pd.DataFrame(data)\n",
                "print(\"Original DataFrame:\\n\", df)\n",
                "average_sales = df.groupby('Category')['Sales'].mean()\n",
                "print(\"\\nAverage Sales by Category:\\n\", average_sales)\n",
                "# Output:\n",
                "# Average Sales by Category:\n",
                "# Category\n",
                "# A    140.0\n",
                "# B    115.0\n",
                "# Name: Sales, dtype: float64\n",
                "```"
            ]
        },
        {
            "cell_type": "markdown",
            "id": "0ebc1c7a",
            "metadata": {},
            "source": [
                "### 5. Why is Seaborn preferred for statistical visualizations?\n",
                "\n",
                "**Answer:** **Seaborn** is a Python data visualization library based on Matplotlib that provides a high-level interface for drawing attractive and informative statistical graphics. It is preferred for statistical visualizations because:\n",
                "-   **Aesthetics:** It produces visually appealing plots with thoughtful default styles and color palettes.\n",
                "-   **Statistical Focus:** It's designed specifically for statistical plotting, offering specialized plot types     (e.g., `pairplot`, `heatmap`, `lmplot`, `boxplot`, `violinplot`) that are common in statistical analysis.\n",
                "-   **Ease of Use:** It simplifies the creation of complex plots, often requiring fewer lines of code than Matplotlib     for similar statistical visualizations.\n",
                "-   **Pandas Integration:** It works seamlessly with Pandas DataFrames, making it easy to plot data directly from them."
            ]
        },
        {
            "cell_type": "markdown",
            "id": "bd47a33d",
            "metadata": {},
            "source": [
                "### 6. What are the differences between NumPy arrays and Python lists?\n",
                "\n",
                "**Answer:**\n",
                "| Feature        | NumPy Array (`ndarray`)                  | Python List                                 |\n",
                "|----------------|------------------------------------------|---------------------------------------------|\n",
                "| **Data Type** | Homogeneous (elements must be of same type)| Heterogeneous (elements can be different types)|\n",
                "| **Performance**| Much faster for numerical operations (vectorized, C-implemented) | Slower for numerical operations (requires loops) |\n",
                "| **Memory** | More memory-efficient (stores contiguous blocks) | Less memory-efficient (stores references to objects) |\n",
                "| **Functionality**| Optimized for mathematical operations (broadcasting, linear algebra) | General-purpose sequence (append, insert, remove) |\n",
                "| **Size** | Fixed size after creation                | Dynamically resizable                       |\n",
                "| **Usage** | Scientific computing, machine learning   | General-purpose data storage, collections   |"
            ]
        },
        {
            "cell_type": "markdown",
            "id": "64d048ef",
            "metadata": {},
            "source": [
                "### 7. What is a heatmap, and when should it be used?\n",
                "\n",
                "**Answer:** A **heatmap** is a graphical representation of data where individual values in a matrix are represented as colors. It's often used to visualize the magnitude of a phenomenon in 2D, where colors represent values and rows/columns represent categories or variables. Heatmaps are excellent for showing relationships between two variables or for visualizing a matrix of data.\n",
                "\n",
                "**When to use it:**\n",
                "-   **Correlation Matrices:** To visualize the correlation between multiple variables in a dataset.\n",
                "-   **Data Density/Distribution:** To show where data points are concentrated.\n",
                "-   **Confusion Matrices:** In machine learning, to show the performance of a classification model.\n",
                "-   **Geospatial Data:** To display variations in a variable across a geographical area.\n",
                "-   **Gene Expression Data:** In bioinformatics, to show the expression levels of genes across samples."
            ]
        },
        {
            "cell_type": "markdown",
            "id": "61a3e839",
            "metadata": {},
            "source": [
                "### 8. What does the term \"vectorized operation\" mean in NumPy?\n",
                "\n",
                "**Answer:** A **vectorized operation** in NumPy refers to applying an operation to an entire array at once, rather than element by element using explicit Python loops. NumPy achieves this by implementing these operations in highly optimized, pre-compiled C code. This leads to significantly faster execution times and more concise code, especially for large datasets, because it avoids the overhead of Python's interpreter loop for each element.\n",
                "\n",
                "**Example (Non-vectorized vs. Vectorized):**\n",
                "```python\n",
                "import numpy as np\n",
                "my_list = [i for i in range(1000000)]\n",
                "my_array = np.arange(1000000)\n",
                "\n",
                "# Non-vectorized (Python list loop)\n",
                "# start_time = time.time()\n",
                "# squared_list = [x**2 for x in my_list]\n",
                "# end_time = time.time()\n",
                "# print(f\"List loop time: {end_time - start_time:.4f} seconds\")\n",
                "\n",
                "# Vectorized (NumPy array operation)\n",
                "# start_time = time.time()\n",
                "squared_array = my_array**2\n",
                "# end_time = time.time()\n",
                "# print(f\"NumPy vectorized time: {end_time - start_time:.4f} seconds\")\n",
                "```\n",
                "You'd find the NumPy version to be orders of magnitude faster."
            ]
        },
        {
            "cell_type": "markdown",
            "id": "445b8843",
            "metadata": {},
            "source": [
                "### 9. How does Matplotlib differ from Plotly?\n",
                "\n",
                "**Answer:** Both **Matplotlib** and **Plotly** are popular Python libraries for data visualization, but they differ in key aspects:\n",
                "| Feature        | Matplotlib                                | Plotly                                     |\n",
                "|----------------|-------------------------------------------|--------------------------------------------|\n",
                "| **Interaction**| Primarily static, image-based plots (requires extra code for interactivity) | Highly interactive and web-based plots (zoom, pan, hover, select out-of-the-box) |\n",
                "| **Complexity** | Lower-level control, more verbose for complex plots, but highly customizable | Higher-level interface, simpler for complex interactive plots, sometimes less granular control |\n",
                "| **Output** | Static images (PNG, JPG, PDF, SVG), can embed in Jupyter | Interactive HTML files, JSON, or static images. Works well in web applications. |\n",
                "| **Aesthetics** | Defaults can be basic, requires more customization for attractiveness | Modern, aesthetically pleasing defaults. |\n",
                "| **Offline/Online**| Primarily offline                           | Can be used offline or online (Plotly Cloud) |\n",
                "| **Use Cases** | Scientific plotting, complex custom plots, publication-ready static figures | Interactive dashboards, web-based reporting, dynamic exploratory analysis |\n",
                "\n",
                "In essence, Matplotlib gives you fine-grained control for static plots, while Plotly excels at creating interactive, web-ready visualizations with less effort."
            ]
        },
        {
            "cell_type": "markdown",
            "id": "ce71a9df",
            "metadata": {},
            "source": [
                "### 10. What is the significance of hierarchical indexing in Pandas?\n",
                "\n",
                "**Answer:** **Hierarchical indexing**, also known as MultiIndex, is a crucial feature in Pandas that allows you to have multiple index levels (both rows and columns) on a Series or DataFrame. Its significance lies in its ability to handle and represent higher-dimensional data in a 2D format, making it a powerful tool for complex data analysis.\n",
                "\n",
                "**Significance:**\n",
                "-   **Handling Multi-dimensional Data:** It allows you to store and manipulate data that would typically require 3D or higher dimensions in a more manageable 2D DataFrame.\n",
                "-   **Complex Grouping/Aggregation:** Facilitates sophisticated `groupby` operations and aggregations across multiple levels.\n",
                "-   **Data Selection and Reshaping:** Enables powerful and flexible data selection using `loc` or `iloc` across different index levels, and is essential for reshaping operations like `stack`/`unstack` and `pivot_table`.\n",
                "-   **Improved Readability:** Organizes complex data in a structured way that can be more intuitive than flat tables with combined keys."
            ]
        },
        {
            "cell_type": "markdown",
            "id": "4be5f1a6",
            "metadata": {},
            "source": [
                "### 11. What is the role of Seaborn's `pairplot()` function?\n",
                "\n",
                "**Answer:** Seaborn's `pairplot()` function creates a grid of pairwise relationships in a dataset. It plots relationships between numerical variables across an entire DataFrame. For each pair of variables, it creates a scatter plot, and for the diagonal elements (where a variable is plotted against itself), it typically shows a univariate distribution plot (like a histogram or KDE plot).\n",
                "\n",
                "**Role:**\n",
                "-   **Exploratory Data Analysis (EDA):** `pairplot()` is excellent for quickly visualizing distributions and     relationships between multiple variables, helping to identify potential correlations, outliers, or patterns.\n",
                "-   **Initial Model Assessment:** It can provide preliminary insights into how features might relate to a target variable     or how features interact with each other, which is useful before building complex models."
            ]
        },
        {
            "cell_type": "markdown",
            "id": "6a1be992",
            "metadata": {},
            "source": [
                "### 12. What is the purpose of the `describe()` function in Pandas?\n",
                "\n",
                "**Answer:** The `describe()` function in Pandas generates **descriptive statistics** of a DataFrame or Series. Its main purpose is to provide a quick summary of the central tendency, dispersion, and shape of the data's distribution, excluding `NaN` values. It's an essential first step in **exploratory data analysis (EDA)**.\n",
                "\n",
                "**For Numerical Data:** It typically includes:\n",
                "-   `count`: Number of non-null observations.\n",
                "-   `mean`: Arithmetic mean.\n",
                "-   `std`: Standard deviation.\n",
                "-   `min`: Minimum value.\n",
                "-   `25%` (Q1): 25th percentile (first quartile).\n",
                "-   `50%` (Q2): 50th percentile (median).\n",
                "-   `75%` (Q3): 75th percentile (third quartile).\n",
                "-   `max`: Maximum value.\n",
                "\n",
                "**For Categorical Data (with `include='object'` or `include='all'`):** It provides counts of unique values, top occurring value, etc."
            ]
        },
        {
            "cell_type": "markdown",
            "id": "b6ee97b2",
            "metadata": {},
            "source": [
                "### 13. Why is handling missing data important in Pandas?\n",
                "\n",
                "**Answer:** Handling missing data (often represented as `NaN` - Not a Number, or `None`) is crucial in Pandas because it can significantly impact data analysis and machine learning model performance. If left unaddressed, missing values can lead to:\n",
                "-   **Biased or Inaccurate Results:** Calculations (like means, sums, correlations) might be incorrect or misleading.\n",
                "-   **Model Failures:** Many machine learning algorithms cannot handle missing values and will throw errors or produce unreliable predictions.\n",
                "-   **Reduced Dataset Size:** Simply dropping all rows with missing values might lead to a substantial loss of valuable data.\n",
                "-   **Misinterpretation:** Incorrect conclusions drawn from incomplete data.\n",
                "\n",
                "Common strategies for handling missing data include dropping rows/columns with `dropna()`, filling missing values with a specific value or statistical aggregate (`fillna()`), or using more advanced imputation techniques."
            ]
        },
        {
            "cell_type": "markdown",
            "id": "956d2215",
            "metadata": {},
            "source": [
                "### 14. What are the benefits of using Plotly for data visualization?\n",
                "\n",
                "**Answer:** Plotly offers several compelling benefits for data visualization:\n",
                "-   **Interactivity:** Its primary strength is creating interactive, web-based plots that allow users to zoom, pan, hover, and select data points directly in the browser or Jupyter notebooks.\n",
                "-   **High-Quality Graphics:** Produces aesthetically pleasing and publication-quality plots with minimal effort.\n",
                "-   **Web-Based Output:** Generates interactive HTML files that can be easily shared and embedded in web applications, dashboards, or static web pages.\n",
                "-   **Broad Chart Type Support:** Supports a vast array of chart types, including 2D/3D scatter plots, line plots, bar charts, heatmaps, box plots, geographical plots, and more.\n",
                "-   **Language Agnostic:** Plotly is available for multiple languages (Python, R, JavaScript, Julia), making it versatile.\n",
                "-   **Dash Framework:** It integrates seamlessly with Plotly's Dash framework for building interactive analytical web applications."
            ]
        },
        {
            "cell_type": "markdown",
            "id": "56b8fa71",
            "metadata": {},
            "source": [
                "### 15. How does NumPy handle multidimensional arrays?\n",
                "\n",
                "**Answer:** NumPy's core object is the `ndarray` (N-dimensional array), which is specifically designed to efficiently handle multidimensional arrays (e.g., 1D vectors, 2D matrices, 3D tensors). It stores elements of the same data type in a contiguous block of memory, which allows for highly optimized mathematical operations.\n",
                "\n",
                "**Key aspects of how NumPy handles them:**\n",
                "-   **`shape` attribute:** Provides a tuple indicating the size of the array in each dimension.\n",
                "-   **`ndim` attribute:** Returns the number of dimensions (axes) of the array.\n",
                "-   **Indexing and Slicing:** Supports flexible and powerful indexing/slicing (e.g., `arr[row, col]`, `arr[:, 1]`, `arr[0, :]`)     to access specific elements, rows, columns, or sub-arrays.\n",
                "-   **Broadcasting:** Allows operations on arrays with different shapes by intelligently expanding the smaller array (see Q2).\n",
                "-   **Universal Functions (ufuncs):** Provides element-wise operations (e.g., `np.add`, `np.sqrt`, `np.exp`) that work efficiently across all dimensions."
            ]
        },
        {
            "cell_type": "markdown",
            "id": "b3d58a57",
            "metadata": {},
            "source": [
                "### 16. What is the role of Bokeh in data visualization?\n",
                "\n",
                "**Answer:** **Bokeh** is an interactive visualization library for modern web browsers. Its role is to enable highly customizable and interactive visualizations directly in web browsers, making it suitable for building interactive dashboards and web applications. Unlike Matplotlib, which primarily generates static images, and Plotly, which often bundles data into HTML, Bokeh renders its plots using HTML and JavaScript, allowing for more complex interactivity and scalability for large datasets. It's particularly useful when you need to create custom interactive plots that are deeply integrated with web applications or served as standalone dynamic web pages."
            ]
        },
        {
            "cell_type": "markdown",
            "id": "a6a5fcd3",
            "metadata": {},
            "source": [
                "### 17. Explain the difference between `apply()` and `map()` in Pandas.\n",
                "\n",
                "**Answer:** Both `apply()` and `map()` are used to apply a function to data in Pandas, but they are used in different contexts and for different purposes:\n",
                "| Feature        | `Series.map()`                                     | `DataFrame.apply()`                                    |\n",
                "|----------------|----------------------------------------------------|--------------------------------------------------------|\n",
                "| **Target** | Operates only on a **Series** (a single column/row) | Operates on a **DataFrame** (row-wise or column-wise) |\n",
                "| **Function Input**| Takes a dictionary, Series, or a function (element-wise) | Takes a function that operates on a Series (row or column) or DataFrame itself |\n",
                "| **Behavior** | Element-wise mapping/substitution. Best for replacing values or simple transformations of individual elements. | Applies a function along an axis (rows or columns) or element-wise across the whole DataFrame. More general-purpose. |\n",
                "| **Performance**| Generally faster for element-wise Series transformations. | Can be slower than vectorized operations, but flexible for complex row/column transformations. |\n",
                "\n",
                "**Analogy:** `map()` is like changing every apple to an orange in a basket (element-wise substitution). `apply()` is like processing each fruit (row) in a basket individually, perhaps calculating its weight and ripeness, or performing a calculation across all fruits of a certain type (column-wise)."
            ]
        },
        {
            "cell_type": "markdown",
            "id": "2baec29e",
            "metadata": {},
            "source": [
                "### 18. What are some advanced features of NumPy?\n",
                "\n",
                "**Answer:** Beyond basic array creation and arithmetic, NumPy offers several advanced features:\n",
                "-   **Broadcasting:** (As discussed in Q2) Enables operations on arrays with different shapes.\n",
                "-   **Masked Arrays:** Handles missing or invalid data by creating a 'mask' over specific elements.\n",
                "-   **Linear Algebra:** Comprehensive functions for matrix operations, determinants, eigenvalues, etc. (`np.linalg`).\n",
                "-   **Fourier Transforms:** Tools for signal processing (`np.fft`).\n",
                "-   **Random Number Generation:** Sophisticated routines for generating numbers from various probability distributions (`np.random`).\n",
                "-   **Memory Mapping:** Allows arrays to be mapped to files on disk, enabling work with datasets larger than available RAM.\n",
                "-   **Structured Arrays (Record Arrays):** Arrays that can hold heterogeneous data types, similar to tables, where elements can be accessed by field names."
            ]
        },
        {
            "cell_type": "markdown",
            "id": "346670ec",
            "metadata": {},
            "source": [
                "### 19. How does Pandas simplify time series analysis?\n",
                "\n",
                "**Answer:** Pandas significantly simplifies time series analysis through its specialized data structures (especially `DatetimeIndex` for Series and DataFrames) and rich set of functionalities. It handles the complexities of date and time data, making operations intuitive:\n",
                "-   **Date/Time Handling:** Provides robust tools for parsing, manipulating, and generating date ranges.\n",
                "-   **Resampling:** Allows changing the frequency of time series data (e.g., daily to monthly averages).\n",
                "-   **Time-based Indexing:** Enables easy slicing and selection of data based on date ranges (e.g., `df['2023-01']`).\n",
                "-   **Lagging/Leading:** Functions for shifting data to compare values at different time points.\n",
                "-   **Rolling/Expanding Windows:** Supports calculations over moving windows (e.g., moving averages, rolling sums).\n",
                "-   **Missing Data Handling:** Integrates seamlessly with its missing data capabilities for time series specific scenarios."
            ]
        },
        {
            "cell_type": "markdown",
            "id": "108fc9bd",
            "metadata": {},
            "source": [
                "### 20. What is the role of a pivot table in Pandas?\n",
                "\n",
                "**Answer:** A **pivot table** in Pandas is a powerful data summarization tool that aggregates data from a DataFrame based on one or more key columns, reorganizing it into a new table. It transforms rows into columns, allowing you to see summarized views of your data. Its role is to:\n",
                "-   **Summarize Data:** Create summary tables (e.g., sums, averages, counts) based on combinations of categories.\n",
                "-   **Reshape Data:** Transform 'long' format data into 'wide' format, making it easier to analyze relationships between multiple variables.\n",
                "-   **Identify Trends/Patterns:** Quickly reveal patterns and trends by looking at cross-tabulations of data.\n",
                "-   **Similar to Excel Pivot Tables:** Provides similar functionality to pivot tables found in spreadsheet software.\n",
                "\n",
                "**Example:** Summarizing total sales by region and product category.\n",
                "```python\n",
                "import pandas as pd\n",
                "data = {'Region': ['East', 'West', 'East', 'West', 'East'],\n",
                "        'Product': ['A', 'B', 'A', 'A', 'B'],\n",
                "        'Sales': [100, 150, 120, 80, 200]}\n",
                "df = pd.DataFrame(data)\n",
                "pivot_table = df.pivot_table(values='Sales', index='Region', columns='Product', aggfunc='sum')\n",
                "print(pivot_table)\n",
                "# Output:\n",
                "# Product      A      B\n",
                "# Region               \n",
                "# East     220.0  200.0\n",
                "# West      80.0  150.0\n",
                "```"
            ]
        },
        {
            "cell_type": "markdown",
            "id": "37db851f",
            "metadata": {},
            "source": [
                "### 21. Why is NumPy's array slicing faster than Python's list slicing?\n",
                "\n",
                "**Answer:** NumPy's array slicing is significantly faster than Python's list slicing primarily due to:\n",
                "-   **Underlying C Implementation:** NumPy arrays are implemented in C, meaning slicing operations are performed at a low level, compiled, and highly optimized C code, which is much faster than Python's interpreted loops.\n",
                "-   **Contiguous Memory Allocation:** NumPy arrays store elements in contiguous blocks of memory. This allows for efficient access and manipulation of data blocks, including slicing.\n",
                "-   **View vs. Copy:** When you slice a NumPy array, it often returns a *view* of the original array's data (if possible) rather than creating a new copy. This avoids memory allocation and data copying overhead.\n",
                "-   **Homogeneous Data Types:** Because all elements in a NumPy array are of the same type, operations can be highly specialized and optimized without type checking overhead at each step, unlike Python lists which can store heterogeneous types."
            ]
        },
        {
            "cell_type": "markdown",
            "id": "e44c3138",
            "metadata": {},
            "source": [
                "### 22. What are some common use cases for Seaborn?\n",
                "\n",
                "**Answer:** Seaborn is widely used for statistical data visualization in various scenarios:\n",
                "-   **Univariate Distributions:** Visualizing the distribution of a single variable (e.g., `histplot`, `kdeplot`, `displot`).\n",
                "-   **Bivariate Distributions:** Showing relationships between two variables (e.g., `scatterplot`, `jointplot`, `lmplot`).\n",
                "-   **Categorical Data Visualization:** Plotting relationships between numerical and categorical variables (e.g., `boxplot`, `violinplot`, `barplot`, `countplot`).\n",
                "-   **Regression Analysis:** Visualizing linear relationships and regression models (`lmplot`, `regplot`).\n",
                "-   **Matrix Plots:** Displaying relationships in matrices, like correlation matrices (`heatmap`).\n",
                "-   **Gridding and Faceting:** Creating multi-panel plots for comparing distributions or relationships across different subsets of data (`FacetGrid`, `relplot`, `displot`).\n",
                "-   **Time Series Data:** Plotting trends over time (`lineplot`)."
            ]
        },
        {
            "cell_type": "markdown",
            "id": "40196d36",
            "metadata": {},
            "source": [
                "## Practical Questions"
            ]
        },
        {
            "cell_type": "markdown",
            "id": "91758e37",
            "metadata": {},
            "source": [
                "### 1. How do you create a 2D NumPy array and calculate the sum of each row?"
            ]
        },
        {
            "cell_type": "code",
            "execution_count": 2,
            "id": "0f403f39",
            "metadata": {},
            "outputs": [
                {
                    "name": "stdout",
                    "output_type": "stream",
                    "text": [
                        "Original 2D Array:\n",
                        "[[ 1  2  3  4]\n",
                        " [ 5  6  7  8]\n",
                        " [ 9 10 11 12]]\n",
                        "\n",
                        "Sum of each row:\n",
                        "[10 26 42]\n"
                    ]
                }
            ],
            "source": [
                "import numpy as np\n",
                "\n",
                "# Create a 2D NumPy array (3 rows, 4 columns)\n",
                "arr_2d = np.array([\n",
                "    [1, 2, 3, 4],\n",
                "    [5, 6, 7, 8],\n",
                "    [9, 10, 11, 12]\n",
                "])\n",
                "\n",
                "print(\"Original 2D Array:\")\n",
                "print(arr_2d)\n",
                "\n",
                "# Calculate the sum of each row (axis=1)\n",
                "row_sums = arr_2d.sum(axis=1)\n",
                "print(\"\\nSum of each row:\")\n",
                "print(row_sums)\n",
                "\n",
                "# You can also calculate sum of each column (axis=0)\n",
                "# column_sums = arr_2d.sum(axis=0)\n",
                "# print(\"\\nSum of each column:\")\n",
                "# print(column_sums)"
            ]
        },
        {
            "cell_type": "markdown",
            "id": "f0bd5224",
            "metadata": {},
            "source": [
                "### 2. Write a Pandas script to find the mean of a specific column in a DataFrame."
            ]
        },
        {
            "cell_type": "code",
            "execution_count": 3,
            "id": "42893dba",
            "metadata": {},
            "outputs": [
                {
                    "name": "stdout",
                    "output_type": "stream",
                    "text": [
                        "Original DataFrame:\n",
                        "      Name  Age  Score\n",
                        "0    Alice   25     85\n",
                        "1      Bob   30     92\n",
                        "2  Charlie   35     78\n",
                        "3    David   28     95\n",
                        "4      Eve   40     88\n",
                        "\n",
                        "Mean of the 'Score' column: 87.60\n"
                    ]
                }
            ],
            "source": [
                "import pandas as pd\n",
                "\n",
                "# Create a sample DataFrame\n",
                "data = {\n",
                "    'Name': ['Alice', 'Bob', 'Charlie', 'David', 'Eve'],\n",
                "    'Age': [25, 30, 35, 28, 40],\n",
                "    'Score': [85, 92, 78, 95, 88]\n",
                "}\n",
                "df = pd.DataFrame(data)\n",
                "\n",
                "print(\"Original DataFrame:\")\n",
                "print(df)\n",
                "\n",
                "# Find the mean of the 'Score' column\n",
                "mean_score = df['Score'].mean()\n",
                "\n",
                "print(f\"\\nMean of the 'Score' column: {mean_score:.2f}\")"
            ]
        },
        {
            "cell_type": "markdown",
            "id": "8a465e1b",
            "metadata": {},
            "source": [
                "### 3. Create a scatter plot using Matplotlib."
            ]
        },
        {
            "cell_type": "code",
            "execution_count": 4,
            "id": "95e3315e",
            "metadata": {},
            "outputs": [
                {
                    "data": {
                        "image/png": "[encoded data removed]",
                        "text/plain": [
                            "<Figure size 800x600 with 2 Axes>"
                        ]
                    },
                    "metadata": {},
                    "output_type": "display_data"
                }
            ],
            "source": [
                "import matplotlib.pyplot as plt\n",
                "import numpy as np\n",
                "\n",
                "# Generate some sample data\n",
                "np.random.seed(42)\n",
                "x = np.random.rand(50) * 10\n",
                "y = np.random.rand(50) * 10\n",
                "colors = np.random.rand(50)\n",
                "sizes = np.random.rand(50) * 500\n",
                "\n",
                "# Create the scatter plot\n",
                "plt.figure(figsize=(8, 6))\n",
                "plt.scatter(x, y, c=colors, s=sizes, alpha=0.7, cmap='viridis')\n",
                "\n",
                "# Add labels and title\n",
                "plt.xlabel(\"X-axis Value\")\n",
                "plt.ylabel(\"Y-axis Value\")\n",
                "plt.title(\"Simple Scatter Plot with Matplotlib\")\n",
                "\n",
                "# Add a color bar for better understanding of colors\n",
                "plt.colorbar(label=\"Color Intensity\")\n",
                "\n",
                "# Add grid for readability\n",
                "plt.grid(True, linestyle='--', alpha=0.6)\n",
                "\n",
                "# Show the plot\n",
                "plt.show()"
            ]
        },
        {
            "cell_type": "markdown",
            "id": "cfa0f8ce",
            "metadata": {},
            "source": [
                "### 4. How do you calculate the correlation matrix using Seaborn and visualize it with a heatmap?"
            ]
        },
        {
            "cell_type": "code",
            "execution_count": 5,
            "id": "670cf2d7",
            "metadata": {},
            "outputs": [
                {
                    "name": "stdout",
                    "output_type": "stream",
                    "text": [
                        "Original DataFrame (first 5 rows):\n",
                        "   Feature_A  Feature_B   Feature_C  Feature_D\n",
                        "0  64.203165  46.824027  -19.851831  37.735219\n",
                        "1   8.413996  23.461885   54.881536  64.236738\n",
                        "2  16.162871  50.638269   68.605406  49.402022\n",
                        "3  89.855419  60.773810  117.709915  12.220082\n",
                        "4  60.642906  38.796090  140.984142   5.292656\n",
                        "\n",
                        "Correlation Matrix:\n",
                        "           Feature_A  Feature_B  Feature_C  Feature_D\n",
                        "Feature_A   1.000000   0.696103  -0.329113   0.099136\n",
                        "Feature_B   0.696103   1.000000  -0.131006   0.001645\n",
                        "Feature_C  -0.329113  -0.131006   1.000000  -0.452678\n",
                        "Feature_D   0.099136   0.001645  -0.452678   1.000000\n"
                    ]
                },
                {
                    "data": {
                        "image/png": "[encoded data removed]",
                        "text/plain": [
                            "<Figure size 800x600 with 2 Axes>"
                        ]
                    },
                    "metadata": {},
                    "output_type": "display_data"
                }
            ],
            "source": [
                "import pandas as pd\n",
                "import seaborn as sns\n",
                "import matplotlib.pyplot as plt\n",
                "import numpy as np\n",
                "\n",
                "# Create a sample DataFrame with numerical data\n",
                "data = {\n",
                "    'Feature_A': np.random.rand(50) * 100,\n",
                "    'Feature_B': np.random.rand(50) * 50,\n",
                "    'Feature_C': np.random.rand(50) * 200,\n",
                "    'Feature_D': np.random.rand(50) * 75\n",
                "}\n",
                "df = pd.DataFrame(data)\n",
                "\n",
                "# Introduce some correlation to make the heatmap interesting\n",
                "df['Feature_B'] = df['Feature_B'] + df['Feature_A'] * 0.5\n",
                "df['Feature_C'] = df['Feature_C'] - df['Feature_D'] * 0.8\n",
                "\n",
                "print(\"Original DataFrame (first 5 rows):\")\n",
                "print(df.head())\n",
                "\n",
                "# Calculate the correlation matrix\n",
                "correlation_matrix = df.corr()\n",
                "print(\"\\nCorrelation Matrix:\")\n",
                "print(correlation_matrix)\n",
                "\n",
                "# Visualize the correlation matrix using a Seaborn heatmap\n",
                "plt.figure(figsize=(8, 6))\n",
                "sns.heatmap(\n",
                "    correlation_matrix,          # The correlation matrix to plot\n",
                "    annot=True,                  # Annotate cells with correlation values\n",
                "    cmap='coolwarm',             # Color map for positive/negative correlations\n",
                "    fmt=\".2f\",                   # Format annotation values to 2 decimal places\n",
                "    linewidths=.5,               # Add lines between cells\n",
                "    cbar_kws={'label': 'Correlation Coefficient'} # Color bar label\n",
                ")\n",
                "plt.title(\"Correlation Matrix Heatmap\")\n",
                "plt.show()"
            ]
        },
        {
            "cell_type": "markdown",
            "id": "2b980f10",
            "metadata": {},
            "source": [
                "### 5. Generate a bar plot using Plotly.\n"
            ]
        },
        {
            "cell_type": "code",
            "execution_count": 6,
            "id": "89367a1b",
            "metadata": {},
            "outputs": [
                {
                    "data": {
                        "application/vnd.plotly.v1+json": {
                            "config": {
                                "plotlyServerURL": "https://plot.ly"
                            },
                            "data": [
                                {
                                    "hovertemplate": "Product Category=%{x}<br>Quantity Sold=%{marker.color}<extra></extra>",
                                    "legendgroup": "",
                                    "marker": {
                                        "color": {
                                            "bdata": "Fy04DCc=",
                                            "dtype": "i1"
                                        },
                                        "coloraxis": "coloraxis",
                                        "pattern": {
                                            "shape": ""
                                        }
                                    },
                                    "name": "",
                                    "orientation": "v",
                                    "showlegend": false,
                                    "textposition": "auto",
                                    "type": "bar",
                                    "x": [
                                        "A",
                                        "B",
                                        "C",
                                        "D",
                                        "E"
                                    ],
                                    "xaxis": "x",
                                    "y": {
                                        "bdata": "Fy04DCc=",
                                        "dtype": "i1"
                                    },
                                    "yaxis": "y"
                                }
                            ],
                            "layout": {
                                "barmode": "relative",
                                "coloraxis": {
                                    "colorbar": {
                                        "title": {
                                            "text": "Quantity Sold"
                                        }
                                    },
                                    "colorscale": [
                                        [
                                            0,
                                            "#440154"
                                        ],
                                        [
                                            0.1111111111111111,
                                            "#482878"
                                        ],
                                        [
                                            0.2222222222222222,
                                            "#3e4989"
                                        ],
                                        [
                                            0.3333333333333333,
                                            "#31688e"
                                        ],
                                        [
                                            0.4444444444444444,
                                            "#26828e"
                                        ],
                                        [
                                            0.5555555555555556,
                                            "#1f9e89"
                                        ],
                                        [
                                            0.6666666666666666,
                                            "#35b779"
                                        ],
                                        [
                                            0.7777777777777778,
                                            "#6ece58"
                                        ],
                                        [
                                            0.8888888888888888,
                                            "#b5de2b"
                                        ],
                                        [
                                            1,
                                            "#fde725"
                                        ]
                                    ]
                                },
                                "legend": {
                                    "tracegroupgap": 0
                                },
                                "template": {
                                    "data": {
                                        "bar": [
                                            {
                                                "error_x": {
                                                    "color": "#2a3f5f"
                                                },
                                                "error_y": {
                                                    "color": "#2a3f5f"
                                                },
                                                "marker": {
                                                    "line": {
                                                        "color": "#E5ECF6",
                                                        "width": 0.5
                                                    },
                                                    "pattern": {
                                                        "fillmode": "overlay",
                                                        "size": 10,
                                                        "solidity": 0.2
                                                    }
                                                },
                                                "type": "bar"
                                            }
                                        ],
                                        "barpolar": [
                                            {
                                                "marker": {
                                                    "line": {
                                                        "color": "#E5ECF6",
                                                        "width": 0.5
                                                    },
                                                    "pattern": {
                                                        "fillmode": "overlay",
                                                        "size": 10,
                                                        "solidity": 0.2
                                                    }
                                                },
                                                "type": "barpolar"
                                            }
                                        ],
                                        "carpet": [
                                            {
                                                "aaxis": {
                                                    "endlinecolor": "#2a3f5f",
                                                    "gridcolor": "white",
                                                    "linecolor": "white",
                                                    "minorgridcolor": "white",
                                                    "startlinecolor": "#2a3f5f"
                                                },
                                                "baxis": {
                                                    "endlinecolor": "#2a3f5f",
                                                    "gridcolor": "white",
                                                    "linecolor": "white",
                                                    "minorgridcolor": "white",
                                                    "startlinecolor": "#2a3f5f"
                                                },
                                                "type": "carpet"
                                            }
                                        ],
                                        "choropleth": [
                                            {
                                                "colorbar": {
                                                    "outlinewidth": 0,
                                                    "ticks": ""
                                                },
                                                "type": "choropleth"
                                            }
                                        ],
                                        "contour": [
                                            {
                                                "colorbar": {
                                                    "outlinewidth": 0,
                                                    "ticks": ""
                                                },
                                                "colorscale": [
                                                    [
                                                        0,
                                                        "#0d0887"
                                                    ],
                                                    [
                                                        0.1111111111111111,
                                                        "#46039f"
                                                    ],
                                                    [
                                                        0.2222222222222222,
                                                        "#7201a8"
                                                    ],
                                                    [
                                                        0.3333333333333333,
                                                        "#9c179e"
                                                    ],
                                                    [
                                                        0.4444444444444444,
                                                        "#bd3786"
                                                    ],
                                                    [
                                                        0.5555555555555556,
                                                        "#d8576b"
                                                    ],
                                                    [
                                                        0.6666666666666666,
                                                        "#ed7953"
                                                    ],
                                                    [
                                                        0.7777777777777778,
                                                        "#fb9f3a"
                                                    ],
                                                    [
                                                        0.8888888888888888,
                                                        "#fdca26"
                                                    ],
                                                    [
                                                        1,
                                                        "#f0f921"
                                                    ]
                                                ],
                                                "type": "contour"
                                            }
                                        ],
                                        "contourcarpet": [
                                            {
                                                "colorbar": {
                                                    "outlinewidth": 0,
                                                    "ticks": ""
                                                },
                                                "type": "contourcarpet"
                                            }
                                        ],
                                        "heatmap": [
                                            {
                                                "colorbar": {
                                                    "outlinewidth": 0,
                                                    "ticks": ""
                                                },
                                                "colorscale": [
                                                    [
                                                        0,
                                                        "#0d0887"
                                                    ],
                                                    [
                                                        0.1111111111111111,
                                                        "#46039f"
                                                    ],
                                                    [
                                                        0.2222222222222222,
                                                        "#7201a8"
                                                    ],
                                                    [
                                                        0.3333333333333333,
                                                        "#9c179e"
                                                    ],
                                                    [
                                                        0.4444444444444444,
                                                        "#bd3786"
                                                    ],
                                                    [
                                                        0.5555555555555556,
                                                        "#d8576b"
                                                    ],
                                                    [
                                                        0.6666666666666666,
                                                        "#ed7953"
                                                    ],
                                                    [
                                                        0.7777777777777778,
                                                        "#fb9f3a"
                                                    ],
                                                    [
                                                        0.8888888888888888,
                                                        "#fdca26"
                                                    ],
                                                    [
                                                        1,
                                                        "#f0f921"
                                                    ]
                                                ],
                                                "type": "heatmap"
                                            }
                                        ],
                                        "histogram": [
                                            {
                                                "marker": {
                                                    "pattern": {
                                                        "fillmode": "overlay",
                                                        "size": 10,
                                                        "solidity": 0.2
                                                    }
                                                },
                                                "type": "histogram"
                                            }
                                        ],
                                        "histogram2d": [
                                            {
                                                "colorbar": {
                                                    "outlinewidth": 0,
                                                    "ticks": ""
                                                },
                                                "colorscale": [
                                                    [
                                                        0,
                                                        "#0d0887"
                                                    ],
                                                    [
                                                        0.1111111111111111,
                                                        "#46039f"
                                                    ],
                                                    [
                                                        0.2222222222222222,
                                                        "#7201a8"
                                                    ],
                                                    [
                                                        0.3333333333333333,
                                                        "#9c179e"
                                                    ],
                                                    [
                                                        0.4444444444444444,
                                                        "#bd3786"
                                                    ],
                                                    [
                                                        0.5555555555555556,
                                                        "#d8576b"
                                                    ],
                                                    [
                                                        0.6666666666666666,
                                                        "#ed7953"
                                                    ],
                                                    [
                                                        0.7777777777777778,
                                                        "#fb9f3a"
                                                    ],
                                                    [
                                                        0.8888888888888888,
                                                        "#fdca26"
                                                    ],
                                                    [
                                                        1,
                                                        "#f0f921"
                                                    ]
                                                ],
                                                "type": "histogram2d"
                                            }
                                        ],
                                        "histogram2dcontour": [
                                            {
                                                "colorbar": {
                                                    "outlinewidth": 0,
                                                    "ticks": ""
                                                },
                                                "colorscale": [
                                                    [
                                                        0,
                                                        "#0d0887"
                                                    ],
                                                    [
                                                        0.1111111111111111,
                                                        "#46039f"
                                                    ],
                                                    [
                                                        0.2222222222222222,
                                                        "#7201a8"
                                                    ],
                                                    [
                                                        0.3333333333333333,
                                                        "#9c179e"
                                                    ],
                                                    [
                                                        0.4444444444444444,
                                                        "#bd3786"
                                                    ],
                                                    [
                                                        0.5555555555555556,
                                                        "#d8576b"
                                                    ],
                                                    [
                                                        0.6666666666666666,
                                                        "#ed7953"
                                                    ],
                                                    [
                                                        0.7777777777777778,
                                                        "#fb9f3a"
                                                    ],
                                                    [
                                                        0.8888888888888888,
                                                        "#fdca26"
                                                    ],
                                                    [
                                                        1,
                                                        "#f0f921"
                                                    ]
                                                ],
                                                "type": "histogram2dcontour"
                                            }
                                        ],
                                        "mesh3d": [
                                            {
                                                "colorbar": {
                                                    "outlinewidth": 0,
                                                    "ticks": ""
                                                },
                                                "type": "mesh3d"
                                            }
                                        ],
                                        "parcoords": [
                                            {
                                                "line": {
                                                    "colorbar": {
                                                        "outlinewidth": 0,
                                                        "ticks": ""
                                                    }
                                                },
                                                "type": "parcoords"
                                            }
                                        ],
                                        "pie": [
                                            {
                                                "automargin": true,
                                                "type": "pie"
                                            }
                                        ],
                                        "scatter": [
                                            {
                                                "fillpattern": {
                                                    "fillmode": "overlay",
                                                    "size": 10,
                                                    "solidity": 0.2
                                                },
                                                "type": "scatter"
                                            }
                                        ],
                                        "scatter3d": [
                                            {
                                                "line": {
                                                    "colorbar": {
                                                        "outlinewidth": 0,
                                                        "ticks": ""
                                                    }
                                                },
                                                "marker": {
                                                    "colorbar": {
                                                        "outlinewidth": 0,
                                                        "ticks": ""
                                                    }
                                                },
                                                "type": "scatter3d"
                                            }
                                        ],
                                        "scattercarpet": [
                                            {
                                                "marker": {
                                                    "colorbar": {
                                                        "outlinewidth": 0,
                                                        "ticks": ""
                                                    }
                                                },
                                                "type": "scattercarpet"
                                            }
                                        ],
                                        "scattergeo": [
                                            {
                                                "marker": {
                                                    "colorbar": {
                                                        "outlinewidth": 0,
                                                        "ticks": ""
                                                    }
                                                },
                                                "type": "scattergeo"
                                            }
                                        ],
                                        "scattergl": [
                                            {
                                                "marker": {
                                                    "colorbar": {
                                                        "outlinewidth": 0,
                                                        "ticks": ""
                                                    }
                                                },
                                                "type": "scattergl"
                                            }
                                        ],
                                        "scattermap": [
                                            {
                                                "marker": {
                                                    "colorbar": {
                                                        "outlinewidth": 0,
                                                        "ticks": ""
                                                    }
                                                },
                                                "type": "scattermap"
                                            }
                                        ],
                                        "scattermapbox": [
                                            {
                                                "marker": {
                                                    "colorbar": {
                                                        "outlinewidth": 0,
                                                        "ticks": ""
                                                    }
                                                },
                                                "type": "scattermapbox"
                                            }
                                        ],
                                        "scatterpolar": [
                                            {
                                                "marker": {
                                                    "colorbar": {
                                                        "outlinewidth": 0,
                                                        "ticks": ""
                                                    }
                                                },
                                                "type": "scatterpolar"
                                            }
                                        ],
                                        "scatterpolargl": [
                                            {
                                                "marker": {
                                                    "colorbar": {
                                                        "outlinewidth": 0,
                                                        "ticks": ""
                                                    }
                                                },
                                                "type": "scatterpolargl"
                                            }
                                        ],
                                        "scatterternary": [
                                            {
                                                "marker": {
                                                    "colorbar": {
                                                        "outlinewidth": 0,
                                                        "ticks": ""
                                                    }
                                                },
                                                "type": "scatterternary"
                                            }
                                        ],
                                        "surface": [
                                            {
                                                "colorbar": {
                                                    "outlinewidth": 0,
                                                    "ticks": ""
                                                },
                                                "colorscale": [
                                                    [
                                                        0,
                                                        "#0d0887"
                                                    ],
                                                    [
                                                        0.1111111111111111,
                                                        "#46039f"
                                                    ],
                                                    [
                                                        0.2222222222222222,
                                                        "#7201a8"
                                                    ],
                                                    [
                                                        0.3333333333333333,
                                                        "#9c179e"
                                                    ],
                                                    [
                                                        0.4444444444444444,
                                                        "#bd3786"
                                                    ],
                                                    [
                                                        0.5555555555555556,
                                                        "#d8576b"
                                                    ],
                                                    [
                                                        0.6666666666666666,
                                                        "#ed7953"
                                                    ],
                                                    [
                                                        0.7777777777777778,
                                                        "#fb9f3a"
                                                    ],
                                                    [
                                                        0.8888888888888888,
                                                        "#fdca26"
                                                    ],
                                                    [
                                                        1,
                                                        "#f0f921"
                                                    ]
                                                ],
                                                "type": "surface"
                                            }
                                        ],
                                        "table": [
                                            {
                                                "cells": {
                                                    "fill": {
                                                        "color": "#EBF0F8"
                                                    },
                                                    "line": {
                                                        "color": "white"
                                                    }
                                                },
                                                "header": {
                                                    "fill": {
                                                        "color": "#C8D4E3"
                                                    },
                                                    "line": {
                                                        "color": "white"
                                                    }
                                                },
                                                "type": "table"
                                            }
                                        ]
                                    },
                                    "layout": {
                                        "annotationdefaults": {
                                            "arrowcolor": "#2a3f5f",
                                            "arrowhead": 0,
                                            "arrowwidth": 1
                                        },
                                        "autotypenumbers": "strict",
                                        "coloraxis": {
                                            "colorbar": {
                                                "outlinewidth": 0,
                                                "ticks": ""
                                            }
                                        },
                                        "colorscale": {
                                            "diverging": [
                                                [
                                                    0,
                                                    "#8e0152"
                                                ],
                                                [
                                                    0.1,
                                                    "#c51b7d"
                                                ],
                                                [
                                                    0.2,
                                                    "#de77ae"
                                                ],
                                                [
                                                    0.3,
                                                    "#f1b6da"
                                                ],
                                                [
                                                    0.4,
                                                    "#fde0ef"
                                                ],
                                                [
                                                    0.5,
                                                    "#f7f7f7"
                                                ],
                                                [
                                                    0.6,
                                                    "#e6f5d0"
                                                ],
                                                [
                                                    0.7,
                                                    "#b8e186"
                                                ],
                                                [
                                                    0.8,
                                                    "#7fbc41"
                                                ],
                                                [
                                                    0.9,
                                                    "#4d9221"
                                                ],
                                                [
                                                    1,
                                                    "#276419"
                                                ]
                                            ],
                                            "sequential": [
                                                [
                                                    0,
                                                    "#0d0887"
                                                ],
                                                [
                                                    0.1111111111111111,
                                                    "#46039f"
                                                ],
                                                [
                                                    0.2222222222222222,
                                                    "#7201a8"
                                                ],
                                                [
                                                    0.3333333333333333,
                                                    "#9c179e"
                                                ],
                                                [
                                                    0.4444444444444444,
                                                    "#bd3786"
                                                ],
                                                [
                                                    0.5555555555555556,
                                                    "#d8576b"
                                                ],
                                                [
                                                    0.6666666666666666,
                                                    "#ed7953"
                                                ],
                                                [
                                                    0.7777777777777778,
                                                    "#fb9f3a"
                                                ],
                                                [
                                                    0.8888888888888888,
                                                    "#fdca26"
                                                ],
                                                [
                                                    1,
                                                    "#f0f921"
                                                ]
                                            ],
                                            "sequentialminus": [
                                                [
                                                    0,
                                                    "#0d0887"
                                                ],
                                                [
                                                    0.1111111111111111,
                                                    "#46039f"
                                                ],
                                                [
                                                    0.2222222222222222,
                                                    "#7201a8"
                                                ],
                                                [
                                                    0.3333333333333333,
                                                    "#9c179e"
                                                ],
                                                [
                                                    0.4444444444444444,
                                                    "#bd3786"
                                                ],
                                                [
                                                    0.5555555555555556,
                                                    "#d8576b"
                                                ],
                                                [
                                                    0.6666666666666666,
                                                    "#ed7953"
                                                ],
                                                [
                                                    0.7777777777777778,
                                                    "#fb9f3a"
                                                ],
                                                [
                                                    0.8888888888888888,
                                                    "#fdca26"
                                                ],
                                                [
                                                    1,
                                                    "#f0f921"
                                                ]
                                            ]
                                        },
                                        "colorway": [
                                            "#636efa",
                                            "#EF553B",
                                            "#00cc96",
                                            "#ab63fa",
                                            "#FFA15A",
                                            "#19d3f3",
                                            "#FF6692",
                                            "#B6E880",
                                            "#FF97FF",
                                            "#FECB52"
                                        ],
                                        "font": {
                                            "color": "#2a3f5f"
                                        },
                                        "geo": {
                                            "bgcolor": "white",
                                            "lakecolor": "white",
                                            "landcolor": "#E5ECF6",
                                            "showlakes": true,
                                            "showland": true,
                                            "subunitcolor": "white"
                                        },
                                        "hoverlabel": {
                                            "align": "left"
                                        },
                                        "hovermode": "closest",
                                        "mapbox": {
                                            "style": "light"
                                        },
                                        "paper_bgcolor": "white",
                                        "plot_bgcolor": "#E5ECF6",
                                        "polar": {
                                            "angularaxis": {
                                                "gridcolor": "white",
                                                "linecolor": "white",
                                                "ticks": ""
                                            },
                                            "bgcolor": "#E5ECF6",
                                            "radialaxis": {
                                                "gridcolor": "white",
                                                "linecolor": "white",
                                                "ticks": ""
                                            }
                                        },
                                        "scene": {
                                            "xaxis": {
                                                "backgroundcolor": "#E5ECF6",
                                                "gridcolor": "white",
                                                "gridwidth": 2,
                                                "linecolor": "white",
                                                "showbackground": true,
                                                "ticks": "",
                                                "zerolinecolor": "white"
                                            },
                                            "yaxis": {
                                                "backgroundcolor": "#E5ECF6",
                                                "gridcolor": "white",
                                                "gridwidth": 2,
                                                "linecolor": "white",
                                                "showbackground": true,
                                                "ticks": "",
                                                "zerolinecolor": "white"
                                            },
                                            "zaxis": {
                                                "backgroundcolor": "#E5ECF6",
                                                "gridcolor": "white",
                                                "gridwidth": 2,
                                                "linecolor": "white",
                                                "showbackground": true,
                                                "ticks": "",
                                                "zerolinecolor": "white"
                                            }
                                        },
                                        "shapedefaults": {
                                            "line": {
                                                "color": "#2a3f5f"
                                            }
                                        },
                                        "ternary": {
                                            "aaxis": {
                                                "gridcolor": "white",
                                                "linecolor": "white",
                                                "ticks": ""
                                            },
                                            "baxis": {
                                                "gridcolor": "white",
                                                "linecolor": "white",
                                                "ticks": ""
                                            },
                                            "bgcolor": "#E5ECF6",
                                            "caxis": {
                                                "gridcolor": "white",
                                                "linecolor": "white",
                                                "ticks": ""
                                            }
                                        },
                                        "title": {
                                            "x": 0.05
                                        },
                                        "xaxis": {
                                            "automargin": true,
                                            "gridcolor": "white",
                                            "linecolor": "white",
                                            "ticks": "",
                                            "title": {
                                                "standoff": 15
                                            },
                                            "zerolinecolor": "white",
                                            "zerolinewidth": 2
                                        },
                                        "yaxis": {
                                            "automargin": true,
                                            "gridcolor": "white",
                                            "linecolor": "white",
                                            "ticks": "",
                                            "title": {
                                                "standoff": 15
                                            },
                                            "zerolinecolor": "white",
                                            "zerolinewidth": 2
                                        }
                                    }
                                },
                                "title": {
                                    "text": "Sample Bar Plot with Plotly"
                                },
                                "xaxis": {
                                    "anchor": "y",
                                    "domain": [
                                        0,
                                        1
                                    ],
                                    "title": {
                                        "font": {
                                            "size": 14
                                        },
                                        "text": "Product Category"
                                    }
                                },
                                "yaxis": {
                                    "anchor": "x",
                                    "domain": [
                                        0,
                                        1
                                    ],
                                    "title": {
                                        "font": {
                                            "size": 14
                                        },
                                        "text": "Quantity Sold"
                                    }
                                }
                            }
                        }
                    },
                    "metadata": {},
                    "output_type": "display_data"
                }
            ],
            "source": [
                "import plotly.express as px\n",
                "import pandas as pd\n",
                "\n",
                "# Sample data for the bar plot\n",
                "data = {\n",
                "    'Category': ['A', 'B', 'C', 'D', 'E'],\n",
                "    'Values': [23, 45, 56, 12, 39]\n",
                "}\n",
                "df = pd.DataFrame(data)\n",
                "\n",
                "# Create the bar plot using Plotly Express\n",
                "fig = px.bar(\n",
                "    df, \n",
                "    x='Category', \n",
                "    y='Values', \n",
                "    title='Sample Bar Plot with Plotly',\n",
                "    labels={'Category': 'Product Category', 'Values': 'Quantity Sold'},\n",
                "    color='Values', # Color bars based on their values\n",
                "    color_continuous_scale=px.colors.sequential.Viridis # Choose a color scale\n",
                ")\n",
                "\n",
                "# Update layout for better appearance\n",
                "fig.update_layout(xaxis_title_font_size=14, yaxis_title_font_size=14)\n",
                "\n",
                "# Show the plot (this will open in your browser or display in Jupyter)\n",
                "fig.show()"
            ]
        },
        {
            "attachments": {
                "barplot.png": {
                    "image/png": "[encoded data removed]"
                }
            },
            "cell_type": "markdown",
            "id": "56cc8fe9",
            "metadata": {},
            "source": [
                "![barplot.png](attachment:barplot.png)"
            ]
        },
        {
            "cell_type": "markdown",
            "id": "e3c12056",
            "metadata": {},
            "source": [
                "### 6. Create a DataFrame and add a new column based on an existing column."
            ]
        },
        {
            "cell_type": "code",
            "execution_count": 7,
            "id": "f37b5a41",
            "metadata": {},
            "outputs": [
                {
                    "name": "stdout",
                    "output_type": "stream",
                    "text": [
                        "Original DataFrame:\n",
                        "    Product  Price  Quantity\n",
                        "0    Laptop   1200         2\n",
                        "1     Mouse     25        10\n",
                        "2  Keyboard     75         5\n",
                        "3   Monitor    300         1\n",
                        "\n",
                        "DataFrame with new columns:\n",
                        "    Product  Price  Quantity  Total_Sales  Discounted_Price\n",
                        "0    Laptop   1200         2         2400            1080.0\n",
                        "1     Mouse     25        10          250              25.0\n",
                        "2  Keyboard     75         5          375              75.0\n",
                        "3   Monitor    300         1          300             270.0\n"
                    ]
                }
            ],
            "source": [
                "import pandas as pd\n",
                "\n",
                "# Create a sample DataFrame\n",
                "data = {\n",
                "    'Product': ['Laptop', 'Mouse', 'Keyboard', 'Monitor'],\n",
                "    'Price': [1200, 25, 75, 300],\n",
                "    'Quantity': [2, 10, 5, 1]\n",
                "}\n",
                "df = pd.DataFrame(data)\n",
                "\n",
                "print(\"Original DataFrame:\")\n",
                "print(df)\n",
                "\n",
                "# Add a new column 'Total_Sales' by multiplying 'Price' and 'Quantity'\n",
                "df['Total_Sales'] = df['Price'] * df['Quantity']\n",
                "\n",
                "# Add another new column 'Discounted_Price' based on a condition\n",
                "# If price > 100, apply 10% discount, else no discount\n",
                "df['Discounted_Price'] = df.apply(\n",
                "    lambda row: row['Price'] * 0.90 if row['Price'] > 100 else row['Price'], \n",
                "    axis=1\n",
                ")\n",
                "\n",
                "print(\"\\nDataFrame with new columns:\")\n",
                "print(df)"
            ]
        },
        {
            "cell_type": "markdown",
            "id": "37fe08dd",
            "metadata": {},
            "source": [
                "### 7. Write a program to perform element-wise multiplication of two NumPy arrays."
            ]
        },
        {
            "cell_type": "code",
            "execution_count": 8,
            "id": "1f37c94f",
            "metadata": {},
            "outputs": [
                {
                    "name": "stdout",
                    "output_type": "stream",
                    "text": [
                        "Array 1:\n",
                        "[[1 2 3]\n",
                        " [4 5 6]]\n",
                        "\n",
                        "Array 2:\n",
                        "[[ 7  8  9]\n",
                        " [10 11 12]]\n",
                        "\n",
                        "Element-wise product of Array 1 and Array 2:\n",
                        "[[ 7 16 27]\n",
                        " [40 55 72]]\n",
                        "\n",
                        "Array 1 again:\n",
                        "[[1 2 3]\n",
                        " [4 5 6]]\n",
                        "\n",
                        "Vector to broadcast:\n",
                        "[10 20 30]\n",
                        "\n",
                        "Broadcasted product (Array 1 * Vector):\n",
                        "[[ 10  40  90]\n",
                        " [ 40 100 180]]\n"
                    ]
                }
            ],
            "source": [
                "import numpy as np\n",
                "\n",
                "# Create two NumPy arrays\n",
                "array1 = np.array([[1, 2, 3], [4, 5, 6]])\n",
                "array2 = np.array([[7, 8, 9], [10, 11, 12]])\n",
                "\n",
                "print(\"Array 1:\")\n",
                "print(array1)\n",
                "\n",
                "print(\"\\nArray 2:\")\n",
                "print(array2)\n",
                "\n",
                "# Perform element-wise multiplication\n",
                "# This uses NumPy's vectorized operations (no explicit loop needed).\n",
                "elementwise_product = array1 * array2\n",
                "\n",
                "print(\"\\nElement-wise product of Array 1 and Array 2:\")\n",
                "print(elementwise_product)\n",
                "\n",
                "# Verify operation with different shapes (broadcasting example)\n",
                "vector = np.array([10, 20, 30])\n",
                "print(\"\\nArray 1 again:\")\n",
                "print(array1)\n",
                "print(\"\\nVector to broadcast:\")\n",
                "print(vector)\n",
                "broadcasted_product = array1 * vector\n",
                "print(\"\\nBroadcasted product (Array 1 * Vector):\")\n",
                "print(broadcasted_product)"
            ]
        },
        {
            "cell_type": "markdown",
            "id": "2364310e",
            "metadata": {},
            "source": [
                "### 8. Create a line plot with multiple lines using Matplotlib."
            ]
        },
        {
            "cell_type": "code",
            "execution_count": 9,
            "id": "1c7dd03f",
            "metadata": {},
            "outputs": [
                {
                    "data": {
                        "image/png": "[encoded data removed]",
                        "text/plain": [
                            "<Figure size 1000x600 with 1 Axes>"
                        ]
                    },
                    "metadata": {},
                    "output_type": "display_data"
                }
            ],
            "source": [
                "import matplotlib.pyplot as plt\n",
                "import numpy as np\n",
                "\n",
                "# Generate sample data for multiple lines\n",
                "x = np.linspace(0, 10, 100) # 100 points between 0 and 10\n",
                "y1 = np.sin(x)             # First line (sine wave)\n",
                "y2 = np.cos(x)             # Second line (cosine wave)\n",
                "y3 = x / 2                 # Third line (linear)\n",
                "\n",
                "# Create the figure and axes\n",
                "plt.figure(figsize=(10, 6))\n",
                "\n",
                "# Plot each line\n",
                "plt.plot(x, y1, label='Sine Wave', color='blue', linestyle='-', marker='o', markersize=4, markevery=10)\n",
                "plt.plot(x, y2, label='Cosine Wave', color='red', linestyle='--', marker='x', markersize=4, markevery=10)\n",
                "plt.plot(x, y3, label='Linear Trend', color='green', linestyle='-.', marker='s', markersize=4, markevery=10)\n",
                "\n",
                "# Add labels, title, and legend\n",
                "plt.xlabel(\"X-axis\")\n",
                "plt.ylabel(\"Y-axis\")\n",
                "plt.title(\"Multiple Line Plot with Matplotlib\")\n",
                "plt.legend()\n",
                "\n",
                "# Add grid\n",
                "plt.grid(True, linestyle=':', alpha=0.7)\n",
                "\n",
                "# Show the plot\n",
                "plt.show()"
            ]
        },
        {
            "cell_type": "markdown",
            "id": "8dc0053d",
            "metadata": {},
            "source": [
                "### 9. Generate a Pandas DataFrame and filter rows where a column value is greater than a threshold."
            ]
        },
        {
            "cell_type": "code",
            "execution_count": 10,
            "id": "942354bf",
            "metadata": {},
            "outputs": [
                {
                    "name": "stdout",
                    "output_type": "stream",
                    "text": [
                        "Original DataFrame:\n",
                        "       City  Population  Area_km2\n",
                        "0  New York     8400000       789\n",
                        "1    London     8900000      1572\n",
                        "2     Paris     2100000       105\n",
                        "3     Tokyo    13900000      2194\n",
                        "4    Berlin     3700000       891\n",
                        "5      Rome     2800000      1285\n",
                        "\n",
                        "DataFrame with Population > 5000000:\n",
                        "       City  Population  Area_km2\n",
                        "0  New York     8400000       789\n",
                        "1    London     8900000      1572\n",
                        "3     Tokyo    13900000      2194\n",
                        "\n",
                        "DataFrame with Population > 3M AND Area < 1000 km^2:\n",
                        "       City  Population  Area_km2\n",
                        "0  New York     8400000       789\n",
                        "4    Berlin     3700000       891\n"
                    ]
                }
            ],
            "source": [
                "import pandas as pd\n",
                "\n",
                "# Create a sample DataFrame\n",
                "data = {\n",
                "    'City': ['New York', 'London', 'Paris', 'Tokyo', 'Berlin', 'Rome'],\n",
                "    'Population': [8400000, 8900000, 2100000, 13900000, 3700000, 2800000],\n",
                "    'Area_km2': [789, 1572, 105, 2194, 891, 1285]\n",
                "}\n",
                "df = pd.DataFrame(data)\n",
                "\n",
                "print(\"Original DataFrame:\")\n",
                "print(df)\n",
                "\n",
                "# Define a threshold for population\n",
                "population_threshold = 5000000\n",
                "\n",
                "# Filter rows where 'Population' is greater than the threshold\n",
                "filtered_df = df[df['Population'] > population_threshold]\n",
                "\n",
                "print(f\"\\nDataFrame with Population > {population_threshold}:\")\n",
                "print(filtered_df)\n",
                "\n",
                "# Filter using multiple conditions\n",
                "filtered_and_area = df[(df['Population'] > 3000000) & (df['Area_km2'] < 1000)]\n",
                "print(f\"\\nDataFrame with Population > 3M AND Area < 1000 km^2:\")\n",
                "print(filtered_and_area)"
            ]
        },
        {
            "cell_type": "markdown",
            "id": "f67d7777",
            "metadata": {},
            "source": [
                "### 10. Create a histogram using Seaborn to visualize a distribution."
            ]
        },
        {
            "cell_type": "code",
            "execution_count": 11,
            "id": "25d03a88",
            "metadata": {},
            "outputs": [
                {
                    "data": {
                        "image/png": "[encoded data removed]",
                        "text/plain": [
                            "<Figure size 900x600 with 1 Axes>"
                        ]
                    },
                    "metadata": {},
                    "output_type": "display_data"
                }
            ],
            "source": [
                "import seaborn as sns\n",
                "import matplotlib.pyplot as plt\n",
                "import numpy as np\n",
                "\n",
                "# Generate sample data: a normal distribution\n",
                "np.random.seed(42)\n",
                "data = np.random.normal(loc=100, scale=15, size=1000) # Mean=100, StdDev=15, 1000 data points\n",
                "\n",
                "# Create the histogram using Seaborn's histplot\n",
                "plt.figure(figsize=(9, 6))\n",
                "sns.histplot(\n",
                "    data,                 # The data to plot\n",
                "    bins=30,              # Number of bins\n",
                "    kde=True,             # Overlay a Kernel Density Estimate (KDE) plot\n",
                "    color='skyblue',      # Color of the bars\n",
                "    edgecolor='black',    # Color of the bar borders\n",
                "    stat='count'          # Y-axis shows count of observations in each bin. Can also be 'density', 'frequency', 'probability'\n",
                ")\n",
                "\n",
                "# Add labels and title\n",
                "plt.xlabel(\"Value\")\n",
                "plt.ylabel(\"Frequency\")\n",
                "plt.title(\"Distribution of Sample Data (Histogram with KDE)\")\n",
                "\n",
                "# Show the plot\n",
                "plt.show()"
            ]
        },
        {
            "cell_type": "markdown",
            "id": "a4b989d8",
            "metadata": {},
            "source": [
                "### 11. Perform matrix multiplication using NumPy."
            ]
        },
        {
            "cell_type": "code",
            "execution_count": 12,
            "id": "ecca77a4",
            "metadata": {},
            "outputs": [
                {
                    "name": "stdout",
                    "output_type": "stream",
                    "text": [
                        "Matrix A:\n",
                        "[[1 2 3]\n",
                        " [4 5 6]]\n",
                        "Shape of Matrix A: (2, 3)\n",
                        "\n",
                        "Matrix B:\n",
                        "[[ 7  8]\n",
                        " [ 9 10]\n",
                        " [11 12]]\n",
                        "Shape of Matrix B: (3, 2)\n",
                        "\n",
                        "Matrix Product (A @ B):\n",
                        "[[ 58  64]\n",
                        " [139 154]]\n",
                        "Shape of Product Matrix: (2, 2)\n"
                    ]
                }
            ],
            "source": [
                "import numpy as np\n",
                "\n",
                "# Define two matrices (2x3 and 3x2)\n",
                "matrix_a = np.array([\n",
                "    [1, 2, 3],\n",
                "    [4, 5, 6]\n",
                "])\n",
                "\n",
                "matrix_b = np.array([\n",
                "    [7, 8],\n",
                "    [9, 10],\n",
                "    [11, 12]\n",
                "])\n",
                "\n",
                "print(\"Matrix A:\")\n",
                "print(matrix_a)\n",
                "print(f\"Shape of Matrix A: {matrix_a.shape}\")\n",
                "\n",
                "print(\"\\nMatrix B:\")\n",
                "print(matrix_b)\n",
                "print(f\"Shape of Matrix B: {matrix_b.shape}\")\n",
                "\n",
                "# Perform matrix multiplication using the @ operator (Python 3.5+) or np.dot()\n",
                "# For matrix multiplication, the number of columns in the first matrix must equal\n",
                "# the number of rows in the second matrix.\n",
                "# (2x3) @ (3x2) -> (2x2)\n",
                "matrix_product = matrix_a @ matrix_b\n",
                "\n",
                "print(\"\\nMatrix Product (A @ B):\")\n",
                "print(matrix_product)\n",
                "print(f\"Shape of Product Matrix: {matrix_product.shape}\")\n",
                "\n",
                "# Alternative using np.dot()\n",
                "# matrix_product_dot = np.dot(matrix_a, matrix_b)\n",
                "# print(\"\\nMatrix Product (np.dot(A, B)):\")\n",
                "# print(matrix_product_dot)"
            ]
        },
        {
            "cell_type": "markdown",
            "id": "cf8494df",
            "metadata": {},
            "source": [
                "### 12. Use Pandas to load a CSV file and display its first 5 rows."
            ]
        },
        {
            "cell_type": "code",
            "execution_count": 13,
            "id": "62683f5e",
            "metadata": {},
            "outputs": [
                {
                    "name": "stdout",
                    "output_type": "stream",
                    "text": [
                        "Created dummy CSV file: sample_data.csv\n",
                        "\n",
                        "Successfully loaded 'sample_data.csv'.\n",
                        "\n",
                        "First 5 rows of the DataFrame:\n",
                        "      Name  Age      City Occupation\n",
                        "0    Alice   30  New York   Engineer\n",
                        "1      Bob   24    London     Artist\n",
                        "2  Charlie   35     Paris     Doctor\n",
                        "3    David   29     Tokyo    Teacher\n",
                        "4      Eve   42    Berlin    Manager\n"
                    ]
                }
            ],
            "source": [
                "import pandas as pd\n",
                "import os\n",
                "\n",
                "# First, create a dummy CSV file for demonstration\n",
                "csv_content = \"\"\"\n",
                "Name,Age,City,Occupation\n",
                "Alice,30,New York,Engineer\n",
                "Bob,24,London,Artist\n",
                "Charlie,35,Paris,Doctor\n",
                "David,29,Tokyo,Teacher\n",
                "Eve,42,Berlin,Manager\n",
                "Frank,22,Rome,Student\n",
                "Grace,38,Sydney,Scientist\n",
                "\"\"\"\n",
                "file_name = \"sample_data.csv\"\n",
                "with open(file_name, \"w\") as f:\n",
                "    f.write(csv_content.strip())\n",
                "print(f\"Created dummy CSV file: {file_name}\")\n",
                "\n",
                "# Load the CSV file into a Pandas DataFrame\n",
                "try:\n",
                "    df = pd.read_csv(file_name)\n",
                "    \n",
                "    print(f\"\\nSuccessfully loaded '{file_name}'.\")\n",
                "    print(\"\\nFirst 5 rows of the DataFrame:\")\n",
                "    # Display the first 5 rows using .head()\n",
                "    print(df.head())\n",
                "\n",
                "except FileNotFoundError:\n",
                "    print(f\"Error: The file '{file_name}' was not found.\")\n",
                "except pd.errors.EmptyDataError:\n",
                "    print(f\"Error: The file '{file_name}' is empty.\")\n",
                "except Exception as e:\n",
                "    print(f\"An unexpected error occurred: {e}\")\n",
                "\n",
                "# Clean up the dummy file\n",
                "# if os.path.exists(file_name):\n",
                "#     os.remove(file_name)\n",
                "#     print(f\"\\nRemoved dummy CSV file: {file_name}\")"
            ]
        },
        {
            "cell_type": "markdown",
            "id": "e7fe1ed4",
            "metadata": {},
            "source": [
                "### 13. Create a 3D scatter plot using Plotly."
            ]
        },
        {
            "cell_type": "code",
            "execution_count": 14,
            "id": "736fd607",
            "metadata": {},
            "outputs": [
                {
                    "data": {
                        "application/vnd.plotly.v1+json": {
                            "config": {
                                "plotlyServerURL": "https://plot.ly"
                            },
                            "data": [
                                {
                                    "customdata": [
                                        [
                                            "Group A"
                                        ],
                                        [
                                            "Group A"
                                        ],
                                        [
                                            "Group A"
                                        ],
                                        [
                                            "Group A"
                                        ],
                                        [
                                            "Group A"
                                        ],
                                        [
                                            "Group A"
                                        ],
                                        [
                                            "Group A"
                                        ],
                                        [
                                            "Group A"
                                        ],
                                        [
                                            "Group A"
                                        ],
                                        [
                                            "Group A"
                                        ],
                                        [
                                            "Group A"
                                        ],
                                        [
                                            "Group A"
                                        ],
                                        [
                                            "Group A"
                                        ],
                                        [
                                            "Group A"
                                        ],
                                        [
                                            "Group A"
                                        ],
                                        [
                                            "Group A"
                                        ],
                                        [
                                            "Group A"
                                        ],
                                        [
                                            "Group A"
                                        ],
                                        [
                                            "Group A"
                                        ],
                                        [
                                            "Group A"
                                        ],
                                        [
                                            "Group A"
                                        ],
                                        [
                                            "Group A"
                                        ],
                                        [
                                            "Group A"
                                        ],
                                        [
                                            "Group A"
                                        ],
                                        [
                                            "Group A"
                                        ],
                                        [
                                            "Group A"
                                        ],
                                        [
                                            "Group A"
                                        ],
                                        [
                                            "Group A"
                                        ],
                                        [
                                            "Group A"
                                        ],
                                        [
                                            "Group A"
                                        ],
                                        [
                                            "Group A"
                                        ],
                                        [
                                            "Group A"
                                        ],
                                        [
                                            "Group A"
                                        ],
                                        [
                                            "Group A"
                                        ],
                                        [
                                            "Group A"
                                        ],
                                        [
                                            "Group A"
                                        ],
                                        [
                                            "Group A"
                                        ],
                                        [
                                            "Group A"
                                        ]
                                    ],
                                    "hovertemplate": "Category=%{customdata[0]}<br>Dimension X=%{x}<br>Dimension Y=%{y}<br>Dimension Z=%{z}<extra></extra>",
                                    "legendgroup": "Group A",
                                    "marker": {
                                        "color": "#636efa",
                                        "symbol": "circle"
                                    },
                                    "mode": "markers",
                                    "name": "Group A",
                                    "scene": "scene",
                                    "showlegend": true,
                                    "type": "scatter3d",
                                    "x": {
                                        "bdata": "Zyb35ZT2DUAf3/8ZifX4PyCeBokgWco/AtUdkuFWCEAYhR3zHUcRQGnQvFUfXwdABuVTLhdPDUDq+XMZKD4SQBiJ6rnCkRRASNWHyAbR5D9WAltAS/oiQCSB6DcJUCNAo6p2kv4qIECk3yhwfV4IQMqTalopmxFAT30qj5zOE0AmZkDE1+8IQAuo1jFQ3hVA81KgdKOT/T9urz8wXAEfQMkP0RqE5SFA36tqQnVb/z+0I3ljHBgPQFCF99MikyBAaUdhODW1FUDGcvlTyeMeQCZSDeW8sec/1sGCzGCtDEDwl0wm/4nyP/g/9KLKeApAdNz00SovHUDWpF+oloAZQB8yZ3yHviFAFJw+aqCHHECJDy5/enMWQHjERzS01h5AtPCNIAUaEUCEnCVzq0TQPw==",
                                        "dtype": "f8"
                                    },
                                    "y": {
                                        "bdata": "BD2pl1sd1D/4Tgs+gfEDQECm8hgcLgdASM2LEM0SIECjTDXu5tkhQBV7EQ+2cAlALlFxEbqb8T8yFnq0HDwCQFwPQ8rwNiFAH2Rjea8t8z8Z9nDUWwILQM60a5uy2yJAUQkwMDLbCUDdXsp8asAUQICBIjaGbyNA9on2XIAkBEAwEeJT8GEYQIJwUqkjeeA/5GFz+a1KBkAem84+OioDQJYpPQv/kxNAXijZH/x2HkA4+LPUMmwNQMt+/h9YVxlAkHXgr7+0IECW6BlSQhobQIRxLQNX8A5AbCIYuw68IkCMiIOd2wD2P9aGWmtufiJAdpZ0ey1YIEA/S5WdQTUWQIDcTTafLxVAzE5lo77xIUCLi/F79VIZQCDpyYJUHwtALAwkXDTxIUCc4gLr4b0hQA==",
                                        "dtype": "f8"
                                    },
                                    "z": {
                                        "bdata": "OzBBcGeuGUBQZyE3YYu3P+qVbbQI8xVAPsnJkS8ICkDMibiqPfwZQIxBWkTW+e0/8gJd1NFqDUCoLoEwWDcFQFQP3jKkcg9ACDlY634TF0BtIlKVYbMTQGuMmhwnPf8/r/d+3+jlHECsVLjNN3YGQDoZ5BN0Vvw/KuuyQx0UI0AFisMNmyARQIZp8/m7RSNAuziwjWgPIUBzu+gtzc4OQARR2gqQWglA6mumWVjXG0BOEFuLrJkYQF1RFV3XafY/HUw+fHihHUDlqIza7S8gQOvNWnKh/xlAH+L7DCQUHEDU+0C86tQfQOTkyVnwCw5ACHTGRLmfEkCewehZrrQVQHWrY2Zd7AZAyFUbkyDn1z9W7l5PtNAMQE10iApmVPQ/bgunvwNEAUClTEkCZuoYQA==",
                                        "dtype": "f8"
                                    }
                                },
                                {
                                    "customdata": [
                                        [
                                            "Group B"
                                        ],
                                        [
                                            "Group B"
                                        ],
                                        [
                                            "Group B"
                                        ],
                                        [
                                            "Group B"
                                        ],
                                        [
                                            "Group B"
                                        ],
                                        [
                                            "Group B"
                                        ],
                                        [
                                            "Group B"
                                        ],
                                        [
                                            "Group B"
                                        ],
                                        [
                                            "Group B"
                                        ],
                                        [
                                            "Group B"
                                        ],
                                        [
                                            "Group B"
                                        ],
                                        [
                                            "Group B"
                                        ],
                                        [
                                            "Group B"
                                        ],
                                        [
                                            "Group B"
                                        ],
                                        [
                                            "Group B"
                                        ],
                                        [
                                            "Group B"
                                        ],
                                        [
                                            "Group B"
                                        ],
                                        [
                                            "Group B"
                                        ],
                                        [
                                            "Group B"
                                        ],
                                        [
                                            "Group B"
                                        ],
                                        [
                                            "Group B"
                                        ],
                                        [
                                            "Group B"
                                        ],
                                        [
                                            "Group B"
                                        ],
                                        [
                                            "Group B"
                                        ],
                                        [
                                            "Group B"
                                        ],
                                        [
                                            "Group B"
                                        ],
                                        [
                                            "Group B"
                                        ],
                                        [
                                            "Group B"
                                        ],
                                        [
                                            "Group B"
                                        ],
                                        [
                                            "Group B"
                                        ],
                                        [
                                            "Group B"
                                        ],
                                        [
                                            "Group B"
                                        ],
                                        [
                                            "Group B"
                                        ],
                                        [
                                            "Group B"
                                        ]
                                    ],
                                    "hovertemplate": "Category=%{customdata[0]}<br>Dimension X=%{x}<br>Dimension Y=%{y}<br>Dimension Z=%{z}<extra></extra>",
                                    "legendgroup": "Group B",
                                    "marker": {
                                        "color": "#EF553B",
                                        "symbol": "diamond"
                                    },
                                    "mode": "markers",
                                    "name": "Group B",
                                    "scene": "scene",
                                    "showlegend": true,
                                    "type": "scatter3d",
                                    "x": {
                                        "bdata": "9GV1QagDI0BmtV6iNZbiP9GS1WXSUiFAmN6272oLGEBf/gF6tPwAQFqBWaw/WP0/fAsJgIH9FEBSbD9vX0wHQLqIF6wzaB9AkTSmW6Py/z9MlMuEb7rdPyzLZmBCTRhAYY4CCatI+z/OLjOkr4bzPzyG0mPQswRAUioKHX/NFEDwD5v2RWQjQHzoout+6hdAcPxQ//5vIkCmWNFGTlHsP4jN5PwJ8tw/tAFy4sMGCkC4DafhTooMQPUBEuyJeQZAVsVpoD8LIEDiHaBQMNvnPxn6DnLcvCNA0qje8WTL/z9WQn+aKU8gQIiEjh04RhxA9qAH8M7ZHkD/Sz+kku4YQMw7sP7q4AhAR8Ezh3fAE0A=",
                                        "dtype": "f8"
                                    },
                                    "y": {
                                        "bdata": "UHlgtdd0GUAg/7I1UmoQQBrrA/rXOB5AhLRtU8lNAkCfND2LkykgQKAuJNPgbSFA6YdU3OjZ/T9fKZ9T3ZIVQIOqAHGVFRFA4aRhUDxcIEBsoqtoDW4UQBWVbOZJshBA4KLsmMTEAUAsAB7ruj8jQDM3+oeIyQZAnCAO5m4bFEAg/BVDUioiQAHaYcOHtiNAuE3tvUpdA0AEfmcCq+IaQO/tayDRAgNA1QQEd+8gHUBlCBUwVW4VQNQN77eJ5Ow/w4/qVczX/T8wMKtkmRjaPzY6oWW+ohdASK/I8X87xT+9lXwroh4CQCIbe8KRzhlAZuT80jOjG0BWci4c4CfyP4oWSQClogRAgeoA5c/vC0A=",
                                        "dtype": "f8"
                                    },
                                    "z": {
                                        "bdata": "+uZs9b7s6j+ze80+RjzwPypK3hNCihpAwJy1tVHqqT9eXsITCfEBQC9e8H7c+gJAfRTVbRLcHUDMZs0bBvwgQMER5mvohANAzn3yZNB1I0BYBiwK3D4ZQLEZwCTeyh9Ad7s5+wAbFEC1wyzgJc8iQIDSffjSyMM/ZkTuzUVVI0CYlQ41UI4HQCAodENsHvs/fzT5GaVFFkDhSxzJHLkiQPQhWidtzRZA2lNbyLIY7z/R+HkVsrsUQLduzm4mjCFA9GeL4G8ZHEAYOIf3YMIMQOEQ987CfAdA8vgj1MczIEBkODSoykMiQPqiBmsldBRAsKv46YruH0DtskYMJAoLQIYxXLGWIRdAHawjX8XjFEA=",
                                        "dtype": "f8"
                                    }
                                },
                                {
                                    "customdata": [
                                        [
                                            "Group C"
                                        ],
                                        [
                                            "Group C"
                                        ],
                                        [
                                            "Group C"
                                        ],
                                        [
                                            "Group C"
                                        ],
                                        [
                                            "Group C"
                                        ],
                                        [
                                            "Group C"
                                        ],
                                        [
                                            "Group C"
                                        ],
                                        [
                                            "Group C"
                                        ],
                                        [
                                            "Group C"
                                        ],
                                        [
                                            "Group C"
                                        ],
                                        [
                                            "Group C"
                                        ],
                                        [
                                            "Group C"
                                        ],
                                        [
                                            "Group C"
                                        ],
                                        [
                                            "Group C"
                                        ],
                                        [
                                            "Group C"
                                        ],
                                        [
                                            "Group C"
                                        ],
                                        [
                                            "Group C"
                                        ],
                                        [
                                            "Group C"
                                        ],
                                        [
                                            "Group C"
                                        ],
                                        [
                                            "Group C"
                                        ],
                                        [
                                            "Group C"
                                        ],
                                        [
                                            "Group C"
                                        ],
                                        [
                                            "Group C"
                                        ],
                                        [
                                            "Group C"
                                        ],
                                        [
                                            "Group C"
                                        ],
                                        [
                                            "Group C"
                                        ],
                                        [
                                            "Group C"
                                        ],
                                        [
                                            "Group C"
                                        ]
                                    ],
                                    "hovertemplate": "Category=%{customdata[0]}<br>Dimension X=%{x}<br>Dimension Y=%{y}<br>Dimension Z=%{z}<extra></extra>",
                                    "legendgroup": "Group C",
                                    "marker": {
                                        "color": "#00cc96",
                                        "symbol": "square"
                                    },
                                    "mode": "markers",
                                    "name": "Group C",
                                    "scene": "scene",
                                    "showlegend": true,
                                    "type": "scatter3d",
                                    "x": {
                                        "bdata": "JQHmMp5HHUDc9/tLQ/IXQOWp6gSG9vg/IiNBx6lSHEBHFM498GUjQHqs2DcbpiBAhh/Y94wX/T9x0v+mX3kYQJvt7iSrUfY/3XRVP1OyF0BMWjyxTEHvPzmDNNOLXhtAAILeHTcC1j9fR/pvuC8iQNTcxmo6gBpAauV8DTzKIkCgnGVpOrUFQJrr7JlBjPY/ANYCCfNFrD+4bPOMCCkdQFIGIOwWQyFAxi3VNrNW5D/ewqgiwQMKQHol6hd74xJAdipvj5Qi8z9U0JtbcG4eQASmjb/I6BRAYs0InDtD8T8=",
                                        "dtype": "f8"
                                    },
                                    "y": {
                                        "bdata": "RvyhrwImCUC2QnqNw1cUQBAsWYe9JiJA4mH0tzGi6D/M/pu5n8v5PyqWj04NmCJAWwiH8Q1WGUDjIs71FyYgQNYH5Mn86yFAcJuw9CXMsT8I6QQF6h4cQMYfpl4iFw1A1LSPH9PjE0A+Gnvf/BEIQMisV7WOm9c/kGKe2uQu9z8XyOrLz0oZQCX9FGOTqQlATSkMOtV7FECjes+GDOb7PzsnWvMJSQtAUE29PPqLIUA68d+TPGYaQNNo9okiWQNA3uSdjvrK7T8j47T0IwIiQOy5O0HJCR1AgFhw8+wxH0A=",
                                        "dtype": "f8"
                                    },
                                    "z": {
                                        "bdata": "rvG050/c+T8JJyzymPghQGRH52TVQRhAgXYborK6+T+e+z2/Aa0bQNLn+FIVFBpA7yIXGbd8HEBbUYq99E0aQJRztud6uxZAOufDQkfXIUDQ+Pca2x/PPxXQN+Wi0RlAqW+1DRtMIkD4KHql2ZwNQCGu07T9kCJA69Kr29EFIUCwiOVhE80jQBTgrvFw4RtAaF6HB2lXIUBwtCPghg8UQFpvN83TzCFAmPmJIQAT7j8AkUA6yADXP2JRTfEhohdA0CUFNCmF0z8GF8IBt3MgQC6TW+a7zB5A+FCuEapP6z8=",
                                        "dtype": "f8"
                                    }
                                }
                            ],
                            "layout": {
                                "legend": {
                                    "title": {
                                        "text": "Category"
                                    },
                                    "tracegroupgap": 0
                                },
                                "margin": {
                                    "b": 0,
                                    "l": 0,
                                    "r": 0,
                                    "t": 40
                                },
                                "scene": {
                                    "bgcolor": "white",
                                    "domain": {
                                        "x": [
                                            0,
                                            1
                                        ],
                                        "y": [
                                            0,
                                            1
                                        ]
                                    },
                                    "xaxis": {
                                        "title": {
                                            "text": "X Dimension"
                                        }
                                    },
                                    "yaxis": {
                                        "title": {
                                            "text": "Y Dimension"
                                        }
                                    },
                                    "zaxis": {
                                        "title": {
                                            "text": "Z Dimension"
                                        }
                                    }
                                },
                                "template": {
                                    "data": {
                                        "bar": [
                                            {
                                                "error_x": {
                                                    "color": "#2a3f5f"
                                                },
                                                "error_y": {
                                                    "color": "#2a3f5f"
                                                },
                                                "marker": {
                                                    "line": {
                                                        "color": "#E5ECF6",
                                                        "width": 0.5
                                                    },
                                                    "pattern": {
                                                        "fillmode": "overlay",
                                                        "size": 10,
                                                        "solidity": 0.2
                                                    }
                                                },
                                                "type": "bar"
                                            }
                                        ],
                                        "barpolar": [
                                            {
                                                "marker": {
                                                    "line": {
                                                        "color": "#E5ECF6",
                                                        "width": 0.5
                                                    },
                                                    "pattern": {
                                                        "fillmode": "overlay",
                                                        "size": 10,
                                                        "solidity": 0.2
                                                    }
                                                },
                                                "type": "barpolar"
                                            }
                                        ],
                                        "carpet": [
                                            {
                                                "aaxis": {
                                                    "endlinecolor": "#2a3f5f",
                                                    "gridcolor": "white",
                                                    "linecolor": "white",
                                                    "minorgridcolor": "white",
                                                    "startlinecolor": "#2a3f5f"
                                                },
                                                "baxis": {
                                                    "endlinecolor": "#2a3f5f",
                                                    "gridcolor": "white",
                                                    "linecolor": "white",
                                                    "minorgridcolor": "white",
                                                    "startlinecolor": "#2a3f5f"
                                                },
                                                "type": "carpet"
                                            }
                                        ],
                                        "choropleth": [
                                            {
                                                "colorbar": {
                                                    "outlinewidth": 0,
                                                    "ticks": ""
                                                },
                                                "type": "choropleth"
                                            }
                                        ],
                                        "contour": [
                                            {
                                                "colorbar": {
                                                    "outlinewidth": 0,
                                                    "ticks": ""
                                                },
                                                "colorscale": [
                                                    [
                                                        0,
                                                        "#0d0887"
                                                    ],
                                                    [
                                                        0.1111111111111111,
                                                        "#46039f"
                                                    ],
                                                    [
                                                        0.2222222222222222,
                                                        "#7201a8"
                                                    ],
                                                    [
                                                        0.3333333333333333,
                                                        "#9c179e"
                                                    ],
                                                    [
                                                        0.4444444444444444,
                                                        "#bd3786"
                                                    ],
                                                    [
                                                        0.5555555555555556,
                                                        "#d8576b"
                                                    ],
                                                    [
                                                        0.6666666666666666,
                                                        "#ed7953"
                                                    ],
                                                    [
                                                        0.7777777777777778,
                                                        "#fb9f3a"
                                                    ],
                                                    [
                                                        0.8888888888888888,
                                                        "#fdca26"
                                                    ],
                                                    [
                                                        1,
                                                        "#f0f921"
                                                    ]
                                                ],
                                                "type": "contour"
                                            }
                                        ],
                                        "contourcarpet": [
                                            {
                                                "colorbar": {
                                                    "outlinewidth": 0,
                                                    "ticks": ""
                                                },
                                                "type": "contourcarpet"
                                            }
                                        ],
                                        "heatmap": [
                                            {
                                                "colorbar": {
                                                    "outlinewidth": 0,
                                                    "ticks": ""
                                                },
                                                "colorscale": [
                                                    [
                                                        0,
                                                        "#0d0887"
                                                    ],
                                                    [
                                                        0.1111111111111111,
                                                        "#46039f"
                                                    ],
                                                    [
                                                        0.2222222222222222,
                                                        "#7201a8"
                                                    ],
                                                    [
                                                        0.3333333333333333,
                                                        "#9c179e"
                                                    ],
                                                    [
                                                        0.4444444444444444,
                                                        "#bd3786"
                                                    ],
                                                    [
                                                        0.5555555555555556,
                                                        "#d8576b"
                                                    ],
                                                    [
                                                        0.6666666666666666,
                                                        "#ed7953"
                                                    ],
                                                    [
                                                        0.7777777777777778,
                                                        "#fb9f3a"
                                                    ],
                                                    [
                                                        0.8888888888888888,
                                                        "#fdca26"
                                                    ],
                                                    [
                                                        1,
                                                        "#f0f921"
                                                    ]
                                                ],
                                                "type": "heatmap"
                                            }
                                        ],
                                        "histogram": [
                                            {
                                                "marker": {
                                                    "pattern": {
                                                        "fillmode": "overlay",
                                                        "size": 10,
                                                        "solidity": 0.2
                                                    }
                                                },
                                                "type": "histogram"
                                            }
                                        ],
                                        "histogram2d": [
                                            {
                                                "colorbar": {
                                                    "outlinewidth": 0,
                                                    "ticks": ""
                                                },
                                                "colorscale": [
                                                    [
                                                        0,
                                                        "#0d0887"
                                                    ],
                                                    [
                                                        0.1111111111111111,
                                                        "#46039f"
                                                    ],
                                                    [
                                                        0.2222222222222222,
                                                        "#7201a8"
                                                    ],
                                                    [
                                                        0.3333333333333333,
                                                        "#9c179e"
                                                    ],
                                                    [
                                                        0.4444444444444444,
                                                        "#bd3786"
                                                    ],
                                                    [
                                                        0.5555555555555556,
                                                        "#d8576b"
                                                    ],
                                                    [
                                                        0.6666666666666666,
                                                        "#ed7953"
                                                    ],
                                                    [
                                                        0.7777777777777778,
                                                        "#fb9f3a"
                                                    ],
                                                    [
                                                        0.8888888888888888,
                                                        "#fdca26"
                                                    ],
                                                    [
                                                        1,
                                                        "#f0f921"
                                                    ]
                                                ],
                                                "type": "histogram2d"
                                            }
                                        ],
                                        "histogram2dcontour": [
                                            {
                                                "colorbar": {
                                                    "outlinewidth": 0,
                                                    "ticks": ""
                                                },
                                                "colorscale": [
                                                    [
                                                        0,
                                                        "#0d0887"
                                                    ],
                                                    [
                                                        0.1111111111111111,
                                                        "#46039f"
                                                    ],
                                                    [
                                                        0.2222222222222222,
                                                        "#7201a8"
                                                    ],
                                                    [
                                                        0.3333333333333333,
                                                        "#9c179e"
                                                    ],
                                                    [
                                                        0.4444444444444444,
                                                        "#bd3786"
                                                    ],
                                                    [
                                                        0.5555555555555556,
                                                        "#d8576b"
                                                    ],
                                                    [
                                                        0.6666666666666666,
                                                        "#ed7953"
                                                    ],
                                                    [
                                                        0.7777777777777778,
                                                        "#fb9f3a"
                                                    ],
                                                    [
                                                        0.8888888888888888,
                                                        "#fdca26"
                                                    ],
                                                    [
                                                        1,
                                                        "#f0f921"
                                                    ]
                                                ],
                                                "type": "histogram2dcontour"
                                            }
                                        ],
                                        "mesh3d": [
                                            {
                                                "colorbar": {
                                                    "outlinewidth": 0,
                                                    "ticks": ""
                                                },
                                                "type": "mesh3d"
                                            }
                                        ],
                                        "parcoords": [
                                            {
                                                "line": {
                                                    "colorbar": {
                                                        "outlinewidth": 0,
                                                        "ticks": ""
                                                    }
                                                },
                                                "type": "parcoords"
                                            }
                                        ],
                                        "pie": [
                                            {
                                                "automargin": true,
                                                "type": "pie"
                                            }
                                        ],
                                        "scatter": [
                                            {
                                                "fillpattern": {
                                                    "fillmode": "overlay",
                                                    "size": 10,
                                                    "solidity": 0.2
                                                },
                                                "type": "scatter"
                                            }
                                        ],
                                        "scatter3d": [
                                            {
                                                "line": {
                                                    "colorbar": {
                                                        "outlinewidth": 0,
                                                        "ticks": ""
                                                    }
                                                },
                                                "marker": {
                                                    "colorbar": {
                                                        "outlinewidth": 0,
                                                        "ticks": ""
                                                    }
                                                },
                                                "type": "scatter3d"
                                            }
                                        ],
                                        "scattercarpet": [
                                            {
                                                "marker": {
                                                    "colorbar": {
                                                        "outlinewidth": 0,
                                                        "ticks": ""
                                                    }
                                                },
                                                "type": "scattercarpet"
                                            }
                                        ],
                                        "scattergeo": [
                                            {
                                                "marker": {
                                                    "colorbar": {
                                                        "outlinewidth": 0,
                                                        "ticks": ""
                                                    }
                                                },
                                                "type": "scattergeo"
                                            }
                                        ],
                                        "scattergl": [
                                            {
                                                "marker": {
                                                    "colorbar": {
                                                        "outlinewidth": 0,
                                                        "ticks": ""
                                                    }
                                                },
                                                "type": "scattergl"
                                            }
                                        ],
                                        "scattermap": [
                                            {
                                                "marker": {
                                                    "colorbar": {
                                                        "outlinewidth": 0,
                                                        "ticks": ""
                                                    }
                                                },
                                                "type": "scattermap"
                                            }
                                        ],
                                        "scattermapbox": [
                                            {
                                                "marker": {
                                                    "colorbar": {
                                                        "outlinewidth": 0,
                                                        "ticks": ""
                                                    }
                                                },
                                                "type": "scattermapbox"
                                            }
                                        ],
                                        "scatterpolar": [
                                            {
                                                "marker": {
                                                    "colorbar": {
                                                        "outlinewidth": 0,
                                                        "ticks": ""
                                                    }
                                                },
                                                "type": "scatterpolar"
                                            }
                                        ],
                                        "scatterpolargl": [
                                            {
                                                "marker": {
                                                    "colorbar": {
                                                        "outlinewidth": 0,
                                                        "ticks": ""
                                                    }
                                                },
                                                "type": "scatterpolargl"
                                            }
                                        ],
                                        "scatterternary": [
                                            {
                                                "marker": {
                                                    "colorbar": {
                                                        "outlinewidth": 0,
                                                        "ticks": ""
                                                    }
                                                },
                                                "type": "scatterternary"
                                            }
                                        ],
                                        "surface": [
                                            {
                                                "colorbar": {
                                                    "outlinewidth": 0,
                                                    "ticks": ""
                                                },
                                                "colorscale": [
                                                    [
                                                        0,
                                                        "#0d0887"
                                                    ],
                                                    [
                                                        0.1111111111111111,
                                                        "#46039f"
                                                    ],
                                                    [
                                                        0.2222222222222222,
                                                        "#7201a8"
                                                    ],
                                                    [
                                                        0.3333333333333333,
                                                        "#9c179e"
                                                    ],
                                                    [
                                                        0.4444444444444444,
                                                        "#bd3786"
                                                    ],
                                                    [
                                                        0.5555555555555556,
                                                        "#d8576b"
                                                    ],
                                                    [
                                                        0.6666666666666666,
                                                        "#ed7953"
                                                    ],
                                                    [
                                                        0.7777777777777778,
                                                        "#fb9f3a"
                                                    ],
                                                    [
                                                        0.8888888888888888,
                                                        "#fdca26"
                                                    ],
                                                    [
                                                        1,
                                                        "#f0f921"
                                                    ]
                                                ],
                                                "type": "surface"
                                            }
                                        ],
                                        "table": [
                                            {
                                                "cells": {
                                                    "fill": {
                                                        "color": "#EBF0F8"
                                                    },
                                                    "line": {
                                                        "color": "white"
                                                    }
                                                },
                                                "header": {
                                                    "fill": {
                                                        "color": "#C8D4E3"
                                                    },
                                                    "line": {
                                                        "color": "white"
                                                    }
                                                },
                                                "type": "table"
                                            }
                                        ]
                                    },
                                    "layout": {
                                        "annotationdefaults": {
                                            "arrowcolor": "#2a3f5f",
                                            "arrowhead": 0,
                                            "arrowwidth": 1
                                        },
                                        "autotypenumbers": "strict",
                                        "coloraxis": {
                                            "colorbar": {
                                                "outlinewidth": 0,
                                                "ticks": ""
                                            }
                                        },
                                        "colorscale": {
                                            "diverging": [
                                                [
                                                    0,
                                                    "#8e0152"
                                                ],
                                                [
                                                    0.1,
                                                    "#c51b7d"
                                                ],
                                                [
                                                    0.2,
                                                    "#de77ae"
                                                ],
                                                [
                                                    0.3,
                                                    "#f1b6da"
                                                ],
                                                [
                                                    0.4,
                                                    "#fde0ef"
                                                ],
                                                [
                                                    0.5,
                                                    "#f7f7f7"
                                                ],
                                                [
                                                    0.6,
                                                    "#e6f5d0"
                                                ],
                                                [
                                                    0.7,
                                                    "#b8e186"
                                                ],
                                                [
                                                    0.8,
                                                    "#7fbc41"
                                                ],
                                                [
                                                    0.9,
                                                    "#4d9221"
                                                ],
                                                [
                                                    1,
                                                    "#276419"
                                                ]
                                            ],
                                            "sequential": [
                                                [
                                                    0,
                                                    "#0d0887"
                                                ],
                                                [
                                                    0.1111111111111111,
                                                    "#46039f"
                                                ],
                                                [
                                                    0.2222222222222222,
                                                    "#7201a8"
                                                ],
                                                [
                                                    0.3333333333333333,
                                                    "#9c179e"
                                                ],
                                                [
                                                    0.4444444444444444,
                                                    "#bd3786"
                                                ],
                                                [
                                                    0.5555555555555556,
                                                    "#d8576b"
                                                ],
                                                [
                                                    0.6666666666666666,
                                                    "#ed7953"
                                                ],
                                                [
                                                    0.7777777777777778,
                                                    "#fb9f3a"
                                                ],
                                                [
                                                    0.8888888888888888,
                                                    "#fdca26"
                                                ],
                                                [
                                                    1,
                                                    "#f0f921"
                                                ]
                                            ],
                                            "sequentialminus": [
                                                [
                                                    0,
                                                    "#0d0887"
                                                ],
                                                [
                                                    0.1111111111111111,
                                                    "#46039f"
                                                ],
                                                [
                                                    0.2222222222222222,
                                                    "#7201a8"
                                                ],
                                                [
                                                    0.3333333333333333,
                                                    "#9c179e"
                                                ],
                                                [
                                                    0.4444444444444444,
                                                    "#bd3786"
                                                ],
                                                [
                                                    0.5555555555555556,
                                                    "#d8576b"
                                                ],
                                                [
                                                    0.6666666666666666,
                                                    "#ed7953"
                                                ],
                                                [
                                                    0.7777777777777778,
                                                    "#fb9f3a"
                                                ],
                                                [
                                                    0.8888888888888888,
                                                    "#fdca26"
                                                ],
                                                [
                                                    1,
                                                    "#f0f921"
                                                ]
                                            ]
                                        },
                                        "colorway": [
                                            "#636efa",
                                            "#EF553B",
                                            "#00cc96",
                                            "#ab63fa",
                                            "#FFA15A",
                                            "#19d3f3",
                                            "#FF6692",
                                            "#B6E880",
                                            "#FF97FF",
                                            "#FECB52"
                                        ],
                                        "font": {
                                            "color": "#2a3f5f"
                                        },
                                        "geo": {
                                            "bgcolor": "white",
                                            "lakecolor": "white",
                                            "landcolor": "#E5ECF6",
                                            "showlakes": true,
                                            "showland": true,
                                            "subunitcolor": "white"
                                        },
                                        "hoverlabel": {
                                            "align": "left"
                                        },
                                        "hovermode": "closest",
                                        "mapbox": {
                                            "style": "light"
                                        },
                                        "paper_bgcolor": "white",
                                        "plot_bgcolor": "#E5ECF6",
                                        "polar": {
                                            "angularaxis": {
                                                "gridcolor": "white",
                                                "linecolor": "white",
                                                "ticks": ""
                                            },
                                            "bgcolor": "#E5ECF6",
                                            "radialaxis": {
                                                "gridcolor": "white",
                                                "linecolor": "white",
                                                "ticks": ""
                                            }
                                        },
                                        "scene": {
                                            "xaxis": {
                                                "backgroundcolor": "#E5ECF6",
                                                "gridcolor": "white",
                                                "gridwidth": 2,
                                                "linecolor": "white",
                                                "showbackground": true,
                                                "ticks": "",
                                                "zerolinecolor": "white"
                                            },
                                            "yaxis": {
                                                "backgroundcolor": "#E5ECF6",
                                                "gridcolor": "white",
                                                "gridwidth": 2,
                                                "linecolor": "white",
                                                "showbackground": true,
                                                "ticks": "",
                                                "zerolinecolor": "white"
                                            },
                                            "zaxis": {
                                                "backgroundcolor": "#E5ECF6",
                                                "gridcolor": "white",
                                                "gridwidth": 2,
                                                "linecolor": "white",
                                                "showbackground": true,
                                                "ticks": "",
                                                "zerolinecolor": "white"
                                            }
                                        },
                                        "shapedefaults": {
                                            "line": {
                                                "color": "#2a3f5f"
                                            }
                                        },
                                        "ternary": {
                                            "aaxis": {
                                                "gridcolor": "white",
                                                "linecolor": "white",
                                                "ticks": ""
                                            },
                                            "baxis": {
                                                "gridcolor": "white",
                                                "linecolor": "white",
                                                "ticks": ""
                                            },
                                            "bgcolor": "#E5ECF6",
                                            "caxis": {
                                                "gridcolor": "white",
                                                "linecolor": "white",
                                                "ticks": ""
                                            }
                                        },
                                        "title": {
                                            "x": 0.05
                                        },
                                        "xaxis": {
                                            "automargin": true,
                                            "gridcolor": "white",
                                            "linecolor": "white",
                                            "ticks": "",
                                            "title": {
                                                "standoff": 15
                                            },
                                            "zerolinecolor": "white",
                                            "zerolinewidth": 2
                                        },
                                        "yaxis": {
                                            "automargin": true,
                                            "gridcolor": "white",
                                            "linecolor": "white",
                                            "ticks": "",
                                            "title": {
                                                "standoff": 15
                                            },
                                            "zerolinecolor": "white",
                                            "zerolinewidth": 2
                                        }
                                    }
                                },
                                "title": {
                                    "text": "3D Scatter Plot with Plotly"
                                }
                            }
                        }
                    },
                    "metadata": {},
                    "output_type": "display_data"
                }
            ],
            "source": [
                "import plotly.express as px\n",
                "import pandas as pd\n",
                "import numpy as np\n",
                "\n",
                "# Generate sample 3D data\n",
                "np.random.seed(42)\n",
                "num_points = 100\n",
                "x_data = np.random.rand(num_points) * 10\n",
                "y_data = np.random.rand(num_points) * 10\n",
                "z_data = np.random.rand(num_points) * 10\n",
                "# Add a categorical variable for color mapping\n",
                "category = np.random.choice(['Group A', 'Group B', 'Group C'], size=num_points)\n",
                "\n",
                "# Create a DataFrame for Plotly\n",
                "df_3d = pd.DataFrame({\n",
                "    'X': x_data,\n",
                "    'Y': y_data,\n",
                "    'Z': z_data,\n",
                "    'Category': category\n",
                "})\n",
                "\n",
                "# Create the 3D scatter plot using Plotly Express\n",
                "fig = px.scatter_3d(\n",
                "    df_3d, \n",
                "    x='X', \n",
                "    y='Y', \n",
                "    z='Z', \n",
                "    color='Category', # Color points by category\n",
                "    symbol='Category', # Use different symbols by category\n",
                "    title='3D Scatter Plot with Plotly',\n",
                "    labels={'X': 'Dimension X', 'Y': 'Dimension Y', 'Z': 'Dimension Z'},\n",
                "    hover_data=['X', 'Y', 'Z', 'Category'] # Show data on hover\n",
                ")\n",
                "\n",
                "# Update layout for better appearance and camera angle\n",
                "fig.update_layout(\n",
                "    scene=dict(\n",
                "        xaxis_title='X Dimension',\n",
                "        yaxis_title='Y Dimension',\n",
                "        zaxis_title='Z Dimension',\n",
                "        bgcolor=\"white\" # Set background color of the 3D scene\n",
                "    ),\n",
                "    margin=dict(l=0, r=0, b=0, t=40) # Adjust margins\n",
                ")\n",
                "\n",
                "# Show the plot (this will open in your browser or display in Jupyter)\n",
                "fig.show()"
            ]
        },
        {
            "attachments": {
                "image.png": {
                    "image/png": "[encoded data removed]"
                }
            },
            "cell_type": "markdown",
            "id": "808371e1",
            "metadata": {},
            "source": [
                "![image.png](attachment:image.png)"
            ]
        }
    ],
    "metadata": {
        "colab": {
            "collapsed_sections": [],
            "name": "Data_Toolkit_Assignment_Answers.ipynb",
            "provenance": []
        },
        "kernelspec": {
            "display_name": ".venv",
            "language": "python",
            "name": "python3"
        },
        "language_info": {
            "codemirror_mode": {
                "name": "ipython",
                "version": 3
            },
            "file_extension": ".py",
            "mimetype": "text/x-python",
            "name": "python",
            "nbconvert_exporter": "python",
            "pygments_lexer": "ipython3",
            "version": "3.13.1"
        }
    },
    "nbformat": 4,
    "nbformat_minor": 5
}
