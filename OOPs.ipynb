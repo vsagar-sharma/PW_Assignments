{
    "cells": [
        {
            "cell_type": "markdown",
            "metadata": {},
            "source": [
                "# Python OOPs Assignment Answers"
            ]
        },
        {
            "cell_type": "markdown",
            "metadata": {},
            "source": [
                "This notebook contains the answers to the Python Object-Oriented Programming (OOPs) Assignment questions."
            ]
        },
        {
            "cell_type": "markdown",
            "metadata": {},
            "source": [
                "## Theoretical Questions"
            ]
        },
        {
            "cell_type": "markdown",
            "metadata": {},
            "source": [
                "### 1. What is Object-Oriented Programming (OOP)?\n",
                "\n",
                "**Answer:** Object-Oriented Programming (OOP) is a programming paradigm based on the concept of \"objects\", which can contain data (attributes or properties) and code (methods or functions). The primary goal of OOP is to model real-world entities into software objects to manage complexity and improve code organization, reusability, and maintainability. The core principles of OOP are Encapsulation, Inheritance, Polymorphism, and Abstraction (EIPA)."
            ]
        },
        {
            "cell_type": "markdown",
            "metadata": {},
            "source": [
                "### 2. What is a class in OOP?\n",
                "\n",
                "**Answer:** A class is a blueprint or a template for creating objects. It defines a set of attributes and methods that the objects created from it will have. A class doesn't store data itself; it only defines the structure and behavior for the objects. Think of a class `Dog` as the blueprint for all dogs, defining that every dog has a `name` and can `bark()`, but not specifying a specific dog's name."
            ]
        },
        {
            "cell_type": "markdown",
            "metadata": {},
            "source": [
                "### 3. What is an object in OOP?\n",
                "\n",
                "**Answer:** An object is an instance of a class. It is a concrete realization of the class blueprint. Each object has its own unique set of data (attribute values) but shares the same methods as other objects of the same class. Using the `Dog` example, `my_dog = Dog(\"Buddy\")` creates an object `my_dog` from the `Dog` class, with the specific data value `name = \"Buddy\"`."
            ]
        },
        {
            "cell_type": "markdown",
            "metadata": {},
            "source": [
                "### 4. What is the difference between abstraction and encapsulation?\n",
                "\n",
                "**Answer:**\n",
                "- **Encapsulation:** The mechanism of binding data (attributes) and the code that operates on that data (methods) into a single unit (the class). It also involves restricting direct access to some of the object's components, preventing accidental modification. It is about **hiding the internal state** and providing a public interface.\n",
                "- **Abstraction:** The process of hiding complex implementation details from the user and showing only the essential features. It focuses on what an object does rather than how it does it. It is about **hiding complexity**.\n",
                "**Analogy:** Encapsulation is like a car's engine being enclosed under the hood to prevent interference, while Abstraction is the steering wheel and pedals, which provide a simple interface to drive the car without needing to understand the complex machinery beneath the hood."
            ]
        },
        {
            "cell_type": "markdown",
            "metadata": {},
            "source": [
                "### 5. What are dunder methods in Python?\n",
                "\n",
                "**Answer:** Dunder methods, short for \"Double Underscore\" methods, are special methods in Python that have double underscores at the beginning and end of their names (e.g., `__init__`, `__str__`, `__add__`). These methods are also known as magic methods or special methods. They allow you to define how objects of your class behave with built-in Python operations and functions. For example, `__init__` is the constructor, `__str__` defines the string representation of an object, and `__add__` defines the behavior of the `+` operator."
            ]
        },
        {
            "cell_type": "markdown",
            "metadata": {},
            "source": [
                "### 6. Explain the concept of inheritance in OOP.\n",
                "\n",
                "**Answer:** Inheritance is a mechanism that allows a new class (the child or subclass) to inherit attributes and methods from an existing class (the parent or superclass). This promotes code reuse and establishes a logical hierarchy. The child class can extend or override the functionality of the parent class. For example, a `Dog` class and a `Cat` class can both inherit from an `Animal` class, sharing common attributes like `name` and `age`."
            ]
        },
        {
            "cell_type": "markdown",
            "metadata": {},
            "source": [
                "### 7. What is polymorphism in OOP?\n",
                "\n",
                "**Answer:** Polymorphism means \"many forms\". In OOP, it refers to the ability of an object to take on many forms. It allows objects of different classes to be treated as objects of a common superclass. The most common form of polymorphism in Python is method overriding, where a method in a child class has the same name and signature as a method in its parent class, but with a different implementation. This allows a single function call to behave differently based on the type of object it's acting upon. For example, a `speak()` method could be called on both `Dog` and `Cat` objects, but a `Dog` object would `print(\"Bark!\")` and a `Cat` object would `print(\"Meow!\")`."
            ]
        },
        {
            "cell_type": "markdown",
            "metadata": {},
            "source": [
                "### 8. How is encapsulation achieved in Python?\n",
                "\n",
                "**Answer:** Python does not have strict access modifiers like `public`, `private`, or `protected` found in other languages like Java or C++. Encapsulation is achieved through a convention and name mangling:\n",
                "- **Protected Members (Convention):** A single leading underscore (`_`) is used to indicate that an attribute or method is intended for internal use and should not be accessed directly from outside the class. The interpreter doesn't prevent access, so it's a social convention among developers.\n",
                "- **Private Members (Name Mangling):** A double leading underscore (`__`) is used for attributes. The Python interpreter automatically renames these attributes to prevent them from being accidentally overwritten in subclasses. For example, `__private_attr` becomes `_ClassName__private_attr`. This makes it harder, but not impossible, to access them from outside the class."
            ]
        },
        {
            "cell_type": "markdown",
            "metadata": {},
            "source": [
                "### 9. What is a constructor in Python?\n",
                "\n",
                "**Answer:** A constructor is a special method in a class that is automatically called when a new object is created (instantiated). In Python, the constructor is the `__init__()` method. Its purpose is to initialize the object's attributes with the initial state or values. The `self` parameter in the constructor refers to the newly created instance of the class."
            ]
        },
        {
            "cell_type": "markdown",
            "metadata": {},
            "source": [
                "### 10. What are class and static methods in Python?\n",
                "\n",
                "**Answer:**\n",
                "- **Class Method:** A method that is bound to the class and not the instance of the class. It receives the class itself as the first argument, conventionally named `cls`. Class methods are defined using the `@classmethod` decorator and are often used for factory methods that create objects in a different way.\n",
                "- **Static Method:** A method that belongs to the class but does not have access to the class instance (`self`) or the class itself (`cls`). It's a method that is logically related to the class but does not depend on any class-specific data. Static methods are defined using the `@staticmethod` decorator and behave just like regular functions, but are organized within the class namespace for logical grouping."
            ]
        },
        {
            "cell_type": "markdown",
            "metadata": {},
            "source": [
                "### 11. What is method overloading in Python?\n",
                "\n",
                "**Answer:** Method overloading is the ability to define multiple methods in a class with the same name but different signatures (i.e., a different number or type of parameters). Python does not support method overloading in the traditional sense like languages such as Java or C++. If you define multiple methods with the same name, the last one defined will override the previous ones. However, you can achieve similar functionality using default arguments or variable-length arguments (`*args`, `**kwargs`)."
            ]
        },
        {
            "cell_type": "markdown",
            "metadata": {},
            "source": [
                "### 12. What is method overriding in OOP?\n",
                "\n",
                "**Answer:** Method overriding is a key part of polymorphism. It allows a child class to provide a specific implementation of a method that is already defined in its parent class. This enables a child object to behave differently than a parent object when that method is called. When the method is called on an object, Python's dynamic dispatch determines which version of the method (parent or child) to execute based on the object's actual type."
            ]
        },
        {
            "cell_type": "markdown",
            "metadata": {},
            "source": [
                "### 13. What is a property decorator in Python?\n",
                "\n",
                "**Answer:** The `@property` decorator is a built-in Python decorator that is used to give a method the functionality of an attribute. This allows you to define a method that can be accessed without using parentheses, making it feel like a simple attribute. It is often used to implement getters, setters, and deleters for class attributes, providing a cleaner way to manage attribute access and validation without breaking existing code that uses direct attribute access. It's a way to provide encapsulation and control over how an attribute is accessed or modified."
            ]
        },
        {
            "cell_type": "markdown",
            "metadata": {},
            "source": [
                "### 14. Why is polymorphism important in OOP?\n",
                "\n",
                "**Answer:** Polymorphism is important because it promotes flexibility, extensibility, and reusability in code. It allows you to write generic code that can work with objects of different classes, as long as those classes share a common interface (e.g., they all have a method with the same name). This makes the code easier to maintain and extend, as you can add new classes that conform to the same interface without having to modify the existing code that uses them."
            ]
        },
        {
            "cell_type": "markdown",
            "metadata": {},
            "source": [
                "### 15. What is an abstract class in Python?\n",
                "\n",
                "**Answer:** An abstract class is a class that is designed to be a blueprint for other classes. It cannot be instantiated on its own; it must be inherited by a subclass. Abstract classes often contain one or more abstract methods, which are methods declared without an implementation. Any concrete subclass that inherits from the abstract class must provide an implementation for all of its abstract methods. In Python, abstract classes are created using the `abc` module and the `@abc.abstractmethod` decorator."
            ]
        },
        {
            "cell_type": "markdown",
            "metadata": {},
            "source": [
                "### 16. What are the advantages of OOP?\n",
                "\n",
                "**Answer:**\n",
                "1.  **Code Reusability:** Inheritance allows code to be reused, reducing redundancy.\n",
                "2.  **Maintainability:** Code is modular and well-organized, making it easier to debug and maintain.\n",
                "3.  **Flexibility and Extensibility:** Polymorphism allows for flexible code that can be easily extended with new classes.\n",
                "4.  **Security:** Encapsulation helps to protect data from unauthorized access or modification.\n",
                "5.  **Simplicity:** Abstraction simplifies complex systems by hiding unnecessary details."
            ]
        },
        {
            "cell_type": "markdown",
            "metadata": {},
            "source": [
                "### 17. What is the difference between a class variable and an instance variable?\n",
                "\n",
                "**Answer:**\n",
                "- **Class Variable:** A variable that is shared by all instances of a class. It is defined within the class but outside of any methods. It is accessed using `ClassName.variable_name` or `self.variable_name`.\n",
                "- **Instance Variable:** A variable that is unique to each instance of a class. It is defined inside a method (typically the `__init__` constructor) and is specific to a single object. It is accessed using `self.variable_name`."
            ]
        },
        {
            "cell_type": "markdown",
            "metadata": {},
            "source": [
                "### 18. What is multiple inheritance in Python?\n",
                "\n",
                "**Answer:** Multiple inheritance is a feature in which a class can inherit from more than one parent class. This allows the child class to inherit attributes and methods from all of its parent classes, combining their functionalities. Python supports multiple inheritance, but it can lead to complex hierarchies and ambiguities (known as the \"diamond problem\"), which Python resolves using a specific method resolution order (MRO)."
            ]
        },
        {
            "cell_type": "markdown",
            "metadata": {},
            "source": [
                "### 19. Explain the purpose of `__str__` and `__repr__` methods in Python.\n",
                "\n",
                "**Answer:** Both `__str__` and `__repr__` are dunder methods used to provide string representations of an object.\n",
                "- **`__str__()`:** The \"informal\" or \"nicely printable\" string representation of an object. It is meant to be readable by users. It is called by functions like `print()` and `str()`.\n",
                "- **`__repr__()`:** The \"official\" string representation. It should be unambiguous and, if possible, be a valid Python expression that could be used to recreate the object. It is called by the `repr()` function and is the default output in the interpreter when an object is evaluated. If `__str__` is not defined, `__repr__` will be used as the fallback for `str()`."
            ]
        },
        {
            "cell_type": "markdown",
            "metadata": {},
            "source": [
                "### 20. What is the significance of the `super()` function in Python?\n",
                "\n",
                "**Answer:** The `super()` function is used in a child class to call a method from its parent class. It is primarily used in the `__init__()` method of a child class to call the parent's `__init__` method to ensure the parent class's attributes are properly initialized. It is also used to access overridden methods in the parent class. Using `super()` is crucial in multiple inheritance to ensure proper method resolution order (MRO) and avoid explicitly naming the parent classes."
            ]
        },
        {
            "cell_type": "markdown",
            "metadata": {},
            "source": [
                "### 21. What is the significance of the `__del__` method in Python?\n",
                "\n",
                "**Answer:** The `__del__()` method, also known as the destructor, is called when an object is about to be destroyed or garbage collected. Its purpose is to perform any necessary cleanup actions, such as closing file handles, network connections, or releasing other resources. However, it's generally not recommended to rely on `__del__` because the garbage collector's timing is not guaranteed, and it may not be called at all in some situations (e.g., circular references)."
            ]
        },
        {
            "cell_type": "markdown",
            "metadata": {},
            "source": [
                "### 22. What is the difference between `@staticmethod` and `@classmethod` in Python?\n",
                "\n",
                "**Answer:**\n",
                "- **`@staticmethod`:** A static method is a function that is bound to the class but does not receive the instance (`self`) or the class (`cls`) as its first argument. It behaves like a regular function that is logically grouped with the class. It cannot modify class state or instance state.\n",
                "- **`@classmethod`:** A class method receives the class itself (`cls`) as its first argument. It can access and modify class state (class variables) but not instance state. Class methods are often used as factory methods to create objects in alternative ways or to modify class-level attributes."
            ]
        },
        {
            "cell_type": "markdown",
            "metadata": {},
            "source": [
                "### 23. How does polymorphism work in Python with inheritance?\n",
                "\n",
                "**Answer:** In Python, polymorphism with inheritance is achieved through method overriding and dynamic dispatch. When a method is called on an object, Python looks for the method in the object's class. If it's not found, it moves up the inheritance hierarchy (according to the MRO) until it finds a matching method. The method from the most specific class (the child class) is executed. This allows objects of different subclasses to respond to the same method call in different ways, demonstrating polymorphism."
            ]
        },
        {
            "cell_type": "markdown",
            "metadata": {},
            "source": [
                "### 24. What is method chaining in Python OOP?\n",
                "\n",
                "**Answer:** Method chaining, also known as cascading, is a programming style where multiple method calls are made on the same object in a single statement. This is possible when each method returns the object itself (`return self`), allowing the next method call to be chained to the result of the previous one. This can lead to more readable and concise code, often seen in builder patterns or fluent interfaces. For example: `my_object.method1().method2().method3()`."
            ]
        },
        {
            "cell_type": "markdown",
            "metadata": {},
            "source": [
                "### 25. What is the purpose of the `__call__` method in Python?\n",
                "\n",
                "**Answer:** The `__call__()` method is a special dunder method that, when implemented in a class, makes an instance of that class callable like a function. When an object is called with parentheses (e.g., `my_object(arg1, arg2)`), Python looks for and executes the `__call__()` method. This allows you to create function-like objects that can maintain state between calls."
            ]
        },
        {
            "cell_type": "markdown",
            "metadata": {},
            "source": [
                "## Practical Questions"
            ]
        },
        {
            "cell_type": "markdown",
            "metadata": {},
            "source": [
                "### 1. Create a parent class `Animal` with a method `speak()` that prints a generic message. Create a child class `Dog` that overrides the `speak()` method to print \"Bark!\"."
            ]
        },
        {
            "cell_type": "code",
            "execution_count": 5,
            "metadata": {},
            "outputs": [
                {
                    "name": "stdout",
                    "output_type": "stream",
                    "text": [
                        "Calling speak() on Animal object:\n",
                        "A generic sound.\n",
                        "\n",
                        "Calling speak() on Dog object:\n",
                        "Bark!\n"
                    ]
                }
            ],
            "source": [
                "class Animal:\n",
                "    def speak(self):\n",
                "        print(\"A generic sound.\")\n",
                "\n",
                "class Dog(Animal):\n",
                "    # The Dog class overrides the speak() method from its parent, Animal.\n",
                "    def speak(self):\n",
                "        print(\"Bark!\")\n",
                "\n",
                "generic_animal = Animal()\n",
                "buddy_the_dog = Dog()\n",
                "\n",
                "print(\"Calling speak() on Animal object:\")\n",
                "generic_animal.speak() # Output: A generic sound.\n",
                "\n",
                "print(\"\\nCalling speak() on Dog object:\")\n",
                "buddy_the_dog.speak()  # Output: Bark!"
            ]
        },
        {
            "cell_type": "markdown",
            "metadata": {},
            "source": [
                "### 2. Write a program to create an abstract class `Shape` with a method `area()`. Derive classes `Circle` and `Rectangle` from it and implement the `area()` method in both."
            ]
        },
        {
            "cell_type": "code",
            "execution_count": 6,
            "metadata": {},
            "outputs": [
                {
                    "name": "stdout",
                    "output_type": "stream",
                    "text": [
                        "Area of the circle with radius 5: 78.54\n",
                        "Area of the rectangle with width 4 and height 6: 24\n",
                        "\n",
                        "Error when trying to instantiate Shape: Can't instantiate abstract class Shape with abstract method area\n"
                    ]
                }
            ],
            "source": [
                "# Import the abstract base class module\n",
                "from abc import ABC, abstractmethod\n",
                "import math\n",
                "\n",
                "# Create an abstract class Shape that inherits from ABC\n",
                "class Shape(ABC):\n",
                "    @abstractmethod\n",
                "    def area(self):\n",
                "        # This method has no implementation and must be overridden by child classes.\n",
                "        pass\n",
                "\n",
                "class Circle(Shape):\n",
                "    def __init__(self, radius):\n",
                "        if radius <= 0:\n",
                "            raise ValueError(\"Radius must be a positive number.\")\n",
                "        self.radius = radius\n",
                "\n",
                "    def area(self):\n",
                "        # Implement the area method for a circle.\n",
                "        return math.pi * (self.radius ** 2)\n",
                "\n",
                "class Rectangle(Shape):\n",
                "    def __init__(self, width, height):\n",
                "        if width <= 0 or height <= 0:\n",
                "            raise ValueError(\"Width and height must be positive numbers.\")\n",
                "        self.width = width\n",
                "        self.height = height\n",
                "\n",
                "    def area(self):\n",
                "        # Implement the area method for a rectangle.\n",
                "        return self.width * self.height\n",
                "\n",
                "# Test cases\n",
                "circle = Circle(5)\n",
                "rectangle = Rectangle(4, 6)\n",
                "\n",
                "print(f\"Area of the circle with radius 5: {circle.area():.2f}\")\n",
                "print(f\"Area of the rectangle with width 4 and height 6: {rectangle.area()}\")\n",
                "\n",
                "# This will raise a TypeError because you cannot instantiate an abstract class.\n",
                "try:\n",
                "    abstract_shape = Shape()\n",
                "except TypeError as e:\n",
                "    print(f\"\\nError when trying to instantiate Shape: {e}\")"
            ]
        },
        {
            "cell_type": "markdown",
            "metadata": {},
            "source": [
                "### 3. Implement a multi-level inheritance scenario where a class `Vehicle` has an attribute `type`. Derive a class `Car` and further derive a class `ElectricCar` that adds a `battery` attribute."
            ]
        },
        {
            "cell_type": "code",
            "execution_count": 7,
            "metadata": {},
            "outputs": [
                {
                    "name": "stdout",
                    "output_type": "stream",
                    "text": [
                        "This is a car vehicle.\n",
                        "It is a Tesla Model S.\n",
                        "It is an electric car with a 100 kWh battery.\n",
                        "Vehicle type: car\n",
                        "Car brand and model: Tesla Model S\n",
                        "Battery capacity: 100 kWh\n"
                    ]
                }
            ],
            "source": [
                "# Parent class\n",
                "class Vehicle:\n",
                "    def __init__(self, vehicle_type):\n",
                "        self.type = vehicle_type\n",
                "\n",
                "    def get_vehicle_info(self):\n",
                "        return f\"This is a {self.type} vehicle.\"\n",
                "\n",
                "# Child class inherits from Vehicle\n",
                "class Car(Vehicle):\n",
                "    def __init__(self, brand, model):\n",
                "        # Call the parent class constructor to initialize the \"type\" attribute\n",
                "        super().__init__(\"car\")\n",
                "        self.brand = brand\n",
                "        self.model = model\n",
                "\n",
                "    def get_car_info(self):\n",
                "        return f\"It is a {self.brand} {self.model}.\"\n",
                "\n",
                "# Grandchild class inherits from Car\n",
                "class ElectricCar(Car):\n",
                "    def __init__(self, brand, model, battery_capacity):\n",
                "        # Call the parent class (Car) constructor\n",
                "        super().__init__(brand, model)\n",
                "        self.battery = battery_capacity # New attribute for ElectricCar\n",
                "\n",
                "    def get_electric_car_info(self):\n",
                "        return f\"It is an electric car with a {self.battery} kWh battery.\"\n",
                "\n",
                "# Test cases\n",
                "my_electric_car = ElectricCar(\"Tesla\", \"Model S\", 100)\n",
                "\n",
                "# The object can access methods from all levels of the hierarchy\n",
                "print(my_electric_car.get_vehicle_info()) # From Vehicle class\n",
                "print(my_electric_car.get_car_info())     # From Car class\n",
                "print(my_electric_car.get_electric_car_info()) # From ElectricCar class\n",
                "\n",
                "# Accessing attributes from all levels\n",
                "print(f\"Vehicle type: {my_electric_car.type}\")\n",
                "print(f\"Car brand and model: {my_electric_car.brand} {my_electric_car.model}\")\n",
                "print(f\"Battery capacity: {my_electric_car.battery} kWh\")"
            ]
        },
        {
            "cell_type": "markdown",
            "metadata": {},
            "source": [
                "### 4. Demonstrate polymorphism by creating a base class `Bird` with a method `fly()`. Create two derived classes `Sparrow` and `Penguin` that override the `fly()` method."
            ]
        },
        {
            "cell_type": "code",
            "execution_count": 8,
            "metadata": {},
            "outputs": [
                {
                    "name": "stdout",
                    "output_type": "stream",
                    "text": [
                        "Demonstrating Polymorphism:\n",
                        "The bird flies through the air.\n",
                        "The sparrow is soaring high.\n",
                        "The penguin cannot fly, but it can swim!\n"
                    ]
                }
            ],
            "source": [
                "class Bird:\n",
                "    def fly(self):\n",
                "        print(\"The bird flies through the air.\")\n",
                "\n",
                "class Sparrow(Bird):\n",
                "    # Sparrow overrides the fly() method to provide a specific implementation.\n",
                "    def fly(self):\n",
                "        print(\"The sparrow is soaring high.\")\n",
                "\n",
                "class Penguin(Bird):\n",
                "    # Penguin overrides the fly() method to provide its own specific behavior.\n",
                "    def fly(self):\n",
                "        print(\"The penguin cannot fly, but it can swim!\")\n",
                "\n",
                "# A function that can take any Bird object\n",
                "def make_it_fly(bird):\n",
                "    bird.fly() # The behavior of fly() depends on the type of object passed in.\n",
                "\n",
                "# Test cases\n",
                "generic_bird = Bird()\n",
                "sparrow = Sparrow()\n",
                "penguin = Penguin()\n",
                "\n",
                "print(\"Demonstrating Polymorphism:\")\n",
                "make_it_fly(generic_bird) # Output: The bird flies through the air.\n",
                "make_it_fly(sparrow)      # Output: The sparrow is soaring high.\n",
                "make_it_fly(penguin)      # Output: The penguin cannot fly, but it can swim!"
            ]
        },
        {
            "cell_type": "markdown",
            "metadata": {},
            "source": [
                "### 5. Write a program to demonstrate encapsulation by creating a class `BankAccount` with private attributes `balance` and methods to `deposit`, `withdraw`, and `check balance`."
            ]
        },
        {
            "cell_type": "code",
            "execution_count": 9,
            "metadata": {},
            "outputs": [
                {
                    "name": "stdout",
                    "output_type": "stream",
                    "text": [
                        "Deposited 50.00. New balance is 150.50.\n",
                        "Withdrew 20.00. New balance is 130.50.\n",
                        "Insufficient funds.\n",
                        "Current balance: 130.50\n",
                        "\n",
                        "Error when trying to access __balance directly: 'BankAccount' object has no attribute '__balance'\n"
                    ]
                }
            ],
            "source": [
                "class BankAccount:\n",
                "    def __init__(self, initial_balance):\n",
                "        # Private attribute __balance using name mangling\n",
                "        self.__balance = initial_balance\n",
                "\n",
                "    def deposit(self, amount):\n",
                "        if amount > 0:\n",
                "            self.__balance += amount\n",
                "            print(f\"Deposited {amount:.2f}. New balance is {self.__balance:.2f}.\")\n",
                "        else:\n",
                "            print(\"Deposit amount must be positive.\")\n",
                "\n",
                "    def withdraw(self, amount):\n",
                "        if 0 < amount <= self.__balance:\n",
                "            self.__balance -= amount\n",
                "            print(f\"Withdrew {amount:.2f}. New balance is {self.__balance:.2f}.\")\n",
                "        elif amount > self.__balance:\n",
                "            print(\"Insufficient funds.\")\n",
                "        else:\n",
                "            print(\"Withdrawal amount must be positive.\")\n",
                "\n",
                "    def get_balance(self):\n",
                "        # This is a public method to access the private attribute.\n",
                "        return self.__balance\n",
                "\n",
                "# Test cases\n",
                "account = BankAccount(100.50)\n",
                "\n",
                "account.deposit(50.00)\n",
                "account.withdraw(20.00)\n",
                "account.withdraw(200.00) # Should fail\n",
                "\n",
                "print(f\"Current balance: {account.get_balance():.2f}\")\n",
                "\n",
                "# Attempting to access the private attribute directly will result in an AttributeError.\n",
                "try:\n",
                "    print(account.__balance)\n",
                "except AttributeError as e:\n",
                "    print(f\"\\nError when trying to access __balance directly: {e}\")"
            ]
        },
        {
            "cell_type": "markdown",
            "metadata": {},
            "source": [
                "### 6. Demonstrate runtime polymorphism using a method `play()` in a base class `Instrument`. Derive classes `Guitar` and `Piano` that implement their own version of `play()`."
            ]
        },
        {
            "cell_type": "code",
            "execution_count": 10,
            "metadata": {},
            "outputs": [
                {
                    "name": "stdout",
                    "output_type": "stream",
                    "text": [
                        "Calling make_it_play() with different objects:\n",
                        "The instrument is making a sound.\n",
                        "Strumming the guitar strings.\n",
                        "Pressing the piano keys.\n"
                    ]
                }
            ],
            "source": [
                "class Instrument:\n",
                "    def play(self):\n",
                "        # Base implementation of the play method\n",
                "        print(\"The instrument is making a sound.\")\n",
                "\n",
                "class Guitar(Instrument):\n",
                "    def play(self):\n",
                "        # Override the play method for Guitar\n",
                "        print(\"Strumming the guitar strings.\")\n",
                "\n",
                "class Piano(Instrument):\n",
                "    def play(self):\n",
                "        # Override the play method for Piano\n",
                "        print(\"Pressing the piano keys.\")\n",
                "\n",
                "# Function to demonstrate runtime polymorphism\n",
                "def make_it_play(instrument):\n",
                "    # This function doesn't care about the specific type of instrument,\n",
                "    # as long as it has a play() method.\n",
                "    instrument.play()\n",
                "\n",
                "# Test cases\n",
                "instrument = Instrument()\n",
                "guitar = Guitar()\n",
                "piano = Piano()\n",
                "\n",
                "print(\"Calling make_it_play() with different objects:\")\n",
                "make_it_play(instrument)\n",
                "make_it_play(guitar)\n",
                "make_it_play(piano)"
            ]
        },
        {
            "cell_type": "markdown",
            "metadata": {},
            "source": [
                "### 7. Create a class `MathOperations` with a class method `add_numbers()` to add two numbers and a static method `subtract_numbers()` to subtract two numbers."
            ]
        },
        {
            "cell_type": "code",
            "execution_count": 11,
            "metadata": {},
            "outputs": [
                {
                    "name": "stdout",
                    "output_type": "stream",
                    "text": [
                        "Sum of 10 and 5: 15\n",
                        "Total operations performed: 1\n",
                        "Difference of 20 and 8: 12\n",
                        "Total operations performed: 2\n"
                    ]
                }
            ],
            "source": [
                "class MathOperations:\n",
                "    # Class variable to keep track of a class-level state (optional, for demonstration)\n",
                "    operation_count = 0\n",
                "\n",
                "    @classmethod\n",
                "    def add_numbers(cls, a, b):\n",
                "        \"\"\"A class method to add two numbers and update a class variable.\"\"\"\n",
                "        cls.operation_count += 1\n",
                "        return a + b\n",
                "\n",
                "    @staticmethod\n",
                "    def subtract_numbers(a, b):\n",
                "        \"\"\"A static method to subtract two numbers.\"\"\"\n",
                "        # This method cannot access class or instance variables like operation_count.\n",
                "        return a - b\n",
                "\n",
                "# Test cases\n",
                "# Call class method using the class name\n",
                "sum_result = MathOperations.add_numbers(10, 5)\n",
                "print(f\"Sum of 10 and 5: {sum_result}\")\n",
                "print(f\"Total operations performed: {MathOperations.operation_count}\")\n",
                "\n",
                "# Call static method using the class name\n",
                "diff_result = MathOperations.subtract_numbers(20, 8)\n",
                "print(f\"Difference of 20 and 8: {diff_result}\")\n",
                "\n",
                "# Call class method again to see the counter update\n",
                "MathOperations.add_numbers(1, 2)\n",
                "print(f\"Total operations performed: {MathOperations.operation_count}\")"
            ]
        },
        {
            "cell_type": "markdown",
            "metadata": {},
            "source": [
                "### 8. Implement a class `Person` with a class method to count the total number of persons created."
            ]
        },
        {
            "cell_type": "code",
            "execution_count": 12,
            "metadata": {},
            "outputs": [
                {
                    "name": "stdout",
                    "output_type": "stream",
                    "text": [
                        "Current person count: 1\n",
                        "Current person count: 3\n",
                        "Number of persons created: 3\n"
                    ]
                }
            ],
            "source": [
                "class Person:\n",
                "    # This is a class variable, shared by all instances.\n",
                "    number_of_persons = 0\n",
                "\n",
                "    def __init__(self, name):\n",
                "        self.name = name\n",
                "        # Increment the class variable every time a new instance is created.\n",
                "        Person.number_of_persons += 1\n",
                "\n",
                "    @classmethod\n",
                "    def get_person_count(cls):\n",
                "        # A class method to access the class variable.\n",
                "        return cls.number_of_persons\n",
                "\n",
                "# Test cases\n",
                "p1 = Person(\"Alice\")\n",
                "print(f\"Current person count: {Person.get_person_count()}\") # Expected: 1\n",
                "\n",
                "p2 = Person(\"Bob\")\n",
                "p3 = Person(\"Charlie\")\n",
                "print(f\"Current person count: {Person.get_person_count()}\") # Expected: 3\n",
                "\n",
                "print(f\"Number of persons created: {Person.number_of_persons}\")"
            ]
        },
        {
            "cell_type": "markdown",
            "metadata": {},
            "source": [
                "### 9. Write a class `Fraction` with attributes `numerator` and `denominator`. Override the `__str__` method to display the fraction as \"numerator/denominator\"."
            ]
        },
        {
            "cell_type": "code",
            "execution_count": 13,
            "metadata": {},
            "outputs": [
                {
                    "name": "stdout",
                    "output_type": "stream",
                    "text": [
                        "Fraction object: 3/4\n",
                        "3/4\n",
                        "1/2\n"
                    ]
                }
            ],
            "source": [
                "class Fraction:\n",
                "    def __init__(self, numerator, denominator):\n",
                "        if denominator == 0:\n",
                "            raise ZeroDivisionError(\"Denominator cannot be zero.\")\n",
                "        self.numerator = numerator\n",
                "        self.denominator = denominator\n",
                "\n",
                "    def __str__(self):\n",
                "        # The __str__ method is used by the print() function.\n",
                "        return f\"{self.numerator}/{self.denominator}\"\n",
                "\n",
                "# Test cases\n",
                "fraction1 = Fraction(3, 4)\n",
                "print(f\"Fraction object: {fraction1}\") # This will call the __str__ method\n",
                "print(str(fraction1)) # str() also calls __str__\n",
                "\n",
                "fraction2 = Fraction(1, 2)\n",
                "print(fraction2)"
            ]
        },
        {
            "cell_type": "markdown",
            "metadata": {},
            "source": [
                "### 10. Demonstrate operator overloading by creating a class `Vector` and overriding the `__add__` method to add two vectors."
            ]
        },
        {
            "cell_type": "code",
            "execution_count": 14,
            "metadata": {},
            "outputs": [
                {
                    "name": "stdout",
                    "output_type": "stream",
                    "text": [
                        "Vector 1: Vector(2, 3)\n",
                        "Vector 2: Vector(5, 7)\n",
                        "Result of v1 + v2: Vector(7, 10)\n"
                    ]
                }
            ],
            "source": [
                "class Vector:\n",
                "    def __init__(self, x, y):\n",
                "        self.x = x\n",
                "        self.y = y\n",
                "\n",
                "    def __str__(self):\n",
                "        return f\"Vector({self.x}, {self.y})\"\n",
                "\n",
                "    def __add__(self, other):\n",
                "        \"\"\"\n",
                "        Overrides the '+' operator for Vector objects.\n",
                "        It creates a new Vector object by adding the x and y components.\n",
                "        \"\"\"\n",
                "        if isinstance(other, Vector):\n",
                "            new_x = self.x + other.x\n",
                "            new_y = self.y + other.y\n",
                "            return Vector(new_x, new_y)\n",
                "        else:\n",
                "            raise TypeError(\"Unsupported operand type for +: 'Vector' and '{}'\".format(type(other).__name__))\n",
                "\n",
                "# Test cases\n",
                "v1 = Vector(2, 3)\n",
                "v2 = Vector(5, 7)\n",
                "\n",
                "print(f\"Vector 1: {v1}\")\n",
                "print(f\"Vector 2: {v2}\")\n",
                "\n",
                "# The '+' operator now calls the __add__ method\n",
                "v3 = v1 + v2\n",
                "print(f\"Result of v1 + v2: {v3}\") # Expected: Vector(7, 10)"
            ]
        },
        {
            "cell_type": "markdown",
            "metadata": {},
            "source": [
                "### 11. Create a class `Person` with attributes `name` and `age`. Add a method `greet()` that prints \"Hello, my name is {name} and I am {age} years old.\""
            ]
        },
        {
            "cell_type": "code",
            "execution_count": 15,
            "metadata": {},
            "outputs": [
                {
                    "name": "stdout",
                    "output_type": "stream",
                    "text": [
                        "Hello, my name is John Doe and I am 30 years old.\n",
                        "Hello, my name is Jane Smith and I am 25 years old.\n"
                    ]
                }
            ],
            "source": [
                "class Person:\n",
                "    def __init__(self, name, age):\n",
                "        self.name = name\n",
                "        self.age = age\n",
                "\n",
                "    def greet(self):\n",
                "        print(f\"Hello, my name is {self.name} and I am {self.age} years old.\")\n",
                "\n",
                "# Test cases\n",
                "person1 = Person(\"John Doe\", 30)\n",
                "person1.greet() # Expected: Hello, my name is John Doe and I am 30 years old.\n",
                "\n",
                "person2 = Person(\"Jane Smith\", 25)\n",
                "person2.greet()"
            ]
        },
        {
            "cell_type": "markdown",
            "metadata": {},
            "source": [
                "### 12. Implement a class `Student` with attributes `name` and `grades`. Create a method `average_grade()` to compute the average of the grades."
            ]
        },
        {
            "cell_type": "code",
            "execution_count": 16,
            "metadata": {},
            "outputs": [
                {
                    "name": "stdout",
                    "output_type": "stream",
                    "text": [
                        "The average grade for Alice is: 86.25\n",
                        "The average grade for Bob is: 70.00\n",
                        "The average grade for Charlie is: 0.00\n"
                    ]
                }
            ],
            "source": [
                "class Student:\n",
                "    def __init__(self, name, grades):\n",
                "        self.name = name\n",
                "        self.grades = grades # grades should be a list of numbers\n",
                "\n",
                "    def average_grade(self):\n",
                "        if not self.grades:\n",
                "            return 0 # Handle the case of an empty grades list\n",
                "        return sum(self.grades) / len(self.grades)\n",
                "\n",
                "# Test cases\n",
                "student1 = Student(\"Alice\", [85, 90, 78, 92])\n",
                "print(f\"The average grade for {student1.name} is: {student1.average_grade():.2f}\")\n",
                "\n",
                "student2 = Student(\"Bob\", [60, 70, 80])\n",
                "print(f\"The average grade for {student2.name} is: {student2.average_grade():.2f}\")\n",
                "\n",
                "student3 = Student(\"Charlie\", [])\n",
                "print(f\"The average grade for {student3.name} is: {student3.average_grade():.2f}\")"
            ]
        },
        {
            "cell_type": "markdown",
            "metadata": {},
            "source": [
                "### 13. Create a class `Rectangle` with methods `set_dimensions()` to set the dimensions and `area()` to calculate the area."
            ]
        },
        {
            "cell_type": "code",
            "execution_count": 17,
            "metadata": {},
            "outputs": [
                {
                    "name": "stdout",
                    "output_type": "stream",
                    "text": [
                        "The area of the rectangle is: 50\n",
                        "The new area is: 56\n"
                    ]
                }
            ],
            "source": [
                "class Rectangle:\n",
                "    def __init__(self):\n",
                "        self.width = 0\n",
                "        self.height = 0\n",
                "\n",
                "    def set_dimensions(self, width, height):\n",
                "        self.width = width\n",
                "        self.height = height\n",
                "\n",
                "    def area(self):\n",
                "        return self.width * self.height\n",
                "\n",
                "# Test cases\n",
                "rectangle = Rectangle()\n",
                "rectangle.set_dimensions(10, 5)\n",
                "print(f\"The area of the rectangle is: {rectangle.area()}\") # Expected: 50\n",
                "\n",
                "# Change dimensions and recalculate area\n",
                "rectangle.set_dimensions(7, 8)\n",
                "print(f\"The new area is: {rectangle.area()}\") # Expected: 56"
            ]
        },
        {
            "cell_type": "markdown",
            "metadata": {},
            "source": [
                "### 14. Create a class `Employee` with a method `calculate_salary()` that computes the salary based on hours worked and hourly rate. Create a derived class `Manager` that adds a bonus to the salary."
            ]
        },
        {
            "cell_type": "code",
            "execution_count": 18,
            "metadata": {},
            "outputs": [
                {
                    "name": "stdout",
                    "output_type": "stream",
                    "text": [
                        "Employee Alice's salary for 160 hours: $4000.00\n",
                        "Manager Bob's salary for 160 hours: $5800.00\n"
                    ]
                }
            ],
            "source": [
                "class Employee:\n",
                "    def __init__(self, name, hourly_rate):\n",
                "        self.name = name\n",
                "        self.hourly_rate = hourly_rate\n",
                "\n",
                "    def calculate_salary(self, hours_worked):\n",
                "        return self.hourly_rate * hours_worked\n",
                "\n",
                "# Derived class Manager inherits from Employee\n",
                "class Manager(Employee):\n",
                "    def __init__(self, name, hourly_rate, bonus):\n",
                "        # Call the parent class constructor\n",
                "        super().__init__(name, hourly_rate)\n",
                "        self.bonus = bonus\n",
                "\n",
                "    def calculate_salary(self, hours_worked):\n",
                "        # Override the parent method and add the bonus\n",
                "        base_salary = super().calculate_salary(hours_worked)\n",
                "        return base_salary + self.bonus\n",
                "\n",
                "# Test cases\n",
                "employee = Employee(\"Alice\", 25.0)\n",
                "manager = Manager(\"Bob\", 30.0, 1000)\n",
                "\n",
                "employee_salary = employee.calculate_salary(160)\n",
                "manager_salary = manager.calculate_salary(160)\n",
                "\n",
                "print(f\"Employee {employee.name}'s salary for 160 hours: ${employee_salary:.2f}\") # Expected: $4000.00\n",
                "print(f\"Manager {manager.name}'s salary for 160 hours: ${manager_salary:.2f}\")   # Expected: $4800.00 + $1000 = $5800.00"
            ]
        },
        {
            "cell_type": "markdown",
            "metadata": {},
            "source": [
                "### 15. Create a class `Product` with attributes `name`, `price`, and `quantity`. Implement a method `total_price()` that calculates the total price of the product."
            ]
        },
        {
            "cell_type": "code",
            "execution_count": 19,
            "metadata": {},
            "outputs": [
                {
                    "name": "stdout",
                    "output_type": "stream",
                    "text": [
                        "Total price for 2 Laptops: $2400.00\n",
                        "Total price for 5 Mouses: $127.50\n"
                    ]
                }
            ],
            "source": [
                "class Product:\n",
                "    def __init__(self, name, price, quantity):\n",
                "        self.name = name\n",
                "        self.price = price\n",
                "        self.quantity = quantity\n",
                "\n",
                "    def total_price(self):\n",
                "        return self.price * self.quantity\n",
                "\n",
                "# Test cases\n",
                "product1 = Product(\"Laptop\", 1200.00, 2)\n",
                "print(f\"Total price for {product1.quantity} {product1.name}s: ${product1.total_price():.2f}\") # Expected: $2400.00\n",
                "\n",
                "product2 = Product(\"Mouse\", 25.50, 5)\n",
                "print(f\"Total price for {product2.quantity} {product2.name}s: ${product2.total_price():.2f}\") # Expected: $127.50"
            ]
        },
        {
            "cell_type": "markdown",
            "metadata": {},
            "source": [
                "### 16. Create a class `Animal` with an abstract method `sound()`. Create two derived classes `Cow` and `Sheep` that implement the `sound()` method."
            ]
        },
        {
            "cell_type": "code",
            "execution_count": 20,
            "metadata": {},
            "outputs": [
                {
                    "name": "stdout",
                    "output_type": "stream",
                    "text": [
                        "Moo!\n",
                        "Baa!\n"
                    ]
                }
            ],
            "source": [
                "from abc import ABC, abstractmethod\n",
                "\n",
                "class Animal(ABC):\n",
                "    @abstractmethod\n",
                "    def sound(self):\n",
                "        pass\n",
                "\n",
                "class Cow(Animal):\n",
                "    def sound(self):\n",
                "        print(\"Moo!\")\n",
                "\n",
                "class Sheep(Animal):\n",
                "    def sound(self):\n",
                "        print(\"Baa!\")\n",
                "\n",
                "# Test cases\n",
                "cow = Cow()\n",
                "sheep = Sheep()\n",
                "\n",
                "cow.sound()\n",
                "sheep.sound()"
            ]
        },
        {
            "cell_type": "markdown",
            "metadata": {},
            "source": [
                "### 17. Create a class `Book` with attributes `title`, `author`, and `year_published`. Add a method `get_book_info()` that returns a formatted string with the book's details."
            ]
        },
        {
            "cell_type": "code",
            "execution_count": 21,
            "metadata": {},
            "outputs": [
                {
                    "name": "stdout",
                    "output_type": "stream",
                    "text": [
                        "\"The Hitchhiker's Guide to the Galaxy\" by Douglas Adams, published in 1979.\n"
                    ]
                }
            ],
            "source": [
                "class Book:\n",
                "    def __init__(self, title, author, year_published):\n",
                "        self.title = title\n",
                "        self.author = author\n",
                "        self.year_published = year_published\n",
                "\n",
                "    def get_book_info(self):\n",
                "        return f\"\\\"{self.title}\\\" by {self.author}, published in {self.year_published}.\"\n",
                "\n",
                "# Test case\n",
                "book1 = Book(\"The Hitchhiker's Guide to the Galaxy\", \"Douglas Adams\", 1979)\n",
                "print(book1.get_book_info())"
            ]
        },
        {
            "cell_type": "markdown",
            "metadata": {},
            "source": [
                "### 18. Create a class `House` with attributes `address` and `price`. Create a derived class `Mansion` that adds an attribute `number_of_rooms`."
            ]
        },
        {
            "cell_type": "code",
            "execution_count": 22,
            "metadata": {},
            "outputs": [
                {
                    "name": "stdout",
                    "output_type": "stream",
                    "text": [
                        "House address: 123 Main St, price: $500,000\n",
                        "Mansion address: 456 Grand Ave, price: $5,000,000, rooms: 20\n"
                    ]
                }
            ],
            "source": [
                "class House:\n",
                "    def __init__(self, address, price):\n",
                "        self.address = address\n",
                "        self.price = price\n",
                "\n",
                "class Mansion(House):\n",
                "    def __init__(self, address, price, number_of_rooms):\n",
                "        # Call the parent class constructor\n",
                "        super().__init__(address, price)\n",
                "        # Add a new attribute specific to Mansion\n",
                "        self.number_of_rooms = number_of_rooms\n",
                "\n",
                "# Test cases\n",
                "house = House(\"123 Main St\", 500000)\n",
                "mansion = Mansion(\"456 Grand Ave\", 5000000, 20)\n",
                "\n",
                "print(f\"House address: {house.address}, price: ${house.price:,}\")\n",
                "print(f\"Mansion address: {mansion.address}, price: ${mansion.price:,}, rooms: {mansion.number_of_rooms}\")"
            ]
        }
    ],
    "metadata": {
        "colab": {
            "collapsed_sections": [],
            "name": "Python_OOPs_Assignment_Answers.ipynb",
            "provenance": []
        },
        "kernelspec": {
            "display_name": ".venv",
            "language": "python",
            "name": "python3"
        },
        "language_info": {
            "codemirror_mode": {
                "name": "ipython",
                "version": 3
            },
            "file_extension": ".py",
            "mimetype": "text/x-python",
            "name": "python",
            "nbconvert_exporter": "python",
            "pygments_lexer": "ipython3",
            "version": "3.11.9"
        }
    },
    "nbformat": 4,
    "nbformat_minor": 5
}
